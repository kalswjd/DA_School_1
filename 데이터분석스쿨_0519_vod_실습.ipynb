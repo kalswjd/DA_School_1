{
  "nbformat": 4,
  "nbformat_minor": 0,
  "metadata": {
    "colab": {
      "provenance": [],
      "authorship_tag": "ABX9TyOXc9MtJLZNTVzstIJxPNd+",
      "include_colab_link": true
    },
    "kernelspec": {
      "name": "python3",
      "display_name": "Python 3"
    },
    "language_info": {
      "name": "python"
    }
  },
  "cells": [
    {
      "cell_type": "markdown",
      "metadata": {
        "id": "view-in-github",
        "colab_type": "text"
      },
      "source": [
        "<a href=\"https://colab.research.google.com/github/kalswjd/DA_School_1/blob/main/%EB%8D%B0%EC%9D%B4%ED%84%B0%EB%B6%84%EC%84%9D%EC%8A%A4%EC%BF%A8_0519_vod_%EC%8B%A4%EC%8A%B5.ipynb\" target=\"_parent\"><img src=\"https://colab.research.google.com/assets/colab-badge.svg\" alt=\"Open In Colab\"/></a>"
      ]
    },
    {
      "cell_type": "code",
      "execution_count": 2,
      "metadata": {
        "colab": {
          "base_uri": "https://localhost:8080/"
        },
        "id": "uGcXcoZmUKLh",
        "outputId": "8b506ba8-3c40-4fa3-fe6d-a4634ea476bb"
      },
      "outputs": [
        {
          "output_type": "stream",
          "name": "stdout",
          "text": [
            "제육볶음\n"
          ]
        }
      ],
      "source": [
        "import random\n",
        "\n",
        "print(random.choice(['된장찌개','피자','제육볶음']))"
      ]
    },
    {
      "cell_type": "code",
      "execution_count": 7,
      "metadata": {
        "colab": {
          "base_uri": "https://localhost:8080/"
        },
        "outputId": "49c27bcc-f42e-459b-9f14-134d954f9462",
        "id": "PQE2tvAEWxA-"
      },
      "outputs": [
        {
          "output_type": "stream",
          "name": "stdout",
          "text": [
            "떡볶이\n"
          ]
        }
      ],
      "source": [
        "import random\n",
        "\n",
        "print(random.choice(['된장찌개','피자','제육볶음','치킨','떡볶이']))"
      ]
    },
    {
      "cell_type": "code",
      "source": [
        "for i in range(30):\n",
        "    food = random.choice(['된장찌개','피자','치킨','떡볶이','라면','감튀'])\n",
        "   print(food)"
      ],
      "metadata": {
        "colab": {
          "base_uri": "https://localhost:8080/"
        },
        "id": "RwmiIwMUWONd",
        "outputId": "267b35cf-89d3-4816-8401-e0a558dc5c30"
      },
      "execution_count": 11,
      "outputs": [
        {
          "output_type": "stream",
          "name": "stdout",
          "text": [
            "감튀\n",
            "치킨\n",
            "감튀\n",
            "치킨\n",
            "떡볶이\n",
            "감튀\n",
            "치킨\n",
            "라면\n",
            "피자\n",
            "피자\n",
            "된장찌개\n",
            "피자\n",
            "감튀\n",
            "피자\n",
            "피자\n",
            "감튀\n",
            "된장찌개\n",
            "라면\n",
            "라면\n",
            "치킨\n",
            "피자\n",
            "된장찌개\n",
            "치킨\n",
            "된장찌개\n",
            "피자\n",
            "떡볶이\n",
            "감튀\n",
            "떡볶이\n",
            "된장찌개\n",
            "된장찌개\n"
          ]
        }
      ]
    },
    {
      "cell_type": "code",
      "source": [
        "import time\n",
        "\n",
        "while True:\n",
        "    food = random.choice(['된장찌개','피자','치킨','떡볶이','라면','감튀'])\n",
        "    print(food)\n",
        "    break\n",
        "    time.sleep(1)"
      ],
      "metadata": {
        "colab": {
          "base_uri": "https://localhost:8080/"
        },
        "id": "O4aHIpxWXDhH",
        "outputId": "423101a4-b271-4a41-859e-0c1637091556"
      },
      "execution_count": 12,
      "outputs": [
        {
          "output_type": "stream",
          "name": "stdout",
          "text": [
            "치킨\n"
          ]
        }
      ]
    },
    {
      "cell_type": "code",
      "source": [
        "import random\n",
        "\n",
        "lunch = print(random.choice(['된장찌개','피자','제육']))\n",
        "dinner = print(random.choice(['김밥','쫄면','돈까스']))\n"
      ],
      "metadata": {
        "colab": {
          "base_uri": "https://localhost:8080/"
        },
        "id": "Ub7G12siZDiM",
        "outputId": "d8b38748-7c00-4fa7-bdeb-4c9ea95b6841"
      },
      "execution_count": 13,
      "outputs": [
        {
          "output_type": "stream",
          "name": "stdout",
          "text": [
            "제육\n",
            "쫄면\n"
          ]
        }
      ]
    },
    {
      "cell_type": "code",
      "source": [
        "import random\n",
        "import time\n",
        "\n",
        "lunch = [\"된장찌개\", \"피자\", \"제육볶음\", \"짜장면\"]\n",
        "\n",
        "while True:\n",
        "    print(lunch)\n",
        "    item = input('음식을 추가해줘:')\n",
        "    if item == 'q':\n",
        "        break\n",
        "    else:\n",
        "        lunch.append(item)\n",
        "print(lunch)\n",
        "\n",
        "set_lunch = set(lunch)\n",
        "while True:\n",
        "    print(set_lunch)\n",
        "    item = input('음식을 삭제해줘:')\n",
        "    if item == 'q':\n",
        "        break\n",
        "    else:\n",
        "        set_lunch = set_lunch - set([item])\n",
        "\n",
        "print(set_lunch,'중에서 선택합니다')\n",
        "print('5')\n",
        "time.sleep(1)\n",
        "print(\"4\")\n",
        "time.sleep(1)\n",
        "print(\"3\")\n",
        "time.sleep(1)\n",
        "print(\"2\")\n",
        "time.sleep(1)\n",
        "print(\"1\")\n",
        "time.sleep(1)\n",
        "print(random.choice(list(set_lunch)))"
      ],
      "metadata": {
        "colab": {
          "base_uri": "https://localhost:8080/"
        },
        "id": "JWAnJ9xHZ1sd",
        "outputId": "cd1058e0-d41b-420d-9802-7a738dff75aa"
      },
      "execution_count": 15,
      "outputs": [
        {
          "output_type": "stream",
          "name": "stdout",
          "text": [
            "['된장찌개', '피자', '제육볶음', '짜장면']\n",
            "음식을 추가해줘:q\n",
            "['된장찌개', '피자', '제육볶음', '짜장면']\n",
            "{'된장찌개', '제육볶음', '피자', '짜장면'}\n",
            "음식을 삭제해줘:q\n",
            "{'된장찌개', '제육볶음', '피자', '짜장면'} 중에서 선택합니다\n",
            "5\n",
            "4\n",
            "3\n",
            "2\n",
            "1\n",
            "된장찌개\n"
          ]
        }
      ]
    },
    {
      "cell_type": "code",
      "source": [
        "total_dictionary = {}\n",
        "\n",
        "while True:\n",
        "    question = input('질문을 입력해주세요:')\n",
        "    if question == 'q':\n",
        "        break\n",
        "    else:\n",
        "        total_dictionary[question] = ''\n",
        "\n",
        "for i in total_dictionary:\n",
        "    print(i)\n",
        "    answer = input('답변을 입력해주세요:')\n",
        "    total_dictionary[i] = answer\n",
        "\n",
        "print(total_dictionary)"
      ],
      "metadata": {
        "colab": {
          "base_uri": "https://localhost:8080/"
        },
        "id": "MFk1ZMGFqVAP",
        "outputId": "6a96be64-91ca-46cf-bca1-821e6702f89d"
      },
      "execution_count": 18,
      "outputs": [
        {
          "output_type": "stream",
          "name": "stdout",
          "text": [
            "질문을 입력해주세요:좋아하는 음식\n",
            "질문을 입력해주세요:취미\n",
            "질문을 입력해주세요:q\n",
            "좋아하는 음식\n",
            "답변을 입력해주세요:피자\n",
            "취미\n",
            "답변을 입력해주세요:영화\n",
            "{'좋아하는 음식': '피자', '취미': '영화'}\n"
          ]
        }
      ]
    },
    {
      "cell_type": "code",
      "source": [
        "total_list = []\n",
        "\n",
        "while True:\n",
        "    question = input('질문을 입력해주세요:')\n",
        "    if question == 'q':\n",
        "        break\n",
        "    else:\n",
        "        total_list.append({'질문': question, '답변': ''})\n",
        "\n",
        "for i in total_list:\n",
        "    print(i['질문'])\n",
        "    answer = input('답변을 입력해주세요:')\n",
        "    i['답변'] = answer\n",
        "\n",
        "print(total_list)"
      ],
      "metadata": {
        "colab": {
          "base_uri": "https://localhost:8080/"
        },
        "outputId": "d272f98c-7811-41e7-fd64-dd6e15fa08a7",
        "id": "qQGzQqZzzRNY"
      },
      "execution_count": 19,
      "outputs": [
        {
          "output_type": "stream",
          "name": "stdout",
          "text": [
            "질문을 입력해주세요:취미\n",
            "질문을 입력해주세요:특기\n",
            "질문을 입력해주세요:q\n",
            "취미\n",
            "답변을 입력해주세요:농구\n",
            "특기\n",
            "답변을 입력해주세요:축구\n",
            "[{'질문': '취미', '답변': '농구'}, {'질문': '특기', '답변': '축구'}]\n"
          ]
        }
      ]
    },
    {
      "cell_type": "code",
      "source": [],
      "metadata": {
        "id": "JZx_EnShx9uR"
      },
      "execution_count": null,
      "outputs": []
    }
  ]
}