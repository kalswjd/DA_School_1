{
  "nbformat": 4,
  "nbformat_minor": 0,
  "metadata": {
    "colab": {
      "provenance": [],
      "authorship_tag": "ABX9TyNc+uF9qXfrSK2y5WU2ZIDR",
      "include_colab_link": true
    },
    "kernelspec": {
      "name": "python3",
      "display_name": "Python 3"
    },
    "language_info": {
      "name": "python"
    }
  },
  "cells": [
    {
      "cell_type": "markdown",
      "metadata": {
        "id": "view-in-github",
        "colab_type": "text"
      },
      "source": [
        "<a href=\"https://colab.research.google.com/github/kalswjd/DA_School_1/blob/main/Python_100%EC%A0%9C__%EB%82%B4%ED%92%80%EC%9D%B4.ipynb\" target=\"_parent\"><img src=\"https://colab.research.google.com/assets/colab-badge.svg\" alt=\"Open In Colab\"/></a>"
      ]
    },
    {
      "cell_type": "markdown",
      "source": [
        "# Python 100제"
      ],
      "metadata": {
        "id": "Z-DyeYkFufK4"
      }
    },
    {
      "cell_type": "markdown",
      "source": [
        "https://pythonworkbook.notion.site/Python-100-1-abeccbfd8175483da1ed96642640c687"
      ],
      "metadata": {
        "id": "ow3WygAmu056"
      }
    },
    {
      "cell_type": "markdown",
      "source": [
        "##001"
      ],
      "metadata": {
        "id": "hk9eNY4jupGV"
      }
    },
    {
      "cell_type": "code",
      "execution_count": 3,
      "metadata": {
        "colab": {
          "base_uri": "https://localhost:8080/"
        },
        "id": "jOZluvgQn1-H",
        "outputId": "a71b2a9d-7899-4bf8-9fc6-746c4f371b1d"
      },
      "outputs": [
        {
          "output_type": "stream",
          "name": "stdout",
          "text": [
            "[100, 200, 300]\n"
          ]
        }
      ],
      "source": [
        "nums = [100, 200, 300, 400, 500]\n",
        "nums.pop()\n",
        "nums.pop()\n",
        "\n",
        "print(nums)"
      ]
    },
    {
      "cell_type": "markdown",
      "source": [
        "##002"
      ],
      "metadata": {
        "id": "QYAb1QMqvN5X"
      }
    },
    {
      "cell_type": "code",
      "source": [
        "l = [200, 100, 300]\n",
        "l.insert(2,10000)\n",
        "print(l)"
      ],
      "metadata": {
        "colab": {
          "base_uri": "https://localhost:8080/"
        },
        "id": "RVx8uTY5vCEC",
        "outputId": "d863f817-6ef3-49fd-f9ef-7eabfa802dd9"
      },
      "execution_count": 5,
      "outputs": [
        {
          "output_type": "stream",
          "name": "stdout",
          "text": [
            "[200, 100, 10000, 300]\n"
          ]
        }
      ]
    },
    {
      "cell_type": "markdown",
      "source": [
        "##005"
      ],
      "metadata": {
        "id": "DLcZ8Et-wG2y"
      }
    },
    {
      "cell_type": "code",
      "source": [
        "a = 10\n",
        "b = 2\n",
        "for i in range(1, 5, 2):\n",
        "    a += i\n",
        "\n",
        "print(a + b)"
      ],
      "metadata": {
        "colab": {
          "base_uri": "https://localhost:8080/"
        },
        "id": "22dXIp5Zvnsh",
        "outputId": "14671033-b253-421c-9522-1c686620fa79"
      },
      "execution_count": 6,
      "outputs": [
        {
          "output_type": "stream",
          "name": "stdout",
          "text": [
            "16\n"
          ]
        }
      ]
    },
    {
      "cell_type": "markdown",
      "source": [
        "##010"
      ],
      "metadata": {
        "id": "VyG8y-c5BeR8"
      }
    }
  ]
}