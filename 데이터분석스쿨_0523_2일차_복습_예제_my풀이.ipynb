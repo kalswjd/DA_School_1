{
  "nbformat": 4,
  "nbformat_minor": 0,
  "metadata": {
    "colab": {
      "provenance": [],
      "authorship_tag": "ABX9TyM57TzlPwxtUKuOil6vwvZi",
      "include_colab_link": true
    },
    "kernelspec": {
      "name": "python3",
      "display_name": "Python 3"
    },
    "language_info": {
      "name": "python"
    }
  },
  "cells": [
    {
      "cell_type": "markdown",
      "metadata": {
        "id": "view-in-github",
        "colab_type": "text"
      },
      "source": [
        "<a href=\"https://colab.research.google.com/github/kalswjd/DA_School_1/blob/main/%08%EB%8D%B0%EC%9D%B4%ED%84%B0%EB%B6%84%EC%84%9D%EC%8A%A4%EC%BF%A8_0523_2%E1%84%8B%E1%85%B5%E1%86%AF%E1%84%8E%E1%85%A1_%E1%84%87%E1%85%A9%E1%86%A8%E1%84%89%E1%85%B3%E1%86%B8_%E1%84%8B%E1%85%A8%E1%84%8C%E1%85%A6_my%ED%92%80%EC%9D%B4.ipynb\" target=\"_parent\"><img src=\"https://colab.research.google.com/assets/colab-badge.svg\" alt=\"Open In Colab\"/></a>"
      ]
    },
    {
      "cell_type": "code",
      "execution_count": 1,
      "metadata": {
        "id": "njMKmXIKgIOU"
      },
      "outputs": [],
      "source": [
        "import numpy as np"
      ]
    },
    {
      "cell_type": "code",
      "source": [
        "z=np.zeros(10)"
      ],
      "metadata": {
        "id": "Q_LVlBV1j-Pp"
      },
      "execution_count": 3,
      "outputs": []
    },
    {
      "cell_type": "code",
      "source": [
        "print(z)"
      ],
      "metadata": {
        "colab": {
          "base_uri": "https://localhost:8080/"
        },
        "id": "14N1gjEVkGRz",
        "outputId": "87630ee0-e9e8-4c11-ba7b-5f961c074624"
      },
      "execution_count": 4,
      "outputs": [
        {
          "output_type": "stream",
          "name": "stdout",
          "text": [
            "[0. 0. 0. 0. 0. 0. 0. 0. 0. 0.]\n"
          ]
        }
      ]
    },
    {
      "cell_type": "code",
      "source": [
        "a=np.array([range(10,50)])"
      ],
      "metadata": {
        "id": "YD218bzikU86"
      },
      "execution_count": 6,
      "outputs": []
    },
    {
      "cell_type": "code",
      "source": [
        "print(a)"
      ],
      "metadata": {
        "colab": {
          "base_uri": "https://localhost:8080/"
        },
        "id": "HEhzzETCkrCG",
        "outputId": "0bc99f70-d112-46cb-ad65-1dd54d7edf6e"
      },
      "execution_count": 7,
      "outputs": [
        {
          "output_type": "stream",
          "name": "stdout",
          "text": [
            "[[10 11 12 13 14 15 16 17 18 19 20 21 22 23 24 25 26 27 28 29 30 31 32 33\n",
            "  34 35 36 37 38 39 40 41 42 43 44 45 46 47 48 49]]\n"
          ]
        }
      ]
    },
    {
      "cell_type": "code",
      "source": [
        "b=np.arange(0,9).reshape(3,3)"
      ],
      "metadata": {
        "colab": {
          "base_uri": "https://localhost:8080/"
        },
        "id": "uDu6JMBPkttF",
        "outputId": "29cd51f5-8873-4b22-dd5e-1a5a4e20f657"
      },
      "execution_count": 8,
      "outputs": [
        {
          "output_type": "execute_result",
          "data": {
            "text/plain": [
              "array([[0, 1, 2],\n",
              "       [3, 4, 5],\n",
              "       [6, 7, 8]])"
            ]
          },
          "metadata": {},
          "execution_count": 8
        }
      ]
    },
    {
      "cell_type": "code",
      "source": [
        "c=np.ones(25).reshape(5,5)\n",
        "for i in range(1,4):\n",
        "    c[i][1:4]=0"
      ],
      "metadata": {
        "id": "zpnb6mKkk7XH"
      },
      "execution_count": 13,
      "outputs": []
    },
    {
      "cell_type": "code",
      "source": [
        "print(c)"
      ],
      "metadata": {
        "colab": {
          "base_uri": "https://localhost:8080/"
        },
        "id": "dW8URoLElRhe",
        "outputId": "04a6bfad-3e7c-4f4f-f6d5-3b8923ed3938"
      },
      "execution_count": 14,
      "outputs": [
        {
          "output_type": "stream",
          "name": "stdout",
          "text": [
            "[[1. 1. 1. 1. 1.]\n",
            " [1. 0. 0. 0. 1.]\n",
            " [1. 0. 0. 0. 1.]\n",
            " [1. 0. 0. 0. 1.]\n",
            " [1. 1. 1. 1. 1.]]\n"
          ]
        }
      ]
    },
    {
      "cell_type": "code",
      "source": [
        "import random"
      ],
      "metadata": {
        "id": "Y1F78LQIoUSs"
      },
      "execution_count": 15,
      "outputs": []
    },
    {
      "cell_type": "code",
      "source": [
        "np.random.random((3,3,3))"
      ],
      "metadata": {
        "colab": {
          "base_uri": "https://localhost:8080/"
        },
        "id": "L5u0ZF7Go_9b",
        "outputId": "f334db10-8943-40b8-e0d7-42f1fccf7ef6"
      },
      "execution_count": 18,
      "outputs": [
        {
          "output_type": "execute_result",
          "data": {
            "text/plain": [
              "array([[[0.62147948, 0.64200782, 0.9629163 ],\n",
              "        [0.04891602, 0.57607701, 0.24611   ],\n",
              "        [0.77807008, 0.38470745, 0.99798145]],\n",
              "\n",
              "       [[0.50467135, 0.111571  , 0.01092357],\n",
              "        [0.46100408, 0.69789395, 0.62534248],\n",
              "        [0.95247421, 0.20050615, 0.11982994]],\n",
              "\n",
              "       [[0.78217041, 0.9114277 , 0.23469602],\n",
              "        [0.36762653, 0.7267976 , 0.53986627],\n",
              "        [0.98101666, 0.86155947, 0.94683088]]])"
            ]
          },
          "metadata": {},
          "execution_count": 18
        }
      ]
    },
    {
      "cell_type": "code",
      "source": [
        "a=np.random.random((10,10))"
      ],
      "metadata": {
        "id": "pUN243r0peHq"
      },
      "execution_count": 20,
      "outputs": []
    },
    {
      "cell_type": "code",
      "source": [
        "a.min()"
      ],
      "metadata": {
        "colab": {
          "base_uri": "https://localhost:8080/"
        },
        "id": "phhamJFyp6xn",
        "outputId": "6fce2a90-99c5-4add-ca94-731a8ecd0aae"
      },
      "execution_count": 21,
      "outputs": [
        {
          "output_type": "execute_result",
          "data": {
            "text/plain": [
              "0.0039082940210780626"
            ]
          },
          "metadata": {},
          "execution_count": 21
        }
      ]
    },
    {
      "cell_type": "code",
      "source": [
        "a.max()"
      ],
      "metadata": {
        "colab": {
          "base_uri": "https://localhost:8080/"
        },
        "id": "UuRTvalNqBCw",
        "outputId": "0311549f-0a20-47c3-8dbe-717a1bad039b"
      },
      "execution_count": 23,
      "outputs": [
        {
          "output_type": "execute_result",
          "data": {
            "text/plain": [
              "0.9982335549023528"
            ]
          },
          "metadata": {},
          "execution_count": 23
        }
      ]
    },
    {
      "cell_type": "code",
      "source": [
        "b=np.random.random((30))"
      ],
      "metadata": {
        "id": "YmchclWUqCf0"
      },
      "execution_count": 24,
      "outputs": []
    },
    {
      "cell_type": "code",
      "source": [
        "b.mean()"
      ],
      "metadata": {
        "colab": {
          "base_uri": "https://localhost:8080/"
        },
        "id": "LWjLAyRsrOdu",
        "outputId": "d0c1ed05-6c5e-4235-9eed-a939fc2e92ae"
      },
      "execution_count": 27,
      "outputs": [
        {
          "output_type": "execute_result",
          "data": {
            "text/plain": [
              "0.5038287623159456"
            ]
          },
          "metadata": {},
          "execution_count": 27
        }
      ]
    },
    {
      "cell_type": "code",
      "source": [
        "a=np.ones((5,3))\n",
        "b=np.ones((3,2))\n",
        "print(a)\n",
        "print(b)\n",
        "print(np.dot(a,b))"
      ],
      "metadata": {
        "colab": {
          "base_uri": "https://localhost:8080/"
        },
        "id": "xaa5jilOrPOD",
        "outputId": "9bf7302f-79d7-489f-a7d7-bbae0fdd86da"
      },
      "execution_count": 31,
      "outputs": [
        {
          "output_type": "stream",
          "name": "stdout",
          "text": [
            "[[1. 1. 1.]\n",
            " [1. 1. 1.]\n",
            " [1. 1. 1.]\n",
            " [1. 1. 1.]\n",
            " [1. 1. 1.]]\n",
            "[[1. 1.]\n",
            " [1. 1.]\n",
            " [1. 1.]]\n",
            "[[3. 3.]\n",
            " [3. 3.]\n",
            " [3. 3.]\n",
            " [3. 3.]\n",
            " [3. 3.]]\n"
          ]
        }
      ]
    },
    {
      "cell_type": "code",
      "source": [
        "A = np.array([1, 2, 3])\n",
        "B = np.array([4, 5, 6])\n",
        "C = np.zeros(3)\n",
        "C =np.add(A,B)\n",
        "C"
      ],
      "metadata": {
        "colab": {
          "base_uri": "https://localhost:8080/"
        },
        "id": "5XHvHBeHsRkv",
        "outputId": "ede8af82-5f80-4d57-ce89-b408474704a3"
      },
      "execution_count": 36,
      "outputs": [
        {
          "output_type": "execute_result",
          "data": {
            "text/plain": [
              "array([5, 7, 9])"
            ]
          },
          "metadata": {},
          "execution_count": 36
        }
      ]
    },
    {
      "cell_type": "code",
      "source": [
        "C=np.negative(A)\n",
        "C"
      ],
      "metadata": {
        "colab": {
          "base_uri": "https://localhost:8080/"
        },
        "id": "0msJYJJ9tTG9",
        "outputId": "9fcc2f62-6009-4f35-b0d2-58de5963e970"
      },
      "execution_count": 39,
      "outputs": [
        {
          "output_type": "execute_result",
          "data": {
            "text/plain": [
              "array([-1, -2, -3])"
            ]
          },
          "metadata": {},
          "execution_count": 39
        }
      ]
    },
    {
      "cell_type": "code",
      "source": [
        "a=np.random.random(10)\n",
        "a.argmax()"
      ],
      "metadata": {
        "colab": {
          "base_uri": "https://localhost:8080/"
        },
        "id": "jsQF5ihet7Hn",
        "outputId": "e11be330-4172-457e-c743-ace6bfb92093"
      },
      "execution_count": 42,
      "outputs": [
        {
          "output_type": "execute_result",
          "data": {
            "text/plain": [
              "6"
            ]
          },
          "metadata": {},
          "execution_count": 42
        }
      ]
    },
    {
      "cell_type": "code",
      "source": [
        "a[6]=0"
      ],
      "metadata": {
        "id": "Wqt1lWoPuPY9"
      },
      "execution_count": 43,
      "outputs": []
    },
    {
      "cell_type": "code",
      "source": [
        "a"
      ],
      "metadata": {
        "colab": {
          "base_uri": "https://localhost:8080/"
        },
        "id": "_17ENoGxu5Wg",
        "outputId": "5004980d-56eb-42ec-ecca-79b4a03cb53a"
      },
      "execution_count": 44,
      "outputs": [
        {
          "output_type": "execute_result",
          "data": {
            "text/plain": [
              "array([0.10538795, 0.16556854, 0.0638866 , 0.14716864, 0.58585644,\n",
              "       0.77703983, 0.        , 0.20517714, 0.15396008, 0.69204106])"
            ]
          },
          "metadata": {},
          "execution_count": 44
        }
      ]
    },
    {
      "cell_type": "code",
      "source": [
        "arr = np.array([[1, 2, 3], [4, 5, 6]])\n",
        "print('arr에서 최댓값:', np.max(arr))\n",
        "print('arr에서 최댓값인 6이 위치한 인덱스:',np.argmax(arr))\n",
        "print('arr에서 각 행(axis=0)별로 최댓값을 반환:', np.max(arr, axis=0))\n",
        "print('arr에서 각 열(axis=1)별로 최댓값을 반환:', np.max(arr, axis=1))\n",
        "print('arr에서 각 행(axis=0)별로 최댓값의 인덱스를 반환:',np.argmax(arr, axis=0))\n",
        "print('arr에서 각 열(axis=1)별로 최댓값의 인덱스를 반환:',np.argmax(arr, axis=1))\n"
      ],
      "metadata": {
        "colab": {
          "base_uri": "https://localhost:8080/"
        },
        "id": "2gqP_WV2u6F1",
        "outputId": "4e30acb0-f6df-4eaf-e2ce-931c8cc3eca5"
      },
      "execution_count": 46,
      "outputs": [
        {
          "output_type": "stream",
          "name": "stdout",
          "text": [
            "arr에서 최댓값: 6\n",
            "arr에서 최댓값인 6이 위치한 인덱스: 5\n",
            "arr에서 각 행(axis=0)별로 최댓값을 반환: [4 5 6]\n",
            "arr에서 각 열(axis=1)별로 최댓값을 반환: [3 6]\n",
            "arr에서 각 행(axis=0)별로 최댓값의 인덱스를 반환: [1 1 1]\n",
            "arr에서 각 열(axis=1)별로 최댓값의 인덱스를 반환: [2 2]\n"
          ]
        }
      ]
    },
    {
      "cell_type": "code",
      "source": [],
      "metadata": {
        "id": "03j4jMNxwWSR"
      },
      "execution_count": null,
      "outputs": []
    }
  ]
}