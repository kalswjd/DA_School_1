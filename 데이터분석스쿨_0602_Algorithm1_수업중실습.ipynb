{
  "nbformat": 4,
  "nbformat_minor": 0,
  "metadata": {
    "colab": {
      "provenance": [],
      "authorship_tag": "ABX9TyM81Xi8Kn4hWm+ZKCBBMI4J",
      "include_colab_link": true
    },
    "kernelspec": {
      "name": "python3",
      "display_name": "Python 3"
    },
    "language_info": {
      "name": "python"
    }
  },
  "cells": [
    {
      "cell_type": "markdown",
      "metadata": {
        "id": "view-in-github",
        "colab_type": "text"
      },
      "source": [
        "<a href=\"https://colab.research.google.com/github/kalswjd/DA_School_1/blob/main/%08%EB%8D%B0%EC%9D%B4%ED%84%B0%EB%B6%84%EC%84%9D%EC%8A%A4%EC%BF%A8_0602_Algorithm1_%EC%88%98%EC%97%85%EC%A4%91%EC%8B%A4%EC%8A%B5.ipynb\" target=\"_parent\"><img src=\"https://colab.research.google.com/assets/colab-badge.svg\" alt=\"Open In Colab\"/></a>"
      ]
    },
    {
      "cell_type": "code",
      "execution_count": null,
      "metadata": {
        "id": "K3JpjAd3awUV"
      },
      "outputs": [],
      "source": [
        "연결 = {\n",
        "    'head': {\n",
        "        'data': 22,\n",
        "        'next': {\n",
        "            'data':2,\n",
        "            'next':{\n",
        "                'data':90,\n",
        "                'next':{\n",
        "                    'data':77,\n",
        "                    'next': None\n",
        "                }\n",
        "            }\n",
        "        }\n",
        "    }\n",
        "}"
      ]
    },
    {
      "cell_type": "code",
      "source": [
        "연결 = {'head': None}\n",
        "node1 = {'data': 22,'next': None}\n",
        "node2 = {'data': 2, 'next': None}\n",
        "node3 = {'data': 90,'next': None}\n",
        "node4 = {'data': 77,'next': None}\n",
        "\n",
        "연결['head'] = node1\n",
        "node1['next'] = node2\n",
        "node2['next'] = node3\n",
        "node3['next'] = node4"
      ],
      "metadata": {
        "id": "XXIXc_fF-_OG"
      },
      "execution_count": null,
      "outputs": []
    },
    {
      "cell_type": "code",
      "source": [
        "node1['data']\n",
        "node1['next']['data']\n",
        "node1['next']['next']['data']\n"
      ],
      "metadata": {
        "id": "sJvDUnxv_p1X"
      },
      "execution_count": null,
      "outputs": []
    },
    {
      "cell_type": "code",
      "source": [
        "def solution(A,B):\n",
        "    answer = 0\n",
        "    return answer"
      ],
      "metadata": {
        "id": "EfgOR80piIaW"
      },
      "execution_count": null,
      "outputs": []
    },
    {
      "cell_type": "code",
      "source": [
        "t = 'hello'\n",
        "t[1:] + t[0]"
      ],
      "metadata": {
        "colab": {
          "base_uri": "https://localhost:8080/",
          "height": 36
        },
        "id": "75FmV2__i4UD",
        "outputId": "3a1023b1-67bd-4686-d053-2a1164f81b4f"
      },
      "execution_count": null,
      "outputs": [
        {
          "output_type": "execute_result",
          "data": {
            "text/plain": [
              "'elloh'"
            ],
            "application/vnd.google.colaboratory.intrinsic+json": {
              "type": "string"
            }
          },
          "metadata": {},
          "execution_count": 3
        }
      ]
    },
    {
      "cell_type": "code",
      "source": [
        "import collections\n",
        "\n",
        "test = collections.deque('hello')\n",
        "test.rotate(2)\n",
        "test"
      ],
      "metadata": {
        "colab": {
          "base_uri": "https://localhost:8080/"
        },
        "id": "Lfu0XhYmi9-L",
        "outputId": "5cc5aae4-a4c5-4204-fa94-a201e679c8df"
      },
      "execution_count": null,
      "outputs": [
        {
          "output_type": "execute_result",
          "data": {
            "text/plain": [
              "deque(['l', 'o', 'h', 'e', 'l'])"
            ]
          },
          "metadata": {},
          "execution_count": 4
        }
      ]
    },
    {
      "cell_type": "code",
      "source": [
        "import collections\n",
        "\n",
        "test = collections.deque('hello')\n",
        "test.rotate(2)\n",
        "''.join(test)"
      ],
      "metadata": {
        "colab": {
          "base_uri": "https://localhost:8080/",
          "height": 36
        },
        "id": "LI0jqVF4jlnu",
        "outputId": "08339eb4-1957-4995-87cb-ba009d33b6ca"
      },
      "execution_count": null,
      "outputs": [
        {
          "output_type": "execute_result",
          "data": {
            "text/plain": [
              "'lohel'"
            ],
            "application/vnd.google.colaboratory.intrinsic+json": {
              "type": "string"
            }
          },
          "metadata": {},
          "execution_count": 5
        }
      ]
    },
    {
      "cell_type": "code",
      "source": [
        "import collections\n",
        "\n",
        "collections.Counter('aaaaaabbbcccccccddef')"
      ],
      "metadata": {
        "colab": {
          "base_uri": "https://localhost:8080/"
        },
        "id": "0Q9oXML1jv7A",
        "outputId": "e0ef5f97-83c7-40dc-e021-881210a14888"
      },
      "execution_count": null,
      "outputs": [
        {
          "output_type": "execute_result",
          "data": {
            "text/plain": [
              "Counter({'a': 6, 'b': 3, 'c': 7, 'd': 2, 'e': 1, 'f': 1})"
            ]
          },
          "metadata": {},
          "execution_count": 6
        }
      ]
    },
    {
      "cell_type": "code",
      "source": [
        "import collections\n",
        "\n",
        "def solution(A, B):\n",
        "    if A == B:\n",
        "        return 0\n",
        "    비교 = collections.deque(A)\n",
        "    for i in range(len(A)):\n",
        "        비교.rotate(1)\n",
        "        print(''.join(비교), B)\n",
        "        if ''.join(비교) == B:\n",
        "            return i + 1\n",
        "    return -1\n",
        "\n",
        "# solution(\"hello\", \"lohel\")\n",
        "# solution(\"hello\", \"llohe\")\n",
        "solution(\"hello\", \"leohl\")"
      ],
      "metadata": {
        "colab": {
          "base_uri": "https://localhost:8080/"
        },
        "id": "0LJpUna7kNss",
        "outputId": "bab5e074-d8ce-487b-9d29-780510eacf81"
      },
      "execution_count": null,
      "outputs": [
        {
          "output_type": "stream",
          "name": "stdout",
          "text": [
            "ohell leohl\n",
            "lohel leohl\n",
            "llohe leohl\n",
            "elloh leohl\n",
            "hello leohl\n"
          ]
        },
        {
          "output_type": "execute_result",
          "data": {
            "text/plain": [
              "-1"
            ]
          },
          "metadata": {},
          "execution_count": 10
        }
      ]
    },
    {
      "cell_type": "code",
      "source": [
        "# https://school.programmers.co.kr/learn/courses/30/lessons/120585\n",
        "def solution(array, height):\n",
        "    count = 0\n",
        "    for i in array:\n",
        "        if i > height:\n",
        "            count += 1\n",
        "    return count\n",
        "\n",
        "solution([149, 180, 192, 170], 167)"
      ],
      "metadata": {
        "colab": {
          "base_uri": "https://localhost:8080/"
        },
        "id": "30hiHmuqkAxb",
        "outputId": "677bd809-687f-405a-b46a-431f97f036e5"
      },
      "execution_count": null,
      "outputs": [
        {
          "output_type": "execute_result",
          "data": {
            "text/plain": [
              "3"
            ]
          },
          "metadata": {},
          "execution_count": 11
        }
      ]
    },
    {
      "cell_type": "code",
      "source": [
        "def solution(array, height):\n",
        "    return len(list(filter(lambda x : x > 167, [149, 180, 192, 170])))\n",
        "\n",
        "solution([149, 180, 192, 170], 167)"
      ],
      "metadata": {
        "id": "nzNsgYitpjlq",
        "outputId": "b999512d-8040-481f-86d2-329ebc8fedd9",
        "colab": {
          "base_uri": "https://localhost:8080/"
        }
      },
      "execution_count": null,
      "outputs": [
        {
          "output_type": "execute_result",
          "data": {
            "text/plain": [
              "3"
            ]
          },
          "metadata": {},
          "execution_count": 12
        }
      ]
    },
    {
      "cell_type": "code",
      "source": [],
      "metadata": {
        "id": "rtq-VAMqpmgQ"
      },
      "execution_count": null,
      "outputs": []
    }
  ]
}