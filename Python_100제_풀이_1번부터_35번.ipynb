{
  "nbformat": 4,
  "nbformat_minor": 0,
  "metadata": {
    "colab": {
      "provenance": [],
      "include_colab_link": true
    },
    "kernelspec": {
      "name": "python3",
      "display_name": "Python 3"
    },
    "language_info": {
      "name": "python"
    }
  },
  "cells": [
    {
      "cell_type": "markdown",
      "metadata": {
        "id": "view-in-github",
        "colab_type": "text"
      },
      "source": [
        "<a href=\"https://colab.research.google.com/github/kalswjd/DA_School_1/blob/main/Python_100%EC%A0%9C_%ED%92%80%EC%9D%B4_1%EB%B2%88%EB%B6%80%ED%84%B0_35%EB%B2%88.ipynb\" target=\"_parent\"><img src=\"https://colab.research.google.com/assets/colab-badge.svg\" alt=\"Open In Colab\"/></a>"
      ]
    },
    {
      "cell_type": "markdown",
      "source": [
        "# 1번"
      ],
      "metadata": {
        "id": "s2kbqJrEgik2"
      }
    },
    {
      "cell_type": "code",
      "execution_count": null,
      "metadata": {
        "id": "oMGxcKNlcpXo"
      },
      "outputs": [],
      "source": [
        "nums = [100, 200, 300, 400, 500]"
      ]
    },
    {
      "cell_type": "code",
      "source": [
        "# 정답1\n",
        "nums.pop()\n",
        "nums.pop()"
      ],
      "metadata": {
        "id": "Cxg9iQlIg2Sm"
      },
      "execution_count": null,
      "outputs": []
    },
    {
      "cell_type": "code",
      "source": [
        "# 정답2\n",
        "nums[:3]"
      ],
      "metadata": {
        "id": "dIENQBK_g5gV"
      },
      "execution_count": null,
      "outputs": []
    },
    {
      "cell_type": "code",
      "source": [
        "nums = [100, 200, 300, 400, 500]\n",
        "nums[-5:-2]"
      ],
      "metadata": {
        "colab": {
          "base_uri": "https://localhost:8080/"
        },
        "id": "sX0pEyU_hA6V",
        "outputId": "298593f0-0982-4686-af4c-3ced22f70163"
      },
      "execution_count": null,
      "outputs": [
        {
          "output_type": "execute_result",
          "data": {
            "text/plain": [
              "[100, 200, 300]"
            ]
          },
          "metadata": {},
          "execution_count": 2
        }
      ]
    },
    {
      "cell_type": "markdown",
      "source": [
        "# 2번"
      ],
      "metadata": {
        "id": "_4Iy7VGAhROf"
      }
    },
    {
      "cell_type": "code",
      "source": [
        "l = [200, 100, 300]\n",
        "l.insert(2, 10000)\n",
        "print(l)"
      ],
      "metadata": {
        "colab": {
          "base_uri": "https://localhost:8080/"
        },
        "id": "UZ2ahGKohVko",
        "outputId": "0b378531-29a5-470c-c5e1-887be01bff03"
      },
      "execution_count": null,
      "outputs": [
        {
          "output_type": "stream",
          "name": "stdout",
          "text": [
            "[200, 100, 10000, 300]\n"
          ]
        }
      ]
    },
    {
      "cell_type": "code",
      "source": [
        "# l[:2] + [10000] + l[-1] #error\n",
        "l[:2] + [10000] + [l[-1]]"
      ],
      "metadata": {
        "colab": {
          "base_uri": "https://localhost:8080/"
        },
        "id": "B_HU6U-Khabl",
        "outputId": "8630d52e-4656-4793-d2ec-040643278603"
      },
      "execution_count": null,
      "outputs": [
        {
          "output_type": "execute_result",
          "data": {
            "text/plain": [
              "[200, 100, 10000, 300]"
            ]
          },
          "metadata": {},
          "execution_count": 8
        }
      ]
    },
    {
      "cell_type": "markdown",
      "source": [
        "# 5번"
      ],
      "metadata": {
        "id": "6gG9v-dvh8IB"
      }
    },
    {
      "cell_type": "code",
      "source": [
        "a = 10\n",
        "b = 2\n",
        "for i in range(1, 5, 2):\n",
        "    a += i\n",
        "\n",
        "print(a + b)"
      ],
      "metadata": {
        "colab": {
          "base_uri": "https://localhost:8080/"
        },
        "id": "izRJxHcxh9zK",
        "outputId": "b4416757-47f1-4ace-9751-e59f10dc43db"
      },
      "execution_count": null,
      "outputs": [
        {
          "output_type": "stream",
          "name": "stdout",
          "text": [
            "1\n",
            "3\n",
            "16\n"
          ]
        }
      ]
    },
    {
      "cell_type": "markdown",
      "source": [
        "# 6번"
      ],
      "metadata": {
        "id": "Xs-zulKfiToO"
      }
    },
    {
      "cell_type": "code",
      "source": [
        "# 다음중 True인 것은? 2번\n",
        "# 1)  None\n",
        "# 2)  1\n",
        "# 3)  \"\"\n",
        "# 4)  0\n",
        "# 5)  bool(0)"
      ],
      "metadata": {
        "id": "jS0eGv9TiSYu"
      },
      "execution_count": null,
      "outputs": []
    },
    {
      "cell_type": "code",
      "source": [
        "bool([]) # False\n",
        "bool([1, 2, 3]) # True"
      ],
      "metadata": {
        "id": "25OL1dh0iYod"
      },
      "execution_count": null,
      "outputs": []
    },
    {
      "cell_type": "code",
      "source": [
        "# l의 값이 변한 적이 있다? 없다. 그런데 왜 bool 값은 변했을까?\n",
        "l = []\n",
        "print(id(l))\n",
        "print(bool(l))"
      ],
      "metadata": {
        "colab": {
          "base_uri": "https://localhost:8080/"
        },
        "id": "-zBOOpF-il9W",
        "outputId": "e5bf5ebb-92e9-4266-ed02-b6765c20ed02"
      },
      "execution_count": null,
      "outputs": [
        {
          "output_type": "stream",
          "name": "stdout",
          "text": [
            "135607005592640\n",
            "False\n"
          ]
        }
      ]
    },
    {
      "cell_type": "code",
      "source": [
        "l.append(10)\n",
        "l\n",
        "print(id(l))\n",
        "print(bool(l))"
      ],
      "metadata": {
        "colab": {
          "base_uri": "https://localhost:8080/"
        },
        "id": "HFi2WC2tippd",
        "outputId": "a8290bfc-4882-430d-dc75-3294a0090633"
      },
      "execution_count": null,
      "outputs": [
        {
          "output_type": "stream",
          "name": "stdout",
          "text": [
            "135607005592640\n",
            "True\n"
          ]
        }
      ]
    },
    {
      "cell_type": "code",
      "source": [
        "# Python은 지극히 인간의 입장에서 출력을 고려한 것입니다."
      ],
      "metadata": {
        "id": "GcssZP6BjTGc"
      },
      "execution_count": null,
      "outputs": []
    },
    {
      "cell_type": "code",
      "source": [
        "l = '' #immutable\n",
        "print(id(l))\n",
        "print(bool(l))"
      ],
      "metadata": {
        "id": "rVv9XqfJjddS"
      },
      "execution_count": null,
      "outputs": []
    },
    {
      "cell_type": "code",
      "source": [
        "l = 'a'\n",
        "print(id(l))\n",
        "print(bool(l))"
      ],
      "metadata": {
        "id": "UK1lZw9-jfIx"
      },
      "execution_count": null,
      "outputs": []
    },
    {
      "cell_type": "markdown",
      "source": [
        "#7번"
      ],
      "metadata": {
        "id": "IHIdonsLj_-4"
      }
    },
    {
      "cell_type": "code",
      "source": [
        "# 언더바 변수에 대하여\n",
        "# 반복문 등에서 사용하지 않는 변수에 _를 넣습니다.\n",
        "for _ in range(5):\n",
        "    print('hello')\n",
        "\n",
        "# 프라이빗한 변수에서 _를 사용합니다.\n",
        "class Human():\n",
        "    _age = 0"
      ],
      "metadata": {
        "id": "L4EmTFAoj-gP"
      },
      "execution_count": null,
      "outputs": []
    },
    {
      "cell_type": "markdown",
      "source": [
        "# 8번"
      ],
      "metadata": {
        "id": "sVPTYYzTk4XV"
      }
    },
    {
      "cell_type": "code",
      "source": [
        "d = {'height':180,\n",
        "     'weight':78,\n",
        "     'weight':84,\n",
        "     'temparture':36,\n",
        "     'eyesight':1}\n",
        "print(d['weight'])"
      ],
      "metadata": {
        "colab": {
          "base_uri": "https://localhost:8080/"
        },
        "id": "W5tSbWn2kj3f",
        "outputId": "3c6b47cb-6ecd-4f5a-b537-19548ecfa21a"
      },
      "execution_count": null,
      "outputs": [
        {
          "output_type": "stream",
          "name": "stdout",
          "text": [
            "84\n"
          ]
        }
      ]
    },
    {
      "cell_type": "markdown",
      "source": [
        "# 9번"
      ],
      "metadata": {
        "id": "jxwS_ff6ltBT"
      }
    },
    {
      "cell_type": "code",
      "source": [
        "year = '2019'\n",
        "month = '04'\n",
        "day = '26'\n",
        "hour = '11'\n",
        "minute = '34'\n",
        "second = '27'\n",
        "\n",
        "print(year, month, day, sep='/', end=' ')\n",
        "print(hour, minute, second, sep=':')"
      ],
      "metadata": {
        "colab": {
          "base_uri": "https://localhost:8080/"
        },
        "id": "asAweoYDlHZo",
        "outputId": "e2aca350-27d6-4d42-bc0f-5c9c4ccdcfc4"
      },
      "execution_count": null,
      "outputs": [
        {
          "output_type": "stream",
          "name": "stdout",
          "text": [
            "2019/04/26 11:34:27\n"
          ]
        }
      ]
    },
    {
      "cell_type": "markdown",
      "source": [
        "# 10번"
      ],
      "metadata": {
        "id": "9x6xuhE8l9j4"
      }
    },
    {
      "cell_type": "code",
      "source": [
        "#     *\n",
        "#    ***\n",
        "#   *****\n",
        "#  *******\n",
        "# *********"
      ],
      "metadata": {
        "id": "yjSo4YJQl-tj"
      },
      "execution_count": null,
      "outputs": []
    },
    {
      "cell_type": "code",
      "source": [
        "n = 5\n",
        "for i in range(1, n+1):\n",
        "    print(i)"
      ],
      "metadata": {
        "colab": {
          "base_uri": "https://localhost:8080/"
        },
        "id": "fyqmdEjhmI__",
        "outputId": "cb69e701-9879-4c77-ae7b-6328f848a4b9"
      },
      "execution_count": null,
      "outputs": [
        {
          "output_type": "stream",
          "name": "stdout",
          "text": [
            "1\n",
            "2\n",
            "3\n",
            "4\n",
            "5\n"
          ]
        }
      ]
    },
    {
      "cell_type": "code",
      "source": [
        "n = 5\n",
        "for i in range(1, n + 1):\n",
        "    print(((n - i) * ' ') + '*')"
      ],
      "metadata": {
        "colab": {
          "base_uri": "https://localhost:8080/"
        },
        "id": "B23R8NpTmV9T",
        "outputId": "87f7a20a-7785-4766-c529-99906a765171"
      },
      "execution_count": null,
      "outputs": [
        {
          "output_type": "stream",
          "name": "stdout",
          "text": [
            "    *\n",
            "   *\n",
            "  *\n",
            " *\n",
            "*\n"
          ]
        }
      ]
    },
    {
      "cell_type": "code",
      "source": [
        "n = 5\n",
        "for i in range(1, n + 1):\n",
        "    print(((n - i) * ' ') + (((2 * i) - 1)) * '*')"
      ],
      "metadata": {
        "colab": {
          "base_uri": "https://localhost:8080/"
        },
        "id": "AFgB0F0NnmFH",
        "outputId": "bfdb6277-1cd3-4d6e-971f-d3f01e2b2ca3"
      },
      "execution_count": null,
      "outputs": [
        {
          "output_type": "stream",
          "name": "stdout",
          "text": [
            "    *\n",
            "   ***\n",
            "  *****\n",
            " *******\n",
            "*********\n"
          ]
        }
      ]
    },
    {
      "cell_type": "markdown",
      "source": [
        "# 11번"
      ],
      "metadata": {
        "id": "NpysPE7SoHAK"
      }
    },
    {
      "cell_type": "code",
      "source": [
        "s = 0\n",
        "for i in range(1, 101):\n",
        "    s += i\n",
        "print(s)"
      ],
      "metadata": {
        "colab": {
          "base_uri": "https://localhost:8080/"
        },
        "id": "bZPs_ZsDn-zl",
        "outputId": "b1dd7db6-1fae-47b4-c6b4-574dfb5106e5"
      },
      "execution_count": null,
      "outputs": [
        {
          "output_type": "stream",
          "name": "stdout",
          "text": [
            "5050\n"
          ]
        }
      ]
    },
    {
      "cell_type": "markdown",
      "source": [
        "# 12번"
      ],
      "metadata": {
        "id": "WnXhtKqmreeQ"
      }
    },
    {
      "cell_type": "code",
      "source": [
        "class Wizard:\n",
        "    def __init__(self, health, mana, armor):\n",
        "        '''\n",
        "        self는 인스턴스, 인스턴스 메모리 영역\n",
        "        '''\n",
        "        self.health = health\n",
        "        self.mana = mana\n",
        "        self.armor = armor\n",
        "\n",
        "    def attack(self):\n",
        "        print('파이어볼')\n",
        "\n",
        "\n",
        "jik = Wizard(health = 545, mana = 210, armor = 10)\n",
        "print(jik.health, jik.mana, jik.armor)\n",
        "jik.attack()"
      ],
      "metadata": {
        "colab": {
          "base_uri": "https://localhost:8080/"
        },
        "id": "BRI8IOyAoSK_",
        "outputId": "8788eba8-5bd1-4567-ed65-a95eb4796ae6"
      },
      "execution_count": null,
      "outputs": [
        {
          "output_type": "stream",
          "name": "stdout",
          "text": [
            "545 210 10\n",
            "파이어볼\n"
          ]
        }
      ]
    },
    {
      "cell_type": "markdown",
      "source": [
        "# 14번\n",
        "문제가 너무 쉬워 아래 문제로 풀도록 하겠습니다."
      ],
      "metadata": {
        "id": "qqT_oVWCtXnN"
      }
    },
    {
      "cell_type": "markdown",
      "source": [
        "* 링크 : https://school.programmers.co.kr/learn/courses/30/lessons/120871?language=javascript"
      ],
      "metadata": {
        "id": "Ta2cSkait3HZ"
      }
    },
    {
      "cell_type": "code",
      "source": [
        "# 이러한 조건 문제에서 문제가 쉽게 풀리지 않을 경우\n",
        "# 소거법을 사용하시는 방법으로 푸시면 좀 더 쉽게 풀 수도 있습니다.\n",
        "\n",
        "[i for i in range(100) if i % 3 != 0] # 3의 배수 제거!\n",
        "[i for i in range(100) if '3' not in str(i)] # 3이 들어가 있는 숫자 제거!\n",
        "\n",
        "[i for i in range(100) if i % 3 != 0 and '3' not in str(i)][9-1]\n",
        "[i for i in range(100) if i % 3 != 0 and '3' not in str(i)][10-1]\n",
        "\n",
        "solution = lambda n:[i for i in range(10000) if i % 3 != 0 and '3' not in str(i)][n-1]\n",
        "solution(9)"
      ],
      "metadata": {
        "colab": {
          "base_uri": "https://localhost:8080/"
        },
        "id": "ImkohBs5t4eK",
        "outputId": "a3d2be2b-6474-46a6-b83c-7f5b4e5d2aff"
      },
      "execution_count": null,
      "outputs": [
        {
          "output_type": "execute_result",
          "data": {
            "text/plain": [
              "14"
            ]
          },
          "metadata": {},
          "execution_count": 38
        }
      ]
    },
    {
      "cell_type": "markdown",
      "source": [
        "# 16번"
      ],
      "metadata": {
        "id": "3viTVK8PwH1h"
      }
    },
    {
      "cell_type": "code",
      "source": [
        "'안녕하세요'[::-1]"
      ],
      "metadata": {
        "colab": {
          "base_uri": "https://localhost:8080/",
          "height": 35
        },
        "id": "f-Uhk2DbwJP-",
        "outputId": "5af01380-4a39-4956-8862-fd25073850a0"
      },
      "execution_count": null,
      "outputs": [
        {
          "output_type": "execute_result",
          "data": {
            "text/plain": [
              "'요세하녕안'"
            ],
            "application/vnd.google.colaboratory.intrinsic+json": {
              "type": "string"
            }
          },
          "metadata": {},
          "execution_count": 39
        }
      ]
    },
    {
      "cell_type": "code",
      "source": [
        "''.join(list(reversed(list('안녕하세요'))))"
      ],
      "metadata": {
        "colab": {
          "base_uri": "https://localhost:8080/",
          "height": 35
        },
        "id": "1cOIhK7PwNus",
        "outputId": "9e0acfe4-e56c-47f6-9108-8085fc949bec"
      },
      "execution_count": null,
      "outputs": [
        {
          "output_type": "execute_result",
          "data": {
            "text/plain": [
              "'요세하녕안'"
            ],
            "application/vnd.google.colaboratory.intrinsic+json": {
              "type": "string"
            }
          },
          "metadata": {},
          "execution_count": 52
        }
      ]
    },
    {
      "cell_type": "code",
      "source": [
        "s = '안녕하세요'\n",
        "ss = list(s)\n",
        "ss.reverse()\n",
        "''.join(ss)"
      ],
      "metadata": {
        "colab": {
          "base_uri": "https://localhost:8080/",
          "height": 35
        },
        "id": "i3SAhaoownxG",
        "outputId": "8d0429cf-3f52-4c3f-b944-a0207b1ebb1e"
      },
      "execution_count": null,
      "outputs": [
        {
          "output_type": "execute_result",
          "data": {
            "text/plain": [
              "'요세하녕안'"
            ],
            "application/vnd.google.colaboratory.intrinsic+json": {
              "type": "string"
            }
          },
          "metadata": {},
          "execution_count": 53
        }
      ]
    },
    {
      "cell_type": "code",
      "source": [
        "s = '안녕하세요'\n",
        "result = ''\n",
        "for i in s:\n",
        "    result = i + result\n",
        "result"
      ],
      "metadata": {
        "colab": {
          "base_uri": "https://localhost:8080/",
          "height": 35
        },
        "id": "JhrGdy2cw02g",
        "outputId": "ead93165-f427-428b-bdaa-aa494a00088f"
      },
      "execution_count": null,
      "outputs": [
        {
          "output_type": "execute_result",
          "data": {
            "text/plain": [
              "'요세하녕안'"
            ],
            "application/vnd.google.colaboratory.intrinsic+json": {
              "type": "string"
            }
          },
          "metadata": {},
          "execution_count": 54
        }
      ]
    },
    {
      "cell_type": "code",
      "source": [
        "def reverse(s):\n",
        "    if len(s) == 1:\n",
        "        return s\n",
        "    else:\n",
        "        return reverse(s[1:]) + s[0]\n",
        "\n",
        "reverse('안녕하세요')"
      ],
      "metadata": {
        "colab": {
          "base_uri": "https://localhost:8080/",
          "height": 35
        },
        "id": "XnQU6CQbw92v",
        "outputId": "971c773f-6472-4f2c-9824-2d4bdc29efad"
      },
      "execution_count": null,
      "outputs": [
        {
          "output_type": "execute_result",
          "data": {
            "text/plain": [
              "'요세하녕안'"
            ],
            "application/vnd.google.colaboratory.intrinsic+json": {
              "type": "string"
            }
          },
          "metadata": {},
          "execution_count": 55
        }
      ]
    },
    {
      "cell_type": "markdown",
      "source": [
        "# 17번"
      ],
      "metadata": {
        "id": "Pt8zZvzfxmTC"
      }
    },
    {
      "cell_type": "code",
      "source": [
        "height = 150\n",
        "\n",
        "if height >= 150: print('YES')"
      ],
      "metadata": {
        "colab": {
          "base_uri": "https://localhost:8080/"
        },
        "id": "7vEjUdwTxnm6",
        "outputId": "71adf015-c54d-4807-b244-caf58f8efe2d"
      },
      "execution_count": null,
      "outputs": [
        {
          "output_type": "stream",
          "name": "stdout",
          "text": [
            "YES\n"
          ]
        }
      ]
    },
    {
      "cell_type": "code",
      "source": [
        "height = 149\n",
        "\n",
        "# print('NO') if height >= 150: print('YES') # Error\n",
        "print('YES') if height >= 150 else print('NO')"
      ],
      "metadata": {
        "colab": {
          "base_uri": "https://localhost:8080/"
        },
        "id": "pUqz-gsDxxu6",
        "outputId": "aabdd35d-5ff5-4a65-8238-b1965fa9ef3d"
      },
      "execution_count": null,
      "outputs": [
        {
          "output_type": "stream",
          "name": "stdout",
          "text": [
            "NO\n"
          ]
        }
      ]
    },
    {
      "cell_type": "code",
      "source": [
        "def solution(height):\n",
        "    return 'YES' if height >= 150 else 'NO'\n",
        "\n",
        "solution(150)"
      ],
      "metadata": {
        "colab": {
          "base_uri": "https://localhost:8080/",
          "height": 35
        },
        "id": "AD5HIp6pyVwY",
        "outputId": "eac21c96-8a2e-4e09-f29c-2d4ddf65bae1"
      },
      "execution_count": null,
      "outputs": [
        {
          "output_type": "execute_result",
          "data": {
            "text/plain": [
              "'YES'"
            ],
            "application/vnd.google.colaboratory.intrinsic+json": {
              "type": "string"
            }
          },
          "metadata": {},
          "execution_count": 62
        }
      ]
    },
    {
      "cell_type": "markdown",
      "source": [
        "# 18번"
      ],
      "metadata": {
        "id": "-qnX2PBuy_Qz"
      }
    },
    {
      "cell_type": "code",
      "source": [
        "list(map(int, '20 30 40'.split(' ')))"
      ],
      "metadata": {
        "colab": {
          "base_uri": "https://localhost:8080/"
        },
        "id": "j4xrer8ezArl",
        "outputId": "0614cd56-836f-422d-c2c1-3f21b16d605d"
      },
      "execution_count": null,
      "outputs": [
        {
          "output_type": "execute_result",
          "data": {
            "text/plain": [
              "[20, 30, 40]"
            ]
          },
          "metadata": {},
          "execution_count": 66
        }
      ]
    },
    {
      "cell_type": "code",
      "source": [
        "sum(map(int, '20 30 40'.split(' '))) / 3"
      ],
      "metadata": {
        "colab": {
          "base_uri": "https://localhost:8080/"
        },
        "id": "9gA0a3R6zTiB",
        "outputId": "6d15b003-8c19-4625-fbc2-5413a56d270d"
      },
      "execution_count": null,
      "outputs": [
        {
          "output_type": "execute_result",
          "data": {
            "text/plain": [
              "30.0"
            ]
          },
          "metadata": {},
          "execution_count": 68
        }
      ]
    },
    {
      "cell_type": "markdown",
      "source": [
        "# 21번"
      ],
      "metadata": {
        "id": "kOLnoGLQz4WU"
      }
    },
    {
      "cell_type": "code",
      "source": [
        "# 1)  x = {1, 2, 3, 5, 6, 7}\n",
        "# 2)  x = {} # dict\n",
        "# 3)  x = set('python')\n",
        "# 4)  x = set(range(5))\n",
        "# 5)  x = set()"
      ],
      "metadata": {
        "id": "cJ8UADJ2z5wx"
      },
      "execution_count": null,
      "outputs": []
    },
    {
      "cell_type": "code",
      "source": [
        "t = 1\n",
        "t = (1) # tuple 아님!\n",
        "t = (1,)\n",
        "t\n",
        "\n",
        "# 어떤 라이브러리나 프레임웤 마지막 콤마가 꼭 있는 이유(3 ~ 4개 있습니다.)\n",
        "# 버전관리하는 곳에서 콤마를 버전의 업이라고 인식하는 경우가 있습니다.\n",
        "# Ctrl + C, V\n",
        "# 튜플인경우 상수, 문자가 들어갔을 때 튜플이 아닌 int, str로 변환되는 것을 막기 위해\n",
        "옵션 = (\n",
        "    'a',\n",
        ")"
      ],
      "metadata": {
        "colab": {
          "base_uri": "https://localhost:8080/"
        },
        "id": "MQhsi4Xpz92U",
        "outputId": "1189a1f3-28ae-4d2a-d6ca-7adb2bbf291b"
      },
      "execution_count": null,
      "outputs": [
        {
          "output_type": "execute_result",
          "data": {
            "text/plain": [
              "(1,)"
            ]
          },
          "metadata": {},
          "execution_count": 74
        }
      ]
    },
    {
      "cell_type": "markdown",
      "source": [
        "# 24번"
      ],
      "metadata": {
        "id": "vkN36fWD1AYr"
      }
    },
    {
      "cell_type": "code",
      "source": [
        "'mary'.upper()"
      ],
      "metadata": {
        "colab": {
          "base_uri": "https://localhost:8080/",
          "height": 35
        },
        "id": "gBQlmkZy0hRB",
        "outputId": "42bf8b48-1c46-433f-c246-a31823d658ad"
      },
      "execution_count": null,
      "outputs": [
        {
          "output_type": "execute_result",
          "data": {
            "text/plain": [
              "'MARY'"
            ],
            "application/vnd.google.colaboratory.intrinsic+json": {
              "type": "string"
            }
          },
          "metadata": {},
          "execution_count": 77
        }
      ]
    },
    {
      "cell_type": "code",
      "source": [
        "ord('a')"
      ],
      "metadata": {
        "colab": {
          "base_uri": "https://localhost:8080/"
        },
        "id": "ZHiqnW9i1MRj",
        "outputId": "295a882d-e01b-4836-f445-b81c94cf8a1e"
      },
      "execution_count": null,
      "outputs": [
        {
          "output_type": "execute_result",
          "data": {
            "text/plain": [
              "97"
            ]
          },
          "metadata": {},
          "execution_count": 78
        }
      ]
    },
    {
      "cell_type": "code",
      "source": [
        "ord('A')"
      ],
      "metadata": {
        "colab": {
          "base_uri": "https://localhost:8080/"
        },
        "id": "rrBG5tQA1QDS",
        "outputId": "1a2c79ff-899c-4c84-f553-c42d8c1d5281"
      },
      "execution_count": null,
      "outputs": [
        {
          "output_type": "execute_result",
          "data": {
            "text/plain": [
              "65"
            ]
          },
          "metadata": {},
          "execution_count": 79
        }
      ]
    },
    {
      "cell_type": "code",
      "source": [
        "ord('a') - ord('A')"
      ],
      "metadata": {
        "colab": {
          "base_uri": "https://localhost:8080/"
        },
        "id": "wf2Quxzp1RrA",
        "outputId": "be327b84-a10f-4201-eb4d-2e5d7ba9c49a"
      },
      "execution_count": null,
      "outputs": [
        {
          "output_type": "execute_result",
          "data": {
            "text/plain": [
              "32"
            ]
          },
          "metadata": {},
          "execution_count": 80
        }
      ]
    },
    {
      "cell_type": "code",
      "source": [
        "ord('a') - 32"
      ],
      "metadata": {
        "colab": {
          "base_uri": "https://localhost:8080/"
        },
        "id": "lQWa3h0E1VVR",
        "outputId": "1bf557d2-7994-41e9-dbe8-d5297199a1aa"
      },
      "execution_count": null,
      "outputs": [
        {
          "output_type": "execute_result",
          "data": {
            "text/plain": [
              "65"
            ]
          },
          "metadata": {},
          "execution_count": 82
        }
      ]
    },
    {
      "cell_type": "code",
      "source": [
        "chr(ord('a') - 32)"
      ],
      "metadata": {
        "colab": {
          "base_uri": "https://localhost:8080/",
          "height": 35
        },
        "id": "JDMSBC_v1hX5",
        "outputId": "bd196043-5c41-4b26-f3c5-75f77fad2aaf"
      },
      "execution_count": null,
      "outputs": [
        {
          "output_type": "execute_result",
          "data": {
            "text/plain": [
              "'A'"
            ],
            "application/vnd.google.colaboratory.intrinsic+json": {
              "type": "string"
            }
          },
          "metadata": {},
          "execution_count": 83
        }
      ]
    },
    {
      "cell_type": "code",
      "source": [
        "for i in 'mary':\n",
        "    print(chr(ord(i) - 32), end='') # 완벽한 코드는 아니고, 소문자인 것을 판단하는 if가 위에 있어야 합니다."
      ],
      "metadata": {
        "colab": {
          "base_uri": "https://localhost:8080/"
        },
        "id": "mVoZmR5Y1k0W",
        "outputId": "8a695584-26ec-4eed-d54a-f17d987c5680"
      },
      "execution_count": null,
      "outputs": [
        {
          "output_type": "stream",
          "name": "stdout",
          "text": [
            "MARY"
          ]
        }
      ]
    },
    {
      "cell_type": "code",
      "source": [
        "# 도대체 이런 지식은 어디에 쓸모가 있을까요? 인코딩쪽에서 어떤 인코딩인지 확인하는 용도로 사용하기도 합니다.\n",
        "# 알고리즘은 얼마나 쓸모가 있나요? 코드를 읽는 속도와 이해하는 속도에 도움을 줍니다.\n",
        "# => 코드는 AI가 더 잘짭니다.ㅎㅎ 잘 짠것을 확인해주는 작업은 내가 해야 합니다."
      ],
      "metadata": {
        "id": "WOnBm80Y12qA"
      },
      "execution_count": null,
      "outputs": []
    },
    {
      "cell_type": "markdown",
      "source": [
        "# 26번 문제"
      ],
      "metadata": {
        "id": "uwZceaFU5xNi"
      }
    },
    {
      "cell_type": "code",
      "source": [
        "key = '수성, 금성, 지구, 화성, 목성, 토성, 천왕성, 해왕성'.split(', ')\n",
        "value = 'Mercury, Venus, Earth, Mars, Jupiter, Saturn, Uranus, Neptune'.split(', ')"
      ],
      "metadata": {
        "id": "lPM_7fUK5OXm"
      },
      "execution_count": null,
      "outputs": []
    },
    {
      "cell_type": "code",
      "source": [
        "dict(zip(key, value))"
      ],
      "metadata": {
        "colab": {
          "base_uri": "https://localhost:8080/"
        },
        "id": "PrVnxRe05ffQ",
        "outputId": "75e209d6-3591-45c8-a55f-554665698fee"
      },
      "execution_count": null,
      "outputs": [
        {
          "output_type": "execute_result",
          "data": {
            "text/plain": [
              "{'수성': 'Mercury',\n",
              " '금성': 'Venus',\n",
              " '지구': 'Earth',\n",
              " '화성': 'Mars',\n",
              " '목성': 'Jupiter',\n",
              " '토성': 'Saturn',\n",
              " '천왕성': 'Uranus',\n",
              " '해왕성': 'Neptune'}"
            ]
          },
          "metadata": {},
          "execution_count": 91
        }
      ]
    },
    {
      "cell_type": "markdown",
      "source": [
        "# 28번"
      ],
      "metadata": {
        "id": "xnLUSn6g6FZ5"
      }
    },
    {
      "cell_type": "code",
      "source": [
        "s = 'python'\n",
        "for i in range(len(s)-1): # 아래 zip에서는 -1을 고려하지 않아도 됩니다.\n",
        "    print(s[i:i+2])"
      ],
      "metadata": {
        "colab": {
          "base_uri": "https://localhost:8080/"
        },
        "id": "ubve8QR15vyD",
        "outputId": "a4bcb06d-53cc-4437-89e8-f4744bb5c925"
      },
      "execution_count": null,
      "outputs": [
        {
          "output_type": "stream",
          "name": "stdout",
          "text": [
            "py\n",
            "yt\n",
            "th\n",
            "ho\n",
            "on\n"
          ]
        }
      ]
    },
    {
      "cell_type": "code",
      "source": [
        "s = 'python'\n",
        "list(zip(s, s[1:])) # 짝이 안맞으면 어차피 생성하지 않습니다."
      ],
      "metadata": {
        "colab": {
          "base_uri": "https://localhost:8080/"
        },
        "id": "jC-dH45u6h5D",
        "outputId": "53587dd6-f44f-45a9-977e-7e0ca07f532c"
      },
      "execution_count": null,
      "outputs": [
        {
          "output_type": "execute_result",
          "data": {
            "text/plain": [
              "[('p', 'y'), ('y', 't'), ('t', 'h'), ('h', 'o'), ('o', 'n')]"
            ]
          },
          "metadata": {},
          "execution_count": 95
        }
      ]
    },
    {
      "cell_type": "code",
      "source": [
        "s = 'python'\n",
        "for i in zip(s, s[1:]):\n",
        "    print(''.join(i))"
      ],
      "metadata": {
        "colab": {
          "base_uri": "https://localhost:8080/"
        },
        "id": "2Gt5BKgd61GT",
        "outputId": "d85fed45-98d9-4071-ef2f-dc4a320403f0"
      },
      "execution_count": null,
      "outputs": [
        {
          "output_type": "stream",
          "name": "stdout",
          "text": [
            "py\n",
            "yt\n",
            "th\n",
            "ho\n",
            "on\n"
          ]
        }
      ]
    },
    {
      "cell_type": "code",
      "source": [
        "s = 'life is short, you need python'\n",
        "for i in range(len(s)-2): # zip에서는 -2을 고려하지 않아도 됩니다.\n",
        "    print(s[i:i+3])"
      ],
      "metadata": {
        "id": "ku0x8Qx469rD"
      },
      "execution_count": null,
      "outputs": []
    },
    {
      "cell_type": "code",
      "source": [
        "p = [1, 3, 5, 7, 11, 14, 19, 21, 22]\n",
        "list(zip(p, p[1:]))\n",
        "list(map(lambda x:x[1]-x[0], zip(p, p[1:])))"
      ],
      "metadata": {
        "colab": {
          "base_uri": "https://localhost:8080/"
        },
        "id": "3_G7Xj6y7SgP",
        "outputId": "fd105545-23a4-401e-d3c5-187930761fec"
      },
      "execution_count": null,
      "outputs": [
        {
          "output_type": "execute_result",
          "data": {
            "text/plain": [
              "[2, 2, 2, 4, 3, 5, 2, 1]"
            ]
          },
          "metadata": {},
          "execution_count": 103
        }
      ]
    },
    {
      "cell_type": "markdown",
      "source": [
        "# 29번\n",
        "* 문제 변경: 대문자만 지나가도록 코딩해주세요. 'HellO WoRld' -> HOR"
      ],
      "metadata": {
        "id": "slwb3_HJ7-jr"
      }
    },
    {
      "cell_type": "code",
      "source": [
        "for s in 'HellO WoRld':\n",
        "    if s != s.lower():\n",
        "        print(s)"
      ],
      "metadata": {
        "colab": {
          "base_uri": "https://localhost:8080/"
        },
        "id": "9-v4e_Bm8Gzn",
        "outputId": "aad7b0b7-f736-47eb-9ada-6ff7f03bc563"
      },
      "execution_count": null,
      "outputs": [
        {
          "output_type": "stream",
          "name": "stdout",
          "text": [
            "H\n",
            "O\n",
            "W\n",
            "R\n"
          ]
        }
      ]
    },
    {
      "cell_type": "code",
      "source": [
        "for s in 'HellO WoRld':\n",
        "    if 'A' <= s <= 'Z':\n",
        "        print(s)"
      ],
      "metadata": {
        "colab": {
          "base_uri": "https://localhost:8080/"
        },
        "id": "G2kMdVIt8ThK",
        "outputId": "fb398091-0c6a-456c-a1ff-66cbf5d189af"
      },
      "execution_count": null,
      "outputs": [
        {
          "output_type": "stream",
          "name": "stdout",
          "text": [
            "H\n",
            "O\n",
            "W\n",
            "R\n"
          ]
        }
      ]
    },
    {
      "cell_type": "code",
      "source": [
        "for s in 'HellO WoRld':\n",
        "    if s.isupper(): # 서영님께서 말씀해주신 코드가 가장 좋은 코드라고 생각합니다.\n",
        "        print(s)"
      ],
      "metadata": {
        "colab": {
          "base_uri": "https://localhost:8080/"
        },
        "id": "QSRh5SGA8bY1",
        "outputId": "0f640c46-2cd9-414c-eac5-76b3461c78dd"
      },
      "execution_count": null,
      "outputs": [
        {
          "output_type": "stream",
          "name": "stdout",
          "text": [
            "H\n",
            "O\n",
            "W\n",
            "R\n"
          ]
        }
      ]
    },
    {
      "cell_type": "markdown",
      "source": [
        "# 30번"
      ],
      "metadata": {
        "id": "0JyBaQgy87Uz"
      }
    },
    {
      "cell_type": "code",
      "source": [
        "'pineapple is yummy apple'.find('apple') # 없는 것을 찾을 때 -1\n",
        "'pineapple is yummy apple'.index('xpple') # 없는 것을 찾을 때 error <- error가 나면 서비스 멈춥니다!\n",
        "# 예를 들어 주기적으로 크롤링하는 코드가 있다면\n",
        "# find를 쓰셔서 error가 안나고 다음 코드로 넘어가게 코딩하실 수 있습니다.\n",
        "# 예외처리를 하는 것이 가장 좋습니다.\n",
        "# 정답: 목적에 맞게 사용하셔야 합니다."
      ],
      "metadata": {
        "id": "imZaMCuW86Vk"
      },
      "execution_count": null,
      "outputs": []
    },
    {
      "cell_type": "code",
      "source": [
        "'pineapple is yummy apple'.rfind('apple')\n",
        "'pineapple is yummy apple'.rindex('apple')"
      ],
      "metadata": {
        "colab": {
          "base_uri": "https://localhost:8080/"
        },
        "id": "QK1smtOt-RgJ",
        "outputId": "ceae0018-4e68-47c3-cfb5-5a9e137b51e9"
      },
      "execution_count": null,
      "outputs": [
        {
          "output_type": "execute_result",
          "data": {
            "text/plain": [
              "19"
            ]
          },
          "metadata": {},
          "execution_count": 112
        }
      ]
    },
    {
      "cell_type": "code",
      "source": [
        "'pineapple is yummy apple'.find('apple', 10)\n",
        "'pineapple is yummy apple'.index('apple', 10)"
      ],
      "metadata": {
        "colab": {
          "base_uri": "https://localhost:8080/"
        },
        "id": "y5tfwUMk-ZlZ",
        "outputId": "b10c7b84-af71-4bf6-ba2f-a4492701b5fc"
      },
      "execution_count": null,
      "outputs": [
        {
          "output_type": "execute_result",
          "data": {
            "text/plain": [
              "19"
            ]
          },
          "metadata": {},
          "execution_count": 114
        }
      ]
    },
    {
      "cell_type": "markdown",
      "source": [
        "# 31번\n"
      ],
      "metadata": {
        "id": "UA6V3Rog_Mga"
      }
    },
    {
      "cell_type": "code",
      "source": [
        "# https://wayhome25.github.io/python/2017/06/14/time-complexity/\n",
        "# 1)  l[i]\n",
        "# 2)  l.append(5)\n",
        "# 3)  l[a:b] # 정답\n",
        "# 4)  l.pop()\n",
        "# 5)  l.clear()"
      ],
      "metadata": {
        "id": "d1kCIHJ--pAc"
      },
      "execution_count": null,
      "outputs": []
    },
    {
      "cell_type": "code",
      "source": [
        "# 그럼에도 불구하고 슬라이싱을 사용해야 할 경우\n",
        "# error를 발생시키지 않기 때문에\n",
        "\n",
        "l = [1, 2, 3, 4, 5]\n",
        "\n",
        "# l[10]  # out of range error!\n",
        "l[10:11] # out of range error가 안남! 그런데 기능은 같음!"
      ],
      "metadata": {
        "colab": {
          "base_uri": "https://localhost:8080/"
        },
        "id": "5Hkxv3SF_Tan",
        "outputId": "220a5759-9735-4713-f9e4-e44c5ce20d77"
      },
      "execution_count": null,
      "outputs": [
        {
          "output_type": "execute_result",
          "data": {
            "text/plain": [
              "[]"
            ]
          },
          "metadata": {},
          "execution_count": 118
        }
      ]
    },
    {
      "cell_type": "markdown",
      "source": [
        "# 35번"
      ],
      "metadata": {
        "id": "GU6mJZV-AUiK"
      }
    },
    {
      "cell_type": "code",
      "source": [
        "# 객체지향 프로그래밍 예제\n",
        "class Book:\n",
        "    def __init__(self, title, content, author, pub_date):\n",
        "        self.title = title\n",
        "        self.content = content\n",
        "        self.author = author\n",
        "        self.pub_date = pub_date\n",
        "\n",
        "    def calculate_date(self):\n",
        "         self.pub_date - self.current_date"
      ],
      "metadata": {
        "id": "W33t-W80ByfI"
      },
      "execution_count": null,
      "outputs": []
    },
    {
      "cell_type": "code",
      "source": [
        "# 1. 함수를 변수에 할당할 수 있습니다.\n",
        "# 2. 함수를 데이터 구조에 저장할 수 있습니다.\n",
        "# 3. 함수를 인자로 다른 함수에 전달할 수 있습니다.\n",
        "# 4. 함수를 결과로서 반환할 수 있습니다."
      ],
      "metadata": {
        "id": "HkCE3E7fDn5f"
      },
      "execution_count": null,
      "outputs": []
    },
    {
      "cell_type": "code",
      "source": [
        "# 매우매우 중요한 내용\n",
        "\n",
        "def one(n):\n",
        "    def two(value):\n",
        "        return value ** n\n",
        "    return two\n",
        "\n",
        "a = one(2)\n",
        "b = one(3)\n",
        "c = one(4)\n",
        "print(a(10))\n",
        "print(b(10))\n",
        "print(c(10))"
      ],
      "metadata": {
        "colab": {
          "base_uri": "https://localhost:8080/"
        },
        "id": "_Hupk7oXAWGG",
        "outputId": "8d23447e-7ff5-40df-f036-2272e8c33591"
      },
      "execution_count": null,
      "outputs": [
        {
          "output_type": "stream",
          "name": "stdout",
          "text": [
            "100\n",
            "1000\n",
            "10000\n"
          ]
        }
      ]
    }
  ]
}