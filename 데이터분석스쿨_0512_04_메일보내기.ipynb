{
  "nbformat": 4,
  "nbformat_minor": 0,
  "metadata": {
    "colab": {
      "provenance": [],
      "authorship_tag": "ABX9TyPdOCQMIsP2hAy/AuMLF11A",
      "include_colab_link": true
    },
    "kernelspec": {
      "name": "python3",
      "display_name": "Python 3"
    },
    "language_info": {
      "name": "python"
    }
  },
  "cells": [
    {
      "cell_type": "markdown",
      "metadata": {
        "id": "view-in-github",
        "colab_type": "text"
      },
      "source": [
        "<a href=\"https://colab.research.google.com/github/kalswjd/DA_School_1/blob/main/%EB%8D%B0%EC%9D%B4%ED%84%B0%EB%B6%84%EC%84%9D%EC%8A%A4%EC%BF%A8_0512_04_%EB%A9%94%EC%9D%BC%EB%B3%B4%EB%82%B4%EA%B8%B0.ipynb\" target=\"_parent\"><img src=\"https://colab.research.google.com/assets/colab-badge.svg\" alt=\"Open In Colab\"/></a>"
      ]
    },
    {
      "cell_type": "markdown",
      "source": [
        "\n",
        "SMTP (Simple Mail Transfer Protocol)와 IMAP (Internet Message Access Protocol)은 이메일 서비스에서 사용되는 두 가지 주요 프로토콜입니다. 각각의 역할과 동작 방식은 다음과 같습니다:\n",
        "\n",
        "SMTP (Simple Mail Transfer Protocol):\n",
        "\n",
        "SMTP는 이메일 전송을 위한 프로토콜로, 이메일 클라이언트가 이메일을 보낼 때 사용됩니다.\n",
        "보통 이메일 클라이언트(예: 메일 앱, 웹메일)는 SMTP 서버에 접속하여 이메일을 보내는데 사용합니다.\n",
        "SMTP 서버는 이메일을 받는 서버로 이메일을 전송하고, 수신자의 메일 서버에서 이메일을 수신할 준비를 합니다.\n",
        "SMTP는 일반적으로 25번 포트를 사용하며, 보안 연결을 위해 SSL/TLS 암호화를 지원할 수 있습니다.\n",
        "IMAP (Internet Message Access Protocol):\n",
        "\n",
        "IMAP은 이메일 클라이언트가 이메일 서버와 상호작용하여 이메일을 읽고 관리하는 데 사용되는 프로토콜입니다.\n",
        "IMAP는 이메일 서버에서 이메일을 읽기 위해 사용되며, 이메일 클라이언트는 IMAP 서버에 연결하여 이메일을 다운로드하고 관리할 수 있습니다.\n",
        "IMAP는 이메일을 서버에 보관하고 클라이언트에서 필요할 때 동기화하여 이메일의 상태(읽음/읽지 않음, 폴더 구조 등)를 유지합니다.\n",
        "IMAP는 일반적으로 143번 포트를 사용하며, 보안 연결을 위해 SSL/TLS 암호화를 지원할 수 있습니다.\n",
        "SMTP는 이메일을 보내는 데 사용되는 프로토콜이고, IMAP은 이메일을 읽고 관리하는 데 사용되는 프로토콜입니다. 이메일 클라이언트는 SMTP를 사용하여 이메일을 전송하고, IMAP를 사용하여 이메일 서버에서 이메일을 읽고 관리할 수 있습니다."
      ],
      "metadata": {
        "id": "_P4cFw0nfdIG"
      }
    },
    {
      "cell_type": "code",
      "execution_count": null,
      "metadata": {
        "id": "FfwU5tkcciV0"
      },
      "outputs": [],
      "source": [
        "from email.message import EmailMessage\n",
        "import smtplib\n",
        "\n",
        "# SMTP = Simple Mail Trans Promise?\n",
        "# SMTP 접속을 위한 서버, 계정 설정\n",
        "SMTP_SERVER = \"smtp.gmail.com\"\n",
        "# google의 SMTP server 포트 주소는 465\n",
        "SMTP_PORT = 465\n",
        "\n",
        "\n",
        "# 이메일 유효성 검사 함수\n",
        "def is_valid(addr):\n",
        "    import re\n",
        "    if re.match('(^[a-zA-Z0-9.+_-]+@[a-zA-Z0-9-]+.[a-zA-Z]{2,3}$)', addr):\n",
        "        return True\n",
        "    else:\n",
        "        return False\n",
        "\n",
        "message = EmailMessage()\n",
        "message.set_content(\"코드라이언 메일링 수업 - 본문입니다.\")\n",
        "\n",
        "message[\"Subject\"] = \"코드라이언 메일링 수업입니다.\"\n",
        "message[\"From\"] = \"###@gmail.com\"\n",
        "message[\"To\"] = \"###@gmail.com\"\n",
        "\n",
        "smtp = smtplib.SMTP_SSL(SMTP_SERVER,SMTP_PORT)\n",
        "smtp.login(\"###@gmail.com\",\"######\")\n",
        "\n",
        "is_valid(\"###@gmail.com\")\n",
        "if smtp.send_message(message)=={} :\n",
        "    print(\"성공적으로 메일을 보냈습니다.\")\n",
        "\n",
        "smtp.quit()"
      ]
    },
    {
      "cell_type": "code",
      "source": [
        "import smtplib\n",
        "from email.message import EmailMessage\n",
        "import imghdr\n",
        "\n",
        "SMTP_SERVER = \"smtp.gmail.com\"\n",
        "SMTP_PORT = 465\n",
        "\n",
        "message = EmailMessage()\n",
        "message.set_content(\"코드라이언 수업중입니다.\")\n",
        "\n",
        "message[\"Subject\"] = \"이것은 제목입니다.\"\n",
        "message[\"From\"] = \"###@gmail.com\"\n",
        "message[\"To\"] = \"###@gmail.com\"\n",
        "\n",
        "with open(\"codelion.png\",\"rb\") as image:\n",
        "    image_file = image.read()\n",
        "\n",
        "image_type = imghdr.what('codelion',image_file)\n",
        "message.add_attachment(image_file,maintype='image',subtype=image_type)\n",
        "\n",
        "smtp = smtplib.SMTP_SSL(SMTP_SERVER,SMTP_PORT)\n",
        "smtp.login(\"###@gmail.com\",\"######\")\n",
        "smtp.send_message(message)\n",
        "smtp.quit()"
      ],
      "metadata": {
        "id": "h0sfZ1RHsNX2"
      },
      "execution_count": null,
      "outputs": []
    }
  ]
}