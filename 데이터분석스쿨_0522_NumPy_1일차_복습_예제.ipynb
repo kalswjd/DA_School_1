{
  "nbformat": 4,
  "nbformat_minor": 0,
  "metadata": {
    "colab": {
      "provenance": [],
      "include_colab_link": true
    },
    "kernelspec": {
      "name": "python3",
      "display_name": "Python 3"
    },
    "language_info": {
      "name": "python"
    }
  },
  "cells": [
    {
      "cell_type": "markdown",
      "metadata": {
        "id": "view-in-github",
        "colab_type": "text"
      },
      "source": [
        "<a href=\"https://colab.research.google.com/github/kalswjd/DA_School_1/blob/main/%EB%8D%B0%EC%9D%B4%ED%84%B0%EB%B6%84%EC%84%9D%EC%8A%A4%EC%BF%A8_0522_NumPy_1%EC%9D%BC%EC%B0%A8_%EB%B3%B5%EC%8A%B5_%EC%98%88%EC%A0%9C.ipynb\" target=\"_parent\"><img src=\"https://colab.research.google.com/assets/colab-badge.svg\" alt=\"Open In Colab\"/></a>"
      ]
    },
    {
      "cell_type": "code",
      "source": [
        "import numpy as np"
      ],
      "metadata": {
        "id": "BiANlsrJTdzG"
      },
      "execution_count": 3,
      "outputs": []
    },
    {
      "cell_type": "markdown",
      "source": [
        "### 1. array()\n",
        "차원별 배열 생성"
      ],
      "metadata": {
        "id": "OKrwU24p-ppP"
      }
    },
    {
      "cell_type": "code",
      "execution_count": 4,
      "metadata": {
        "colab": {
          "base_uri": "https://localhost:8080/"
        },
        "id": "GoiLD1x28yGB",
        "outputId": "89ad94c1-53ab-4a50-c0df-2d41b6e13c19"
      },
      "outputs": [
        {
          "output_type": "stream",
          "name": "stdout",
          "text": [
            "[1 2 3 4 5]\n"
          ]
        }
      ],
      "source": [
        "arr_1d = np.array([1, 2, 3, 4, 5])\n",
        "print(arr_1d)"
      ]
    },
    {
      "cell_type": "code",
      "source": [
        "arr_1d = np.array([i for i in range(1,10, 2)])\n",
        "print(arr_1d)"
      ],
      "metadata": {
        "colab": {
          "base_uri": "https://localhost:8080/"
        },
        "id": "sVu-3iLC-6I_",
        "outputId": "3255742f-9f01-4fb1-931b-8dbd46303bec"
      },
      "execution_count": 5,
      "outputs": [
        {
          "output_type": "stream",
          "name": "stdout",
          "text": [
            "[1 3 5 7 9]\n"
          ]
        }
      ]
    },
    {
      "cell_type": "code",
      "source": [
        "print(np.array(range(10)))\n",
        "print(np.array(range(1, 11)))\n",
        "print(np.array(range(2, 11, 2)))\n",
        "print(np.array(range(10, 2, -1)))"
      ],
      "metadata": {
        "colab": {
          "base_uri": "https://localhost:8080/"
        },
        "id": "KQdFjlHuusuc",
        "outputId": "aeff6711-21fb-449f-ac4d-c2a362f834ac"
      },
      "execution_count": 6,
      "outputs": [
        {
          "output_type": "stream",
          "name": "stdout",
          "text": [
            "[0 1 2 3 4 5 6 7 8 9]\n",
            "[ 1  2  3  4  5  6  7  8  9 10]\n",
            "[ 2  4  6  8 10]\n",
            "[10  9  8  7  6  5  4  3]\n"
          ]
        }
      ]
    },
    {
      "cell_type": "code",
      "source": [
        "arr_1d = np.array([1, 2, 3, 4, 5],dtype='f')\n",
        "print(arr_1d)"
      ],
      "metadata": {
        "colab": {
          "base_uri": "https://localhost:8080/"
        },
        "id": "-mznTH8bCANx",
        "outputId": "a14a4cf1-5513-4357-c417-81195620322f"
      },
      "execution_count": 7,
      "outputs": [
        {
          "output_type": "stream",
          "name": "stdout",
          "text": [
            "[1. 2. 3. 4. 5.]\n"
          ]
        }
      ]
    },
    {
      "cell_type": "code",
      "source": [
        "arr_2d = np.array([[1, 2, 3], [4, 5, 6]])\n",
        "print(arr_2d)"
      ],
      "metadata": {
        "colab": {
          "base_uri": "https://localhost:8080/"
        },
        "id": "EXBINYxu-BfQ",
        "outputId": "495a65c1-5df3-4fac-8d23-faf922111412"
      },
      "execution_count": 8,
      "outputs": [
        {
          "output_type": "stream",
          "name": "stdout",
          "text": [
            "[[1 2 3]\n",
            " [4 5 6]]\n"
          ]
        }
      ]
    },
    {
      "cell_type": "code",
      "source": [
        "arr_2d = np.array(range(1,13, 2)).reshape(2,3)\n",
        "print(arr_2d)"
      ],
      "metadata": {
        "colab": {
          "base_uri": "https://localhost:8080/"
        },
        "id": "AdaDZRQoBmvp",
        "outputId": "6be66832-ae0a-4ada-b927-aec1da07c8fd"
      },
      "execution_count": 9,
      "outputs": [
        {
          "output_type": "stream",
          "name": "stdout",
          "text": [
            "[[ 1  3  5]\n",
            " [ 7  9 11]]\n"
          ]
        }
      ]
    },
    {
      "cell_type": "code",
      "source": [
        "# Error : 요소의 개수가 reshape의 행렬 개수에 맞게 설정해야 합니다.\n",
        "arr_2d = np.array(range(1,13, 2)).reshape(2,4)\n",
        "print(arr_2d)"
      ],
      "metadata": {
        "colab": {
          "base_uri": "https://localhost:8080/",
          "height": 205
        },
        "id": "eRPXW44YDS_h",
        "outputId": "4f6ff12f-c069-4d53-d334-a6812f3f0f77"
      },
      "execution_count": 11,
      "outputs": [
        {
          "output_type": "error",
          "ename": "ValueError",
          "evalue": "ignored",
          "traceback": [
            "\u001b[0;31m---------------------------------------------------------------------------\u001b[0m",
            "\u001b[0;31mValueError\u001b[0m                                Traceback (most recent call last)",
            "\u001b[0;32m<ipython-input-11-5be7b854a160>\u001b[0m in \u001b[0;36m<cell line: 2>\u001b[0;34m()\u001b[0m\n\u001b[1;32m      1\u001b[0m \u001b[0;31m# Error : 요소의 개수가 reshape의 행렬 개수에 맞게 설정해야 합니다.\u001b[0m\u001b[0;34m\u001b[0m\u001b[0;34m\u001b[0m\u001b[0m\n\u001b[0;32m----> 2\u001b[0;31m \u001b[0marr_2d\u001b[0m \u001b[0;34m=\u001b[0m \u001b[0mnp\u001b[0m\u001b[0;34m.\u001b[0m\u001b[0marray\u001b[0m\u001b[0;34m(\u001b[0m\u001b[0mrange\u001b[0m\u001b[0;34m(\u001b[0m\u001b[0;36m1\u001b[0m\u001b[0;34m,\u001b[0m\u001b[0;36m13\u001b[0m\u001b[0;34m,\u001b[0m \u001b[0;36m2\u001b[0m\u001b[0;34m)\u001b[0m\u001b[0;34m)\u001b[0m\u001b[0;34m.\u001b[0m\u001b[0mreshape\u001b[0m\u001b[0;34m(\u001b[0m\u001b[0;36m2\u001b[0m\u001b[0;34m,\u001b[0m\u001b[0;36m4\u001b[0m\u001b[0;34m)\u001b[0m\u001b[0;34m\u001b[0m\u001b[0;34m\u001b[0m\u001b[0m\n\u001b[0m\u001b[1;32m      3\u001b[0m \u001b[0mprint\u001b[0m\u001b[0;34m(\u001b[0m\u001b[0marr_2d\u001b[0m\u001b[0;34m)\u001b[0m\u001b[0;34m\u001b[0m\u001b[0;34m\u001b[0m\u001b[0m\n",
            "\u001b[0;31mValueError\u001b[0m: cannot reshape array of size 6 into shape (2,4)"
          ]
        }
      ]
    },
    {
      "cell_type": "code",
      "source": [
        "arr_3d = np.array([[[1, 2], [3, 4]], [[5, 6], [7, 8]]])\n",
        "print(arr_3d)"
      ],
      "metadata": {
        "colab": {
          "base_uri": "https://localhost:8080/"
        },
        "id": "_wuQCTN_-CvX",
        "outputId": "73d4da49-4a83-425b-e209-e82df13ab3a7"
      },
      "execution_count": 12,
      "outputs": [
        {
          "output_type": "stream",
          "name": "stdout",
          "text": [
            "[[[1 2]\n",
            "  [3 4]]\n",
            "\n",
            " [[5 6]\n",
            "  [7 8]]]\n"
          ]
        }
      ]
    },
    {
      "cell_type": "markdown",
      "source": [
        "### 2. arange()"
      ],
      "metadata": {
        "id": "D1Q02kHm_4fH"
      }
    },
    {
      "cell_type": "code",
      "source": [
        "print(np.array(range(10)))\n",
        "print(np.array(range(1, 11)))\n",
        "print(np.array(range(2, 11, 2)))\n",
        "#print(np.array(range(2, 11, 0.5)))\n",
        "print(np.array(range(10, 2, -1)))\n",
        "#print(np.array(range(10, 2, -0.5)))"
      ],
      "metadata": {
        "colab": {
          "base_uri": "https://localhost:8080/"
        },
        "id": "Nhhq83Nx_7N5",
        "outputId": "a32cd9d0-2eb1-4ae0-b099-aea7ca90c370"
      },
      "execution_count": 16,
      "outputs": [
        {
          "output_type": "stream",
          "name": "stdout",
          "text": [
            "[0 1 2 3 4 5 6 7 8 9]\n",
            "[ 1  2  3  4  5  6  7  8  9 10]\n",
            "[ 2  4  6  8 10]\n",
            "[10  9  8  7  6  5  4  3]\n"
          ]
        }
      ]
    },
    {
      "cell_type": "code",
      "source": [
        "print(np.arange(10))\n",
        "print(np.arange(1, 11))\n",
        "print(np.arange(2, 11, 2))\n",
        "print(np.arange(2, 11, .5))\n",
        "print(np.arange(10, 2, -1))\n",
        "print(np.arange(10, 2, -.5))"
      ],
      "metadata": {
        "colab": {
          "base_uri": "https://localhost:8080/"
        },
        "id": "nR-vKbu2ABuP",
        "outputId": "ad0b63ee-80c8-49ba-fe8d-cf07fd35a6a2"
      },
      "execution_count": 18,
      "outputs": [
        {
          "output_type": "stream",
          "name": "stdout",
          "text": [
            "[0 1 2 3 4 5 6 7 8 9]\n",
            "[ 1  2  3  4  5  6  7  8  9 10]\n",
            "[ 2  4  6  8 10]\n",
            "[ 2.   2.5  3.   3.5  4.   4.5  5.   5.5  6.   6.5  7.   7.5  8.   8.5\n",
            "  9.   9.5 10.  10.5]\n",
            "[10  9  8  7  6  5  4  3]\n",
            "[10.   9.5  9.   8.5  8.   7.5  7.   6.5  6.   5.5  5.   4.5  4.   3.5\n",
            "  3.   2.5]\n"
          ]
        }
      ]
    },
    {
      "cell_type": "markdown",
      "source": [
        "### 3. 다양한 배열 만들기\n"
      ],
      "metadata": {
        "id": "mlx1kAeq_8HH"
      }
    },
    {
      "cell_type": "code",
      "source": [
        "# 일차원으로 변경\n",
        "arr_3d.ravel()"
      ],
      "metadata": {
        "id": "oSXKycIDCguh",
        "colab": {
          "base_uri": "https://localhost:8080/"
        },
        "outputId": "1f86b4a4-1309-4d8d-dd1e-4dc9aeb2ee6b"
      },
      "execution_count": 19,
      "outputs": [
        {
          "output_type": "execute_result",
          "data": {
            "text/plain": [
              "array([1, 2, 3, 4, 5, 6, 7, 8])"
            ]
          },
          "metadata": {},
          "execution_count": 19
        }
      ]
    },
    {
      "cell_type": "code",
      "source": [
        "# 0으로 채워진 배열 생성\n",
        "z = np.zeros((2,2))\n",
        "z"
      ],
      "metadata": {
        "colab": {
          "base_uri": "https://localhost:8080/"
        },
        "id": "LKMFELo-BFCI",
        "outputId": "1d5d6d8c-f5aa-450f-ccb8-24e71ce56588"
      },
      "execution_count": 20,
      "outputs": [
        {
          "output_type": "execute_result",
          "data": {
            "text/plain": [
              "array([[0., 0.],\n",
              "       [0., 0.]])"
            ]
          },
          "metadata": {},
          "execution_count": 20
        }
      ]
    },
    {
      "cell_type": "code",
      "source": [
        "# 1로 채워진 배열 생성\n",
        "one1 = np.ones((2,2))\n",
        "one1"
      ],
      "metadata": {
        "colab": {
          "base_uri": "https://localhost:8080/"
        },
        "id": "IIDbbKb-BPAJ",
        "outputId": "afc32f48-caea-4580-96d2-48430fcbb83b"
      },
      "execution_count": 21,
      "outputs": [
        {
          "output_type": "execute_result",
          "data": {
            "text/plain": [
              "array([[1., 1.],\n",
              "       [1., 1.]])"
            ]
          },
          "metadata": {},
          "execution_count": 21
        }
      ]
    },
    {
      "cell_type": "code",
      "source": [
        "# 내가 원하는 값으로 채워진 배열 생성\n",
        "f = np.full((2,2),10)\n",
        "f"
      ],
      "metadata": {
        "colab": {
          "base_uri": "https://localhost:8080/"
        },
        "id": "h0cowFaDBV0w",
        "outputId": "daeee033-1b4c-4dc6-d0a0-15cdb32989be"
      },
      "execution_count": 22,
      "outputs": [
        {
          "output_type": "execute_result",
          "data": {
            "text/plain": [
              "array([[10, 10],\n",
              "       [10, 10]])"
            ]
          },
          "metadata": {},
          "execution_count": 22
        }
      ]
    },
    {
      "cell_type": "code",
      "source": [
        "# 단위행렬\n",
        "e = np.eye(3)\n",
        "e"
      ],
      "metadata": {
        "colab": {
          "base_uri": "https://localhost:8080/"
        },
        "id": "sngp8s9gBdBE",
        "outputId": "4289435c-159e-4493-c267-6b193db75b00"
      },
      "execution_count": 23,
      "outputs": [
        {
          "output_type": "execute_result",
          "data": {
            "text/plain": [
              "array([[1., 0., 0.],\n",
              "       [0., 1., 0.],\n",
              "       [0., 0., 1.]])"
            ]
          },
          "metadata": {},
          "execution_count": 23
        }
      ]
    },
    {
      "cell_type": "markdown",
      "source": [
        "### 4. 넘파이 함수를 이용해서 문제풀기\n"
      ],
      "metadata": {
        "id": "7kmDdEn0CEua"
      }
    },
    {
      "cell_type": "markdown",
      "source": [
        "4.1 주어진 여러 개의 1차원 배열을 연결하여 하나의 큰 1차원 배열로 반환하세요."
      ],
      "metadata": {
        "id": "3NY4GW0gFcV8"
      }
    },
    {
      "cell_type": "code",
      "source": [
        "arr1 = np.array([1, 2, 3])\n",
        "arr2 = np.array([4, 5, 6])\n",
        "arr3 = np.array([7, 8, 9, 10])\n",
        "\n",
        "# concat 함수\n",
        "\n",
        "arr_a = np.concatenate(arr1, arr2, arr3)"
      ],
      "metadata": {
        "id": "Vkl7fwFAFb6H",
        "colab": {
          "base_uri": "https://localhost:8080/",
          "height": 241
        },
        "outputId": "cfda22dc-52b1-4764-de23-f33de5bdd039"
      },
      "execution_count": 26,
      "outputs": [
        {
          "output_type": "error",
          "ename": "TypeError",
          "evalue": "ignored",
          "traceback": [
            "\u001b[0;31m---------------------------------------------------------------------------\u001b[0m",
            "\u001b[0;31mTypeError\u001b[0m                                 Traceback (most recent call last)",
            "\u001b[0;32m<ipython-input-26-f1737b5bca04>\u001b[0m in \u001b[0;36m<cell line: 7>\u001b[0;34m()\u001b[0m\n\u001b[1;32m      5\u001b[0m \u001b[0;31m# concat 함수\u001b[0m\u001b[0;34m\u001b[0m\u001b[0;34m\u001b[0m\u001b[0m\n\u001b[1;32m      6\u001b[0m \u001b[0;34m\u001b[0m\u001b[0m\n\u001b[0;32m----> 7\u001b[0;31m \u001b[0marr_a\u001b[0m \u001b[0;34m=\u001b[0m \u001b[0mnp\u001b[0m\u001b[0;34m.\u001b[0m\u001b[0mconcatenate\u001b[0m\u001b[0;34m(\u001b[0m\u001b[0marr1\u001b[0m\u001b[0;34m,\u001b[0m \u001b[0marr2\u001b[0m\u001b[0;34m,\u001b[0m \u001b[0marr3\u001b[0m\u001b[0;34m)\u001b[0m\u001b[0;34m\u001b[0m\u001b[0;34m\u001b[0m\u001b[0m\n\u001b[0m",
            "\u001b[0;32m/usr/local/lib/python3.10/dist-packages/numpy/core/overrides.py\u001b[0m in \u001b[0;36mconcatenate\u001b[0;34m(*args, **kwargs)\u001b[0m\n",
            "\u001b[0;31mTypeError\u001b[0m: only integer scalar arrays can be converted to a scalar index"
          ]
        }
      ]
    },
    {
      "cell_type": "markdown",
      "source": [
        "4.2 주어진 2차원 배열에서 각 열의 평균값을 계산하여 새로운 1차원 배열로 나타내세요."
      ],
      "metadata": {
        "id": "wSUEHCtZDv3d"
      }
    },
    {
      "cell_type": "code",
      "source": [
        "arr = np.array([[1, 2, 3],\n",
        "                [4, 5, 6],\n",
        "                [7, 8, 9]])\n",
        "\n",
        "# mean() 함수 응용하기"
      ],
      "metadata": {
        "id": "AVTW0JoFDISj"
      },
      "execution_count": 28,
      "outputs": []
    },
    {
      "cell_type": "markdown",
      "source": [
        "4.3 주어진 2차원 배열에서 각 행의 최대값을 구하여 1차원 배열로 반환하세요."
      ],
      "metadata": {
        "id": "MXErZvfKF2ab"
      }
    },
    {
      "cell_type": "code",
      "source": [
        "# np.max()"
      ],
      "metadata": {
        "id": "4KWotBvVEUZz"
      },
      "execution_count": 29,
      "outputs": []
    },
    {
      "cell_type": "markdown",
      "source": [
        "4.4 0에서 1사이의 값으로 크기 10개의 1차원 배열을 만들어주세요."
      ],
      "metadata": {
        "id": "-D_U06VjF5HQ"
      }
    },
    {
      "cell_type": "code",
      "source": [
        "# linspace()"
      ],
      "metadata": {
        "id": "P-hokyldDCNR"
      },
      "execution_count": 30,
      "outputs": []
    },
    {
      "cell_type": "markdown",
      "source": [
        "4.5 주어진 1차원 배열에서 짝수인 요소들의 합을 계산하는 함수 sum_of_evens를 작성하세요.\n",
        "\n",
        "- \n",
        "def sum_of_evens(arr: np.ndarray) -> int:\n"
      ],
      "metadata": {
        "id": "YACcR5G5C51Y"
      }
    },
    {
      "cell_type": "code",
      "source": [
        "arr = np.array([1, 2, 3, 4, 5, 6, 7, 8, 9, 10])\n",
        "\n",
        "print(sum_of_evens(arr))"
      ],
      "metadata": {
        "id": "61DYHP7DCDy0",
        "colab": {
          "base_uri": "https://localhost:8080/",
          "height": 205
        },
        "outputId": "64d11a65-77e4-458c-e5a3-e0802a567495"
      },
      "execution_count": 31,
      "outputs": [
        {
          "output_type": "error",
          "ename": "NameError",
          "evalue": "ignored",
          "traceback": [
            "\u001b[0;31m---------------------------------------------------------------------------\u001b[0m",
            "\u001b[0;31mNameError\u001b[0m                                 Traceback (most recent call last)",
            "\u001b[0;32m<ipython-input-31-368a4f01aedb>\u001b[0m in \u001b[0;36m<cell line: 3>\u001b[0;34m()\u001b[0m\n\u001b[1;32m      1\u001b[0m \u001b[0marr\u001b[0m \u001b[0;34m=\u001b[0m \u001b[0mnp\u001b[0m\u001b[0;34m.\u001b[0m\u001b[0marray\u001b[0m\u001b[0;34m(\u001b[0m\u001b[0;34m[\u001b[0m\u001b[0;36m1\u001b[0m\u001b[0;34m,\u001b[0m \u001b[0;36m2\u001b[0m\u001b[0;34m,\u001b[0m \u001b[0;36m3\u001b[0m\u001b[0;34m,\u001b[0m \u001b[0;36m4\u001b[0m\u001b[0;34m,\u001b[0m \u001b[0;36m5\u001b[0m\u001b[0;34m,\u001b[0m \u001b[0;36m6\u001b[0m\u001b[0;34m,\u001b[0m \u001b[0;36m7\u001b[0m\u001b[0;34m,\u001b[0m \u001b[0;36m8\u001b[0m\u001b[0;34m,\u001b[0m \u001b[0;36m9\u001b[0m\u001b[0;34m,\u001b[0m \u001b[0;36m10\u001b[0m\u001b[0;34m]\u001b[0m\u001b[0;34m)\u001b[0m\u001b[0;34m\u001b[0m\u001b[0;34m\u001b[0m\u001b[0m\n\u001b[1;32m      2\u001b[0m \u001b[0;34m\u001b[0m\u001b[0m\n\u001b[0;32m----> 3\u001b[0;31m \u001b[0mprint\u001b[0m\u001b[0;34m(\u001b[0m\u001b[0msum_of_evens\u001b[0m\u001b[0;34m(\u001b[0m\u001b[0marr\u001b[0m\u001b[0;34m)\u001b[0m\u001b[0;34m)\u001b[0m\u001b[0;34m\u001b[0m\u001b[0;34m\u001b[0m\u001b[0m\n\u001b[0m",
            "\u001b[0;31mNameError\u001b[0m: name 'sum_of_evens' is not defined"
          ]
        }
      ]
    },
    {
      "cell_type": "markdown",
      "source": [
        "4.6 수평분할, 수직분할, 수평 스택, 수직 스택 문제를 풀어봅시다."
      ],
      "metadata": {
        "id": "FXJdaDw1Jv0B"
      }
    },
    {
      "cell_type": "code",
      "source": [
        "# 분할할 배열 생성\n",
        "arr = np.arange(1, 13).reshape((3, 4))\n",
        "print(\"원본 배열:\")\n",
        "print(arr)"
      ],
      "metadata": {
        "id": "QLOHcFY9DIPc"
      },
      "execution_count": null,
      "outputs": []
    },
    {
      "cell_type": "code",
      "source": [
        "# 1. 수평분할하기 -> 다시 원본으로 스택쌓기\n",
        "\n",
        "# 2. 수직분할하기 -> 다시 원본으로 스택쌓기"
      ],
      "metadata": {
        "id": "iHCtoZJ2DIMz"
      },
      "execution_count": null,
      "outputs": []
    },
    {
      "cell_type": "markdown",
      "source": [
        "4.7 배열에서 조건에 맞는 값 반환하는 문제를 풀어봅시다."
      ],
      "metadata": {
        "id": "EA_dQ9HtKv_6"
      }
    },
    {
      "cell_type": "code",
      "source": [
        "# 조건 : 값을 10으로 나누었을 때 나머지가 0이면 원래 값 출력, 아니면 0으로 출력하세요.\n",
        "arr = np.arange(0, 100, 5).reshape((5,4))"
      ],
      "metadata": {
        "id": "Cdx6vcjhLb7w"
      },
      "execution_count": null,
      "outputs": []
    },
    {
      "cell_type": "markdown",
      "source": [
        "4.8 [3x3]배열 lst 중 짝수만 뽑아내는 부울린 인덱싱 배열(numpy 배열)을 사용하여 짝수 배열 n 을 만드시오"
      ],
      "metadata": {
        "id": "bdkTldLZNgkk"
      }
    },
    {
      "cell_type": "code",
      "source": [
        "lst = [\n",
        "    [1, 2, 3],\n",
        "    [4, 5, 6],\n",
        "    [7, 8, 9]\n",
        "]\n",
        "a = np.array(lst)"
      ],
      "metadata": {
        "id": "c2c-M8MbNMSc"
      },
      "execution_count": null,
      "outputs": []
    },
    {
      "cell_type": "markdown",
      "source": [
        "4.9 각도를 이용해서 삼각함수를 만들어봅시다."
      ],
      "metadata": {
        "id": "gppC3bXIOvg1"
      }
    },
    {
      "cell_type": "code",
      "source": [
        "angle = np.pi / 3 # 라디안 표기 = 60도 \n",
        "# 360도는 2라디안 으로, 180도는 1라디안으로 표현합니다.\n",
        "\n",
        "angle"
      ],
      "metadata": {
        "id": "Wz5tCit9OvP9"
      },
      "execution_count": null,
      "outputs": []
    },
    {
      "cell_type": "markdown",
      "source": [
        "4.10 조건함수를 사용해서  짝수조건을 만족하는 요소의 값이 2배로 만드는 배열을 만드시오."
      ],
      "metadata": {
        "id": "JbaHd9nGPqfV"
      }
    },
    {
      "cell_type": "code",
      "source": [
        "arr = np.array([1, 2, 3, 4, 5])"
      ],
      "metadata": {
        "id": "oh6_e4zvOvIa"
      },
      "execution_count": null,
      "outputs": []
    },
    {
      "cell_type": "code",
      "source": [],
      "metadata": {
        "id": "MFvQvXVHQQA6"
      },
      "execution_count": null,
      "outputs": []
    },
    {
      "cell_type": "code",
      "source": [],
      "metadata": {
        "id": "ysRHkucuDIKG"
      },
      "execution_count": null,
      "outputs": []
    },
    {
      "cell_type": "code",
      "source": [],
      "metadata": {
        "id": "AqHStSn0DIHp"
      },
      "execution_count": null,
      "outputs": []
    },
    {
      "cell_type": "code",
      "source": [],
      "metadata": {
        "id": "S9oFG7mXDID9"
      },
      "execution_count": null,
      "outputs": []
    },
    {
      "cell_type": "code",
      "source": [],
      "metadata": {
        "id": "Rmq6JUn3DIBf"
      },
      "execution_count": null,
      "outputs": []
    },
    {
      "cell_type": "code",
      "source": [
        "# 4.1 정답\n",
        "arr1 = np.array([1, 2, 3])\n",
        "arr2 = np.array([4, 5, 6])\n",
        "arr3 = np.array([7, 8, 9, 10])\n",
        "np.concatenate([arr1,arr2,arr3])"
      ],
      "metadata": {
        "id": "tvIgycjtFDlu"
      },
      "execution_count": null,
      "outputs": []
    },
    {
      "cell_type": "code",
      "source": [
        "# 4.2 정답\n",
        "\n",
        "np.mean(arr, axis=0) \n"
      ],
      "metadata": {
        "id": "YEyTtnStDNAH"
      },
      "execution_count": null,
      "outputs": []
    },
    {
      "cell_type": "code",
      "source": [
        "# 4.3 정답\n",
        "\n",
        "np.max(arr, axis=1)"
      ],
      "metadata": {
        "id": "xnFXQTA5F7CI"
      },
      "execution_count": null,
      "outputs": []
    },
    {
      "cell_type": "code",
      "source": [
        "# 4.4 정답\n",
        "np.linspace(0,1,10)"
      ],
      "metadata": {
        "id": "NHNR5TUqIAqR"
      },
      "execution_count": null,
      "outputs": []
    },
    {
      "cell_type": "code",
      "source": [
        "# 4.5 정답\n",
        "\n",
        "def sum_of_evens(arr: np.ndarray) -> int:\n",
        "    evens = arr[arr % 2 == 0]  # 짝수인 요소 선택\n",
        "    return np.sum(evens)  # 짝수인 요소들의 합 반환"
      ],
      "metadata": {
        "id": "Idq_UTrDDH_L"
      },
      "execution_count": null,
      "outputs": []
    },
    {
      "cell_type": "code",
      "source": [
        "# 4.6 정답\n",
        "arr_split = np.hsplit(arr, 2)\n",
        "print(\"수평 분할 결과:\")\n",
        "print(arr_split)\n",
        "\n",
        "arr_1 = arr_split[0]\n",
        "arr_2 = arr_split[1]\n",
        "arr_stack = np.hstack((arr_1, arr_2))\n",
        "print(arr_stack)"
      ],
      "metadata": {
        "id": "Ky1MRS6cFLvC"
      },
      "execution_count": null,
      "outputs": []
    },
    {
      "cell_type": "code",
      "source": [
        "# 수직 분할\n",
        "arr_split = np.vsplit(arr, 3)\n",
        "print(\"수직 분할 결과:\")\n",
        "print(arr_split)\n",
        "\n",
        "arr_1 = arr_split[0]\n",
        "arr_2 = arr_split[1]\n",
        "arr_3 = arr_split[2]\n",
        "arr_stack = np.vstack((arr_1, arr_2, arr_3))\n",
        "print(arr_stack)"
      ],
      "metadata": {
        "id": "hZp1aS22J77P"
      },
      "execution_count": null,
      "outputs": []
    },
    {
      "cell_type": "code",
      "source": [
        "# 4.7 정답\n",
        "# 조건 : 값을 10으로 나누었을 때 나머지가 0이면 원래 값 출력, 아니면 0으로 출력하세요.\n",
        "arr = np.arange(0, 100, 5).reshape((5,4))\n",
        "print(np.where(arr%10==0, arr,0))"
      ],
      "metadata": {
        "id": "jaUX78YqKAi_"
      },
      "execution_count": null,
      "outputs": []
    },
    {
      "cell_type": "code",
      "source": [
        "# 4.8 정답\n",
        "\n",
        "# 3가지 정답이 있습니다. 인덱싱 배열을 이용하기\n",
        "bool_indexing_array = np.array([\n",
        "    [False,  True, False],\n",
        "    [True, False,  True],\n",
        "    [False,  True, False]\n",
        "])\n",
        " \n",
        "n = a[bool_indexing_array];\n",
        "print(n)    "
      ],
      "metadata": {
        "id": "DuPcEjw-Nrxb"
      },
      "execution_count": null,
      "outputs": []
    },
    {
      "cell_type": "code",
      "source": [
        "# 배열 a 에 대해 짝수면 True, 홀수면 False \n",
        "bool_indexing = (a % 2 == 0)\n",
        "print(bool_indexing)\n",
        "print(a[bool_indexing])"
      ],
      "metadata": {
        "id": "vneVIBcWNzF5"
      },
      "execution_count": null,
      "outputs": []
    },
    {
      "cell_type": "code",
      "source": [
        "# 간단한 조건으로 호출하기\n",
        "n = a[ a % 2 == 0 ]\n",
        "n"
      ],
      "metadata": {
        "id": "zfHpTU5lN03S"
      },
      "execution_count": null,
      "outputs": []
    },
    {
      "cell_type": "code",
      "source": [
        "# 4.9 정답이\n",
        "# 사인 함수 계산\n",
        "sin_value = np.sin(angle)\n",
        "print(\"사인 값:\", sin_value)\n",
        "\n",
        "# 코사인 함수 계산\n",
        "cos_value = np.cos(angle)\n",
        "print(\"코사인 값:\", cos_value)\n",
        "\n",
        "# 탄젠트 함수 계산\n",
        "tan_value = np.tan(angle)\n",
        "print(\"탄젠트 값:\", tan_value)"
      ],
      "metadata": {
        "id": "h3Sz4nB-N0yh"
      },
      "execution_count": null,
      "outputs": []
    },
    {
      "cell_type": "code",
      "source": [
        "# 4.10 정답\n",
        "new_arr = np.where(arr % 2 == 0, arr * 2, arr)\n",
        "print(\"조건을 만족하는 요소를 2배로:\", new_arr)"
      ],
      "metadata": {
        "id": "rHnwWQjrPWSY"
      },
      "execution_count": null,
      "outputs": []
    },
    {
      "cell_type": "code",
      "source": [],
      "metadata": {
        "id": "G1FE2CpFQEqr"
      },
      "execution_count": null,
      "outputs": []
    }
  ]
}