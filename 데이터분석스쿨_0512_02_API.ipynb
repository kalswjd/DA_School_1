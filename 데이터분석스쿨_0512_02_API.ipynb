{
  "nbformat": 4,
  "nbformat_minor": 0,
  "metadata": {
    "colab": {
      "provenance": [],
      "authorship_tag": "ABX9TyOVrkef99Ba9T5HRCN+VxcS",
      "include_colab_link": true
    },
    "kernelspec": {
      "name": "python3",
      "display_name": "Python 3"
    },
    "language_info": {
      "name": "python"
    }
  },
  "cells": [
    {
      "cell_type": "markdown",
      "metadata": {
        "id": "view-in-github",
        "colab_type": "text"
      },
      "source": [
        "<a href=\"https://colab.research.google.com/github/kalswjd/DA_School_1/blob/main/%08%EB%8D%B0%EC%9D%B4%ED%84%B0%EB%B6%84%EC%84%9D%EC%8A%A4%EC%BF%A8_0512_02_API.ipynb\" target=\"_parent\"><img src=\"https://colab.research.google.com/assets/colab-badge.svg\" alt=\"Open In Colab\"/></a>"
      ]
    },
    {
      "cell_type": "markdown",
      "source": [
        "참고 노션 - https://likelion.notion.site/OpenWeatherMap-API-Key-12b608bcfd8840ccb53a2c16771f2648"
      ],
      "metadata": {
        "id": "EKPRjv9aaO8z"
      }
    },
    {
      "cell_type": "code",
      "source": [
        "openweathermap_api_key : 324a85a63e23310311fa8d9d0b45bdaa"
      ],
      "metadata": {
        "id": "EhewPWtPPOYU"
      },
      "execution_count": null,
      "outputs": []
    },
    {
      "cell_type": "code",
      "execution_count": null,
      "metadata": {
        "id": "QXVUdBwJM45i"
      },
      "outputs": [],
      "source": [
        "import requests\n",
        "import json\n",
        "\n",
        "city = \"Seoul\"\n",
        "apikey = \"################################\"\n",
        "lang = \"kr\"\n",
        "\n",
        "api = f\"http://api.openweathermap.org/data/2.5/weather?q={city}&appid={apikey}&lang={lang}&units=metric\"\n",
        "\n",
        "result = requests.get(api)\n",
        "data = json.loads(result.text)\n",
        "\n",
        "print(data[\"name\"],\"의 날씨입니다.\")\n",
        "print(\"날씨는 \",data[\"weather\"][0][\"description\"],\"입니다.\")\n",
        "print(\"현재 온도는 \",data[\"main\"][\"temp\"],\"입니다.\")\n",
        "print(\"하지만 체감 온도는 \",data[\"main\"][\"feels_like\"],\"입니다.\")\n",
        "print(\"최저 기온은 \",data[\"main\"][\"temp_min\"],\"입니다.\")\n",
        "print(\"최고 기온은 \",data[\"main\"][\"temp_max\"],\"입니다.\")\n",
        "print(\"습도는 \",data[\"main\"][\"humidity\"],\"입니다.\")\n",
        "print(\"기압은 \",data[\"main\"][\"pressure\"],\"입니다.\")\n",
        "print(\"풍향은 \",data[\"wind\"][\"deg\"],\"입니다.\")\n",
        "print(\"풍속은 \",data[\"wind\"][\"speed\"],\"입니다.\")"
      ]
    },
    {
      "cell_type": "code",
      "source": [
        "import requests\n",
        "import json\n",
        "\n",
        "city = 'Seoul'\n",
        "apikey = '324a85a63e23310311fa8d9d0b45bdaa'\n",
        "lang = 'kr'\n",
        "api = f\"http://api.openweathermap.org/data/2.5/weather?q={city}&appid={apikey}&lang={lang}&units=metric\"\n",
        "#지역,api,언어,섭씨\n",
        "\n",
        "result = requests.get(api)\n",
        "print(result.text)\n",
        "\n",
        "data = json.loads(result.text)\n",
        "\n",
        "#print(type(result.text))\n",
        "#print(type(data))\n",
        "\n",
        "# 지역 : name\n",
        "print(data[\"name\"],\"의 날씨입니다.\")\n",
        "# 자세한 날씨 : weather - description\n",
        "print(\"날씨는 \",data[\"weather\"][0][\"description\"],\"입니다.\")\n",
        "# 현재 온도 : main - temp\n",
        "print(\"현재 온도는 \",data[\"main\"][\"temp\"],\"입니다.\")\n",
        "# 체감 온도 : main - feels_like\n",
        "print(\"하지만 체감 온도는 \",data[\"main\"][\"feels_like\"],\"입니다.\")\n",
        "# 최저 기온 : main - temp_min\n",
        "print(\"최저 기온은 \",data[\"main\"][\"temp_min\"],\"입니다.\")\n",
        "# 최고 기온 : main - temp_max\n",
        "print(\"최고 기온은 \",data[\"main\"][\"temp_max\"],\"입니다.\")\n",
        "# 습도 : main - humidity\n",
        "print(\"습도는 \",data[\"main\"][\"humidity\"],\"입니다.\")\n",
        "# 기압 : main - pressure\n",
        "print(\"기압은 \",data[\"main\"][\"pressure\"],\"입니다.\")\n",
        "# 풍향 : wind - deg\n",
        "print(\"풍향은 \",data[\"wind\"][\"deg\"],\"입니다.\")\n",
        "# 풍속 : wind - speed\n",
        "print(\"풍속은 \",data[\"wind\"][\"speed\"],\"입니다.\")"
      ],
      "metadata": {
        "colab": {
          "base_uri": "https://localhost:8080/"
        },
        "id": "pmVLWdZ2QSYx",
        "outputId": "aab4527c-54b3-46f5-aae0-608522e35c6b"
      },
      "execution_count": 11,
      "outputs": [
        {
          "output_type": "stream",
          "name": "stdout",
          "text": [
            "{\"coord\":{\"lon\":126.9778,\"lat\":37.5683},\"weather\":[{\"id\":800,\"main\":\"Clear\",\"description\":\"맑음\",\"icon\":\"01d\"}],\"base\":\"stations\",\"main\":{\"temp\":23.02,\"feels_like\":22.24,\"temp_min\":18.69,\"temp_max\":24.66,\"pressure\":1017,\"humidity\":33},\"visibility\":10000,\"wind\":{\"speed\":1.54,\"deg\":260},\"clouds\":{\"all\":0},\"dt\":1683867962,\"sys\":{\"type\":1,\"id\":8105,\"country\":\"KR\",\"sunrise\":1683836769,\"sunset\":1683887451},\"timezone\":32400,\"id\":1835848,\"name\":\"Seoul\",\"cod\":200}\n",
            "Seoul 의 날씨입니다.\n",
            "날씨는  맑음 입니다.\n",
            "현재 온도는  23.02 입니다.\n",
            "하지만 체감 온도는  22.24 입니다.\n",
            "최저 기온은  18.69 입니다.\n",
            "최고 기온은  24.66 입니다.\n",
            "습도는  33 입니다.\n",
            "기압은  1017 입니다.\n",
            "풍향은  260 입니다.\n",
            "풍속은  1.54 입니다.\n"
          ]
        }
      ]
    },
    {
      "cell_type": "code",
      "source": [],
      "metadata": {
        "id": "juDHMxLsRBB1"
      },
      "execution_count": null,
      "outputs": []
    }
  ]
}