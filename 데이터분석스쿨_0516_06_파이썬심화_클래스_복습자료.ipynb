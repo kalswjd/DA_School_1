{
  "nbformat": 4,
  "nbformat_minor": 0,
  "metadata": {
    "colab": {
      "provenance": [],
      "include_colab_link": true
    },
    "kernelspec": {
      "name": "python3",
      "display_name": "Python 3"
    },
    "language_info": {
      "name": "python"
    }
  },
  "cells": [
    {
      "cell_type": "markdown",
      "metadata": {
        "id": "view-in-github",
        "colab_type": "text"
      },
      "source": [
        "<a href=\"https://colab.research.google.com/github/kalswjd/DA_School_1/blob/main/%EB%8D%B0%EC%9D%B4%ED%84%B0%EB%B6%84%EC%84%9D%EC%8A%A4%EC%BF%A8_0516_06_%ED%8C%8C%EC%9D%B4%EC%8D%AC%EC%8B%AC%ED%99%94_%ED%81%B4%EB%9E%98%EC%8A%A4_%EB%B3%B5%EC%8A%B5%EC%9E%90%EB%A3%8C.ipynb\" target=\"_parent\"><img src=\"https://colab.research.google.com/assets/colab-badge.svg\" alt=\"Open In Colab\"/></a>"
      ]
    },
    {
      "cell_type": "markdown",
      "source": [
        "# 클래스 복습"
      ],
      "metadata": {
        "id": "ls36lmWDKb81"
      }
    },
    {
      "cell_type": "markdown",
      "source": [
        "- 우리의 모든 것을 객체화 시킬수 있음\n",
        "- 코드 재사용(개선, 사용, 유지보수가 용이) - 경제적이고, 역량 최소화\n",
        "\n",
        "붕어빵 기계 → 클래스"
      ],
      "metadata": {
        "id": "-Gq1AU0MKlbr"
      }
    },
    {
      "cell_type": "markdown",
      "source": [
        "## 1.1 객체와 인스턴스\n",
        "\n",
        "* 애견샵 클래스 운영 → 진돗개, 리트리버 등\n",
        "* 진돗개 =\n",
        "* 리트리버 = \n",
        "* 이렇게 반복이 계속되면 쉽지 않음\n",
        "* 클래스를 이용하면 애완견의 실체를 클래스화 하면 좋음"
      ],
      "metadata": {
        "id": "sQC3-rebKuYL"
      }
    },
    {
      "cell_type": "code",
      "source": [
        "# class Dog(object): \n",
        "class Dog:\n",
        "    pass"
      ],
      "metadata": {
        "id": "D26nssfWKjQd"
      },
      "execution_count": 2,
      "outputs": []
    },
    {
      "cell_type": "code",
      "source": [
        "#예제 1 - 틀을 만들자!!\n",
        "\n",
        "class Dog:\n",
        "  species = 'firstdog'\n",
        "\n",
        "  #초기화/인스턴스 속성\n",
        "\n",
        "  #메서드 = 함수\n",
        "  def __init__(self, name, age):\n",
        "    self.name = name\n",
        "    self.age = age\n",
        "\n",
        "# 클래스 정보\n",
        "print(Dog) \n",
        "\n",
        "# 인스턴스화 - 설계화가 된것 생성\n",
        "a = Dog(\"mikky\", 2)\n",
        "b = Dog(\"baby\", 3)"
      ],
      "metadata": {
        "colab": {
          "base_uri": "https://localhost:8080/"
        },
        "id": "Q7LOvDr_LBKs",
        "outputId": "48da6dea-046c-4819-a3c0-f4565854548a"
      },
      "execution_count": 3,
      "outputs": [
        {
          "output_type": "stream",
          "name": "stdout",
          "text": [
            "<class '__main__.Dog'>\n"
          ]
        }
      ]
    },
    {
      "cell_type": "code",
      "source": [
        "# 클래스 변수 - 직접 접근 가능 / 공용으로 사용하는 것\n",
        "# 인스턴스 변수 - 객체마다 별도 존재\n",
        "\n",
        "# 인스턴스 속성 확인\n",
        "print(f'{a.name} is {a.age} and {b.name} is {b.age}')"
      ],
      "metadata": {
        "colab": {
          "base_uri": "https://localhost:8080/"
        },
        "id": "NjbykLWYLp7B",
        "outputId": "405a8e04-25d3-4c10-ca86-6278f4253d43"
      },
      "execution_count": 4,
      "outputs": [
        {
          "output_type": "stream",
          "name": "stdout",
          "text": [
            "mikky is 2 and baby is 3\n"
          ]
        }
      ]
    },
    {
      "cell_type": "code",
      "source": [
        "# 클래스 변수 - 직접 접근 가능\n",
        "if a.species == \"firstdog\":\n",
        "  print(f'{a.name} is a {a.species}')\n"
      ],
      "metadata": {
        "colab": {
          "base_uri": "https://localhost:8080/"
        },
        "id": "6SCmd_tGL_Nv",
        "outputId": "c5a98daf-7797-40f0-f410-3d4410af8473"
      },
      "execution_count": 5,
      "outputs": [
        {
          "output_type": "stream",
          "name": "stdout",
          "text": [
            "mikky is a firstdog\n"
          ]
        }
      ]
    },
    {
      "cell_type": "code",
      "source": [
        "# 클래스 변수 - 직접 접근 가능\n",
        "if b.species == \"firstdog\":\n",
        "  print(f'{b.name} is a {b.species}')\n"
      ],
      "metadata": {
        "colab": {
          "base_uri": "https://localhost:8080/"
        },
        "id": "jNli7xemMLPE",
        "outputId": "38196af5-0df5-41f8-e90e-abd4f385cd58"
      },
      "execution_count": 6,
      "outputs": [
        {
          "output_type": "stream",
          "name": "stdout",
          "text": [
            "baby is a firstdog\n"
          ]
        }
      ]
    },
    {
      "cell_type": "code",
      "source": [
        "# 이런 형태로도 접근 가능하다. 클래스로도 접근 / 인스턴스화로도 접근가능\n",
        "\n",
        "print(Dog.species)\n",
        "print(a.species)\n",
        "print(b.species)\n",
        "\n",
        "# 사실 이부분이 이해가 되면 클래스가 이해가 된것\n",
        "# 나만의 공간, 나만의 속성, 공유하는 공간, 공유하는 속성에 대해 이해가 되었기를.."
      ],
      "metadata": {
        "colab": {
          "base_uri": "https://localhost:8080/"
        },
        "id": "BzwbvVCQLWWZ",
        "outputId": "96817acf-1416-432f-c140-f0ee6715f509"
      },
      "execution_count": 7,
      "outputs": [
        {
          "output_type": "stream",
          "name": "stdout",
          "text": [
            "firstdog\n",
            "firstdog\n",
            "firstdog\n"
          ]
        }
      ]
    },
    {
      "cell_type": "code",
      "source": [
        "# 클래스 변수, 인스턴스 변수\n",
        "\n",
        "# Warehouse 클래스\n",
        "class Warehouse:\n",
        "  # 클래스 변수\n",
        "  stock_num = 0 #재고\n",
        "\n",
        "  # 클래스가 실행되면 자동으로 실행\n",
        "  def __init__(self, name):\n",
        "    #인스턴스 변수 # 추가\n",
        "    self.name = name\n",
        "    Warehouse.stock_num += 1\n",
        "\n",
        "  def __del__(self): #소멸\n",
        "    Warehouse.stock_num -= 1\n",
        "\n",
        "user1 = Warehouse('Lee')\n",
        "user2 = Warehouse('Kim')"
      ],
      "metadata": {
        "id": "JWnQWRvLMZcv"
      },
      "execution_count": 8,
      "outputs": []
    },
    {
      "cell_type": "code",
      "source": [
        "print(user1.name)"
      ],
      "metadata": {
        "colab": {
          "base_uri": "https://localhost:8080/"
        },
        "id": "l7LvEWvfNXT0",
        "outputId": "69f2bf7a-0433-4b82-a01d-8b8e892e0941"
      },
      "execution_count": 9,
      "outputs": [
        {
          "output_type": "stream",
          "name": "stdout",
          "text": [
            "Lee\n"
          ]
        }
      ]
    },
    {
      "cell_type": "code",
      "source": [
        "print(user2.name)"
      ],
      "metadata": {
        "colab": {
          "base_uri": "https://localhost:8080/"
        },
        "id": "Wn2b3zL1NXRh",
        "outputId": "c8df04be-1bd5-4ab0-c79d-e5526621f4a5"
      },
      "execution_count": 10,
      "outputs": [
        {
          "output_type": "stream",
          "name": "stdout",
          "text": [
            "Kim\n"
          ]
        }
      ]
    },
    {
      "cell_type": "code",
      "source": [
        "print(Warehouse.__dict__)"
      ],
      "metadata": {
        "colab": {
          "base_uri": "https://localhost:8080/"
        },
        "id": "xz3_9mLsNXPD",
        "outputId": "517ed1de-3a54-426d-9b84-99f3189d2c45"
      },
      "execution_count": 11,
      "outputs": [
        {
          "output_type": "stream",
          "name": "stdout",
          "text": [
            "{'__module__': '__main__', 'stock_num': 2, '__init__': <function Warehouse.__init__ at 0x7fb5b226bc70>, '__del__': <function Warehouse.__del__ at 0x7fb5b226b250>, '__dict__': <attribute '__dict__' of 'Warehouse' objects>, '__weakref__': <attribute '__weakref__' of 'Warehouse' objects>, '__doc__': None}\n"
          ]
        }
      ]
    },
    {
      "cell_type": "code",
      "source": [
        "print(Warehouse.stock_num)"
      ],
      "metadata": {
        "colab": {
          "base_uri": "https://localhost:8080/"
        },
        "id": "NUrF351KNKti",
        "outputId": "0652e1b7-b573-49f0-e72c-cced5383a7fc"
      },
      "execution_count": 12,
      "outputs": [
        {
          "output_type": "stream",
          "name": "stdout",
          "text": [
            "2\n"
          ]
        }
      ]
    },
    {
      "cell_type": "code",
      "source": [
        "del user1"
      ],
      "metadata": {
        "id": "uhU74xThNN4O"
      },
      "execution_count": 13,
      "outputs": []
    },
    {
      "cell_type": "code",
      "source": [
        "print(Warehouse.__dict__)"
      ],
      "metadata": {
        "colab": {
          "base_uri": "https://localhost:8080/"
        },
        "id": "mzllsoACNwFw",
        "outputId": "2e373738-c679-4d6f-ce07-a5c814390c2f"
      },
      "execution_count": 14,
      "outputs": [
        {
          "output_type": "stream",
          "name": "stdout",
          "text": [
            "{'__module__': '__main__', 'stock_num': 2, '__init__': <function Warehouse.__init__ at 0x7fb5b226bc70>, '__del__': <function Warehouse.__del__ at 0x7fb5b226b250>, '__dict__': <attribute '__dict__' of 'Warehouse' objects>, '__weakref__': <attribute '__weakref__' of 'Warehouse' objects>, '__doc__': None}\n"
          ]
        }
      ]
    },
    {
      "cell_type": "code",
      "source": [
        "print(Warehouse.stock_num)"
      ],
      "metadata": {
        "colab": {
          "base_uri": "https://localhost:8080/"
        },
        "id": "AQQwqKKWNyPl",
        "outputId": "abdf0224-56ac-4e4d-b01c-a3bc4cf5c605"
      },
      "execution_count": 15,
      "outputs": [
        {
          "output_type": "stream",
          "name": "stdout",
          "text": [
            "1\n"
          ]
        }
      ]
    },
    {
      "cell_type": "code",
      "source": [
        "#예제 3 - return의 사용과 self가 아닌 변수\n",
        "\n",
        "class Dog:\n",
        "  species = 'firstdog'\n",
        "\n",
        "  #초기화/인스턴스 속성\n",
        "\n",
        "  def __init__(self, name, age):\n",
        "    self.name = name\n",
        "    self.age = age\n",
        "\n",
        "  def info(self):\n",
        "    return f'{self.name}은 {self.age}살 이에요'\n",
        "\n",
        "  def speak(self, sound):\n",
        "    return f\"{self.name}은 {sound} 소리를 내요\""
      ],
      "metadata": {
        "id": "JjDxqBLFNzJn"
      },
      "execution_count": 16,
      "outputs": []
    },
    {
      "cell_type": "code",
      "source": [
        "print(c.speak('왈왈'))"
      ],
      "metadata": {
        "colab": {
          "base_uri": "https://localhost:8080/",
          "height": 170
        },
        "id": "nSHoC3QqOUbR",
        "outputId": "3e4ea543-c7e1-4c65-9727-fa09dceb492f"
      },
      "execution_count": 18,
      "outputs": [
        {
          "output_type": "error",
          "ename": "NameError",
          "evalue": "ignored",
          "traceback": [
            "\u001b[0;31m---------------------------------------------------------------------------\u001b[0m",
            "\u001b[0;31mNameError\u001b[0m                                 Traceback (most recent call last)",
            "\u001b[0;32m<ipython-input-18-6213c880683c>\u001b[0m in \u001b[0;36m<cell line: 1>\u001b[0;34m()\u001b[0m\n\u001b[0;32m----> 1\u001b[0;31m \u001b[0mprint\u001b[0m\u001b[0;34m(\u001b[0m\u001b[0mc\u001b[0m\u001b[0;34m.\u001b[0m\u001b[0mspeak\u001b[0m\u001b[0;34m(\u001b[0m\u001b[0;34m'왈왈'\u001b[0m\u001b[0;34m)\u001b[0m\u001b[0;34m)\u001b[0m\u001b[0;34m\u001b[0m\u001b[0;34m\u001b[0m\u001b[0m\n\u001b[0m",
            "\u001b[0;31mNameError\u001b[0m: name 'c' is not defined"
          ]
        }
      ]
    },
    {
      "cell_type": "code",
      "source": [
        "#인스턴스 생성\n",
        "c = Dog('July', 4)\n",
        "d = Dog('Dorri', 10)"
      ],
      "metadata": {
        "id": "IjOMt0vRORJi"
      },
      "execution_count": 19,
      "outputs": []
    },
    {
      "cell_type": "code",
      "source": [
        "#메서드 호출\n",
        "print(c.info())\n",
        "print(d.info())\n",
        "\n",
        "#메서드 호출\n",
        "print(c.speak('왈왈'))\n",
        "print(d.speak('멍멍'))"
      ],
      "metadata": {
        "id": "I1UCGKN2OJ7L",
        "colab": {
          "base_uri": "https://localhost:8080/",
          "height": 241
        },
        "outputId": "434263b0-2a93-4630-9103-d7275b8f164a"
      },
      "execution_count": 17,
      "outputs": [
        {
          "output_type": "error",
          "ename": "NameError",
          "evalue": "ignored",
          "traceback": [
            "\u001b[0;31m---------------------------------------------------------------------------\u001b[0m",
            "\u001b[0;31mNameError\u001b[0m                                 Traceback (most recent call last)",
            "\u001b[0;32m<ipython-input-17-a407f09f969f>\u001b[0m in \u001b[0;36m<cell line: 2>\u001b[0;34m()\u001b[0m\n\u001b[1;32m      1\u001b[0m \u001b[0;31m#메서드 호출\u001b[0m\u001b[0;34m\u001b[0m\u001b[0;34m\u001b[0m\u001b[0m\n\u001b[0;32m----> 2\u001b[0;31m \u001b[0mprint\u001b[0m\u001b[0;34m(\u001b[0m\u001b[0mc\u001b[0m\u001b[0;34m.\u001b[0m\u001b[0minfo\u001b[0m\u001b[0;34m(\u001b[0m\u001b[0;34m)\u001b[0m\u001b[0;34m)\u001b[0m\u001b[0;34m\u001b[0m\u001b[0;34m\u001b[0m\u001b[0m\n\u001b[0m\u001b[1;32m      3\u001b[0m \u001b[0mprint\u001b[0m\u001b[0;34m(\u001b[0m\u001b[0md\u001b[0m\u001b[0;34m.\u001b[0m\u001b[0minfo\u001b[0m\u001b[0;34m(\u001b[0m\u001b[0;34m)\u001b[0m\u001b[0;34m)\u001b[0m\u001b[0;34m\u001b[0m\u001b[0;34m\u001b[0m\u001b[0m\n\u001b[1;32m      4\u001b[0m \u001b[0;34m\u001b[0m\u001b[0m\n\u001b[1;32m      5\u001b[0m \u001b[0;31m#메서드 호출\u001b[0m\u001b[0;34m\u001b[0m\u001b[0;34m\u001b[0m\u001b[0m\n",
            "\u001b[0;31mNameError\u001b[0m: name 'c' is not defined"
          ]
        }
      ]
    },
    {
      "cell_type": "markdown",
      "source": [],
      "metadata": {
        "id": "OrMYxw_AOJnC"
      }
    },
    {
      "cell_type": "code",
      "source": [
        "# 예제 1.\n",
        "\n",
        "class FishCakeMaker:\n",
        "  def __init__(self, param): #클래스가 최초 생성될때 호출함\n",
        "    pass #self는 FishCakeMaker에 속한것\n",
        "\n",
        "fish = FishCakeMaker(\"붕어빵\") # 이렇게 선언한 순간에 생성자 __init__이 실행"
      ],
      "metadata": {
        "id": "FeJk29LHTUHr"
      },
      "execution_count": 20,
      "outputs": []
    },
    {
      "cell_type": "code",
      "source": [
        "# 예제 2. 추가적인 정보\n",
        "\n",
        "class FishCakeMaker:\n",
        "\n",
        "  def __init__(self, param): #클래스가 최초 생성될때 호출됨\n",
        "    pass #self는 FishCakeMaker에 속한 것\n",
        "\n",
        "  def show_name(self): # 만약 self가 없으면 파이썬은 구별 할 수 없음\n",
        "    print('A')\n",
        "\n",
        "# 이러한 구문이 있을 경우\n",
        "def show_name():\n",
        "  print('A')\n",
        "\n",
        "# 바깥의 함수와 안에 있는 클래스 안에 메서드를 구별하기 힘들기 때문에 \n",
        "# 꼭 self를 붙여야 FishCakeMaker안에 있는 \n",
        "# show_name()이라는 것을 인식한다."
      ],
      "metadata": {
        "id": "uOLd8Pl1TbXN"
      },
      "execution_count": 21,
      "outputs": []
    },
    {
      "cell_type": "code",
      "source": [
        "# 예제 3\n",
        "class FishCakeMaker:\n",
        "  def __init__(self, **kwargs):\n",
        "    \n",
        "    self.size = 10\n",
        "    self.flavor = \"팥\"\n",
        "    self.price = 1000\n",
        "\n",
        "    if \"size\" in kwargs:\n",
        "      self.size = kwargs.get(\"size\")\n",
        "    if \"flavor\" in kwargs:\n",
        "      self.flavor = kwargs.get(\"flavor\")\n",
        "    if \"price\" in kwargs:\n",
        "      self.price = kwargs.get(\"price\")\n",
        "\n",
        "  def show(self):\n",
        "    \n",
        "    print(f\"붕어빵 종류 {self.flavor}\")\n",
        "    print(f\"붕어빵 크기 {self.size}\")\n",
        "    print(f\"붕어빵 가격 {self.price}\")\n",
        "\n",
        "fish1 = FishCakeMaker()\n",
        "fish2 = FishCakeMaker(size = 20, price = 2000)\n",
        "fish3 = FishCakeMaker(size = 20, price = 3000, flavor = \"피자\")\n",
        "\n",
        "fish1.show()\n",
        "fish2.show()\n",
        "fish3.show()"
      ],
      "metadata": {
        "colab": {
          "base_uri": "https://localhost:8080/"
        },
        "id": "xJY8OZELTuyP",
        "outputId": "a850c20c-9b4f-4dd1-ea9a-d588b5a82108"
      },
      "execution_count": 22,
      "outputs": [
        {
          "output_type": "stream",
          "name": "stdout",
          "text": [
            "붕어빵 종류 팥\n",
            "붕어빵 크기 10\n",
            "붕어빵 가격 1000\n",
            "붕어빵 종류 팥\n",
            "붕어빵 크기 20\n",
            "붕어빵 가격 2000\n",
            "붕어빵 종류 피자\n",
            "붕어빵 크기 20\n",
            "붕어빵 가격 3000\n"
          ]
        }
      ]
    },
    {
      "cell_type": "code",
      "source": [
        "# 함수와 클래스의 코드 차이점"
      ],
      "metadata": {
        "id": "s7Av9Y2oUVaH"
      },
      "execution_count": 23,
      "outputs": []
    },
    {
      "cell_type": "code",
      "source": [
        "def add(num1, num2):\n",
        "    return num1 + num2\n",
        "\n",
        "def subtract(num1, num2):\n",
        "    return num1 - num2\n",
        "\n",
        "def multiply(num1, num2):\n",
        "    return num1 * num2\n",
        "\n",
        "def divide(num1, num2):\n",
        "    if num2 != 0:\n",
        "        return num1 / num2\n",
        "    else:\n",
        "        print(\"0으로 나눌 수 없습니다.\")\n",
        "\n",
        "# 사용자로부터 두 개의 숫자 입력 받기\n",
        "number1 = float(input(\"첫 번째 숫자를 입력하세요: \"))\n",
        "number2 = float(input(\"두 번째 숫자를 입력하세요: \"))\n",
        "\n",
        "# 덧셈\n",
        "result = add(number1, number2)\n",
        "print(\"덧셈 결과:\", result)\n",
        "\n",
        "# 뺄셈\n",
        "result = subtract(number1, number2)\n",
        "print(\"뺄셈 결과:\", result)\n",
        "\n",
        "# 곱셈\n",
        "result = multiply(number1, number2)\n",
        "print(\"곱셈 결과:\", result)\n",
        "\n",
        "# 나눗셈\n",
        "divide(number1, number2)"
      ],
      "metadata": {
        "id": "TfqV-DnNT4gk"
      },
      "execution_count": null,
      "outputs": []
    },
    {
      "cell_type": "code",
      "source": [
        "#아래에 요구사항에 맞는 파이썬 클래스 예제를 제시합니다:\n",
        "\n",
        "class Operation:\n",
        "    def __init__(self, num1, num2):\n",
        "        self.num1 = num1\n",
        "        self.num2 = num2\n",
        "\n",
        "    def add(self):\n",
        "        return self.num1 + self.num2\n",
        "\n",
        "    def subtract(self):\n",
        "        return self.num1 - self.num2\n",
        "\n",
        "    def multiply(self):\n",
        "        return self.num1 * self.num2\n",
        "\n",
        "    def divide(self):\n",
        "        if self.num2 != 0:\n",
        "            return self.num1 / self.num2\n",
        "        else:\n",
        "            print(\"0으로 나눌 수 없습니다.\")\n",
        "\n",
        "# 사용자로부터 두 개의 숫자 입력 받기\n",
        "number1 = float(input(\"첫 번째 숫자를 입력하세요: \"))\n",
        "number2 = float(input(\"두 번째 숫자를 입력하세요: \"))\n",
        "\n",
        "# Operation 클래스의 인스턴스 생성\n",
        "operation = Operation(number1, number2)\n",
        "\n",
        "# 덧셈 결과 출력\n",
        "add_result = operation.add()\n",
        "print(\"덧셈 결과:\", add_result)\n",
        "\n",
        "# 뺄셈 결과 출력\n",
        "subtract_result = operation.subtract()\n",
        "print(\"뺄셈 결과:\", subtract_result)\n",
        "\n",
        "# 곱셈 결과 출력\n",
        "multiply_result = operation.multiply()\n",
        "print(\"곱셈 결과:\", multiply_result)\n",
        "\n",
        "# 나눗셈 결과 출력\n",
        "operation.divide()\n"
      ],
      "metadata": {
        "id": "m6fEaUBsUgOV"
      },
      "execution_count": null,
      "outputs": []
    },
    {
      "cell_type": "code",
      "source": [],
      "metadata": {
        "id": "7WjJ9jkFVkri"
      },
      "execution_count": null,
      "outputs": []
    }
  ]
}