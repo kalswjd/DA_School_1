{
  "nbformat": 4,
  "nbformat_minor": 0,
  "metadata": {
    "colab": {
      "provenance": [],
      "authorship_tag": "ABX9TyNqF06UbRZGIaDK9SF8HBBI",
      "include_colab_link": true
    },
    "kernelspec": {
      "name": "python3",
      "display_name": "Python 3"
    },
    "language_info": {
      "name": "python"
    }
  },
  "cells": [
    {
      "cell_type": "markdown",
      "metadata": {
        "id": "view-in-github",
        "colab_type": "text"
      },
      "source": [
        "<a href=\"https://colab.research.google.com/github/kalswjd/DA_School_1/blob/main/%EB%8D%B0%EC%9D%B4%ED%84%B0%EB%B6%84%EC%84%9D%EC%8A%A4%EC%BF%A8_0504_%5B%EA%B8%B0%EC%B4%88%5D%EA%B0%99%EC%9D%B4%ED%91%B8%EB%8A%94python_%EC%97%B0%EC%8A%B5%EC%9E%A5.ipynb\" target=\"_parent\"><img src=\"https://colab.research.google.com/assets/colab-badge.svg\" alt=\"Open In Colab\"/></a>"
      ]
    },
    {
      "cell_type": "code",
      "execution_count": 1,
      "metadata": {
        "colab": {
          "base_uri": "https://localhost:8080/"
        },
        "id": "MDciOUpw0_Tg",
        "outputId": "e1182b9c-d466-4cac-966b-c9c904d45cc4"
      },
      "outputs": [
        {
          "output_type": "stream",
          "name": "stdout",
          "text": [
            "내가 먹은 음식 가격 : 1200\n",
            "네가 먹은 음식 가격 : 1200\n",
            "2400\n"
          ]
        }
      ],
      "source": [
        "food1 = int(input(\"내가 먹은 음식 가격 : \"))\n",
        "food2 = int(input(\"네가 먹은 음식 가격 : \"))\n",
        "\n",
        "print(food1 + food2)"
      ]
    },
    {
      "cell_type": "code",
      "source": [
        "orders = []\n",
        "orders.extend(['짜장면', '짬뽕', '탕수육'])\n",
        "print(orders)"
      ],
      "metadata": {
        "colab": {
          "base_uri": "https://localhost:8080/"
        },
        "id": "uLYzFKvfIWWC",
        "outputId": "d7993069-92c9-48df-cad7-c75313efe8e3"
      },
      "execution_count": 4,
      "outputs": [
        {
          "output_type": "stream",
          "name": "stdout",
          "text": [
            "['짜장면', '짬뽕', '탕수육']\n"
          ]
        }
      ]
    },
    {
      "cell_type": "code",
      "source": [
        "del orders[0]\n",
        "print(orders)"
      ],
      "metadata": {
        "colab": {
          "base_uri": "https://localhost:8080/"
        },
        "id": "PCmZOSm9MZR4",
        "outputId": "ea5774d8-553c-4f02-9611-c917c98b7f46"
      },
      "execution_count": 5,
      "outputs": [
        {
          "output_type": "stream",
          "name": "stdout",
          "text": [
            "['짬뽕', '탕수육']\n"
          ]
        }
      ]
    },
    {
      "cell_type": "code",
      "source": [
        "orders.remove('짬뽕')"
      ],
      "metadata": {
        "id": "492GGkTtMzoB"
      },
      "execution_count": 6,
      "outputs": []
    },
    {
      "cell_type": "code",
      "source": [
        "print(orders)"
      ],
      "metadata": {
        "colab": {
          "base_uri": "https://localhost:8080/"
        },
        "id": "mR1JVP3eM9uv",
        "outputId": "0d7fb888-b9ff-493a-ec76-434ca5eda5d8"
      },
      "execution_count": 7,
      "outputs": [
        {
          "output_type": "stream",
          "name": "stdout",
          "text": [
            "['탕수육']\n"
          ]
        }
      ]
    },
    {
      "cell_type": "code",
      "source": [
        "len(orders)"
      ],
      "metadata": {
        "colab": {
          "base_uri": "https://localhost:8080/"
        },
        "id": "W2QcCe_SNAGL",
        "outputId": "5a1f2d8c-2f95-4156-abdd-bfb867dd26ea"
      },
      "execution_count": 8,
      "outputs": [
        {
          "output_type": "execute_result",
          "data": {
            "text/plain": [
              "1"
            ]
          },
          "metadata": {},
          "execution_count": 8
        }
      ]
    },
    {
      "cell_type": "code",
      "source": [
        "orders.extend(['짜장', '짬뽕', '볶음밥','유산슬','난자완스'])\n",
        "len(orders)"
      ],
      "metadata": {
        "colab": {
          "base_uri": "https://localhost:8080/"
        },
        "id": "lUd_0FldNhHX",
        "outputId": "0b583cf8-f247-44c5-c7ef-9210d8efbde5"
      },
      "execution_count": 11,
      "outputs": [
        {
          "output_type": "execute_result",
          "data": {
            "text/plain": [
              "6"
            ]
          },
          "metadata": {},
          "execution_count": 11
        }
      ]
    },
    {
      "cell_type": "code",
      "source": [
        "print(orders)"
      ],
      "metadata": {
        "colab": {
          "base_uri": "https://localhost:8080/"
        },
        "id": "q0_MP5eJN0SU",
        "outputId": "4fb0f4ee-71fd-47da-ef21-855d99069d82"
      },
      "execution_count": 12,
      "outputs": [
        {
          "output_type": "stream",
          "name": "stdout",
          "text": [
            "['탕수육', '짜장', '짬뽕', '볶음밥', '유산슬', '난자완스']\n"
          ]
        }
      ]
    },
    {
      "cell_type": "code",
      "source": [
        "name = '안녕하세요 코드라이언입니다.'\n",
        "len(name)"
      ],
      "metadata": {
        "colab": {
          "base_uri": "https://localhost:8080/"
        },
        "id": "ai6ZD5enN_TR",
        "outputId": "f55d0da5-4e3f-4d2d-f026-bc58c8575e58"
      },
      "execution_count": 13,
      "outputs": [
        {
          "output_type": "execute_result",
          "data": {
            "text/plain": [
              "15"
            ]
          },
          "metadata": {},
          "execution_count": 13
        }
      ]
    },
    {
      "cell_type": "code",
      "source": [
        "num = [20, 40, 50, 10, 30]"
      ],
      "metadata": {
        "id": "p0X_4KZzORGN"
      },
      "execution_count": 14,
      "outputs": []
    },
    {
      "cell_type": "code",
      "source": [
        "sum(num)"
      ],
      "metadata": {
        "colab": {
          "base_uri": "https://localhost:8080/"
        },
        "id": "l5L789iSO7_N",
        "outputId": "63f03d96-3376-4555-c695-22f3d0c92276"
      },
      "execution_count": 15,
      "outputs": [
        {
          "output_type": "execute_result",
          "data": {
            "text/plain": [
              "150"
            ]
          },
          "metadata": {},
          "execution_count": 15
        }
      ]
    },
    {
      "cell_type": "code",
      "source": [
        "sum(num) / len(num)"
      ],
      "metadata": {
        "colab": {
          "base_uri": "https://localhost:8080/"
        },
        "id": "pcFAKN-NO_yS",
        "outputId": "2d052202-c6f8-479a-ae01-26e8a730a5fd"
      },
      "execution_count": 16,
      "outputs": [
        {
          "output_type": "execute_result",
          "data": {
            "text/plain": [
              "30.0"
            ]
          },
          "metadata": {},
          "execution_count": 16
        }
      ]
    },
    {
      "cell_type": "code",
      "source": [
        "max(num)"
      ],
      "metadata": {
        "colab": {
          "base_uri": "https://localhost:8080/"
        },
        "id": "Gc-Q9dOtPIIa",
        "outputId": "4a28dc7c-9fea-4638-ac57-6e896f29de45"
      },
      "execution_count": 17,
      "outputs": [
        {
          "output_type": "execute_result",
          "data": {
            "text/plain": [
              "50"
            ]
          },
          "metadata": {},
          "execution_count": 17
        }
      ]
    },
    {
      "cell_type": "code",
      "source": [
        "min(num)"
      ],
      "metadata": {
        "colab": {
          "base_uri": "https://localhost:8080/"
        },
        "id": "4XmCCKdJPNA-",
        "outputId": "fb326c79-15be-46b4-94be-4c86e02b5ce7"
      },
      "execution_count": 18,
      "outputs": [
        {
          "output_type": "execute_result",
          "data": {
            "text/plain": [
              "10"
            ]
          },
          "metadata": {},
          "execution_count": 18
        }
      ]
    },
    {
      "cell_type": "code",
      "source": [
        "menu = {'짜장' : 4000,\n",
        "        '짬뽕' : 5000,\n",
        "        '탕수육' : 9000}\n",
        "print(menu)"
      ],
      "metadata": {
        "colab": {
          "base_uri": "https://localhost:8080/"
        },
        "id": "VH4KeGyKPO36",
        "outputId": "322a0ca5-ff6c-4528-9679-5fc36c89cfa3"
      },
      "execution_count": 19,
      "outputs": [
        {
          "output_type": "stream",
          "name": "stdout",
          "text": [
            "{'짜장': 4000, '짬뽕': 5000, '탕수육': 9000}\n"
          ]
        }
      ]
    },
    {
      "cell_type": "code",
      "source": [
        "menu[\"냉면\"] = 6000"
      ],
      "metadata": {
        "id": "at1hpFZmTtVp"
      },
      "execution_count": 20,
      "outputs": []
    },
    {
      "cell_type": "code",
      "source": [
        "print(menu)"
      ],
      "metadata": {
        "colab": {
          "base_uri": "https://localhost:8080/"
        },
        "id": "444zd1UmUA3C",
        "outputId": "1f5281cc-ad65-47e0-dad1-184eafe849ec"
      },
      "execution_count": 21,
      "outputs": [
        {
          "output_type": "stream",
          "name": "stdout",
          "text": [
            "{'짜장': 4000, '짬뽕': 5000, '탕수육': 9000, '냉면': 6000}\n"
          ]
        }
      ]
    },
    {
      "cell_type": "code",
      "source": [
        "print(menu['짜장'])"
      ],
      "metadata": {
        "colab": {
          "base_uri": "https://localhost:8080/"
        },
        "id": "-apw6GhaUCxM",
        "outputId": "64186775-781d-44ba-c119-18955e6e2fe9"
      },
      "execution_count": 22,
      "outputs": [
        {
          "output_type": "stream",
          "name": "stdout",
          "text": [
            "4000\n"
          ]
        }
      ]
    },
    {
      "cell_type": "code",
      "source": [
        "menu['짜장'] = 4500\n",
        "print(menu)"
      ],
      "metadata": {
        "colab": {
          "base_uri": "https://localhost:8080/"
        },
        "id": "trK2e5hBUOde",
        "outputId": "87b9dd49-f29e-4b40-bd75-054b515c796e"
      },
      "execution_count": 26,
      "outputs": [
        {
          "output_type": "stream",
          "name": "stdout",
          "text": [
            "{'짜장': 4500, '짬뽕': 5000, '탕수육': 8500, '냉면': 6000, '짜장면': 4500}\n"
          ]
        }
      ]
    },
    {
      "cell_type": "code",
      "source": [
        "del menu['짜장면']"
      ],
      "metadata": {
        "id": "Rg0GgBecUc42"
      },
      "execution_count": 30,
      "outputs": []
    },
    {
      "cell_type": "code",
      "source": [
        "print(menu)"
      ],
      "metadata": {
        "colab": {
          "base_uri": "https://localhost:8080/"
        },
        "id": "4xaylNMzU0r0",
        "outputId": "39cfb424-36f9-456d-f1a3-b5e60bcfb3cb"
      },
      "execution_count": 28,
      "outputs": [
        {
          "output_type": "stream",
          "name": "stdout",
          "text": [
            "{'짬뽕': 5000, '탕수육': 8500, '냉면': 6000, '짜장면': 4500}\n"
          ]
        }
      ]
    },
    {
      "cell_type": "code",
      "source": [
        "menu1 = {'Q' : 1, 'W' : 2}\n",
        "print(menu1)"
      ],
      "metadata": {
        "colab": {
          "base_uri": "https://localhost:8080/"
        },
        "id": "qZPub6UwU3vc",
        "outputId": "66db5af9-247d-47c6-cac0-1a9b3c3ec754"
      },
      "execution_count": 32,
      "outputs": [
        {
          "output_type": "stream",
          "name": "stdout",
          "text": [
            "{'Q': 1, 'W': 2}\n"
          ]
        }
      ]
    },
    {
      "cell_type": "code",
      "source": [
        "menu1['Q']"
      ],
      "metadata": {
        "colab": {
          "base_uri": "https://localhost:8080/"
        },
        "id": "DFDLKAq7VTlE",
        "outputId": "5bd8210a-3153-4c4e-9d67-7cba8052dbe4"
      },
      "execution_count": 33,
      "outputs": [
        {
          "output_type": "execute_result",
          "data": {
            "text/plain": [
              "1"
            ]
          },
          "metadata": {},
          "execution_count": 33
        }
      ]
    },
    {
      "cell_type": "code",
      "source": [
        "menu1['E'] = 3"
      ],
      "metadata": {
        "id": "Lty3KydGVb83"
      },
      "execution_count": 34,
      "outputs": []
    },
    {
      "cell_type": "code",
      "source": [
        "print(menu1)"
      ],
      "metadata": {
        "colab": {
          "base_uri": "https://localhost:8080/"
        },
        "id": "XHlBN_w-Vh5V",
        "outputId": "19a84d1b-76d0-475a-b608-5068415c090a"
      },
      "execution_count": 36,
      "outputs": [
        {
          "output_type": "stream",
          "name": "stdout",
          "text": [
            "{'Q': 1, 'W': 2, 'E': 3}\n"
          ]
        }
      ]
    },
    {
      "cell_type": "code",
      "source": [
        "print(menu1['Q'])"
      ],
      "metadata": {
        "colab": {
          "base_uri": "https://localhost:8080/"
        },
        "id": "9YejXoCLVj2y",
        "outputId": "66466989-b37c-4853-d475-a3a2861dfa48"
      },
      "execution_count": 38,
      "outputs": [
        {
          "output_type": "stream",
          "name": "stdout",
          "text": [
            "1\n"
          ]
        }
      ]
    },
    {
      "cell_type": "code",
      "source": [
        "menu1['Q'] = 4\n",
        "print(menu1)"
      ],
      "metadata": {
        "colab": {
          "base_uri": "https://localhost:8080/"
        },
        "id": "TqJM9UhzVqzE",
        "outputId": "c49609d0-e479-42a0-f1ab-2a04030973e6"
      },
      "execution_count": 41,
      "outputs": [
        {
          "output_type": "stream",
          "name": "stdout",
          "text": [
            "{'Q': 4, 'W': 2, 'E': 3}\n"
          ]
        }
      ]
    },
    {
      "cell_type": "code",
      "source": [
        "del menu1['Q']"
      ],
      "metadata": {
        "id": "SiUZ4HzrV1tA"
      },
      "execution_count": 43,
      "outputs": []
    },
    {
      "cell_type": "code",
      "source": [
        "print(menu1)"
      ],
      "metadata": {
        "colab": {
          "base_uri": "https://localhost:8080/"
        },
        "id": "-NroTtSfWDSi",
        "outputId": "c9f46fdd-eb42-4bfd-fd3c-d2a719af3d84"
      },
      "execution_count": 44,
      "outputs": [
        {
          "output_type": "stream",
          "name": "stdout",
          "text": [
            "{'W': 2, 'E': 3}\n"
          ]
        }
      ]
    },
    {
      "cell_type": "code",
      "source": [
        "나 = int(input('나의 학번'))\n",
        "동료 = int(input('동료의 학번'))\n",
        "\n",
        "if 나 == 동료:\n",
        "    print('앗! 동기네요')\n",
        "    print('동기님!')\n",
        "elif 나 < 동료:\n",
        "        print('후배님!')\n",
        "else:\n",
        "        print('선배님!')\n"
      ],
      "metadata": {
        "colab": {
          "base_uri": "https://localhost:8080/"
        },
        "id": "hqgs_K_PWHeg",
        "outputId": "2ccda8b6-3329-4b31-f3ca-dc875cb49539"
      },
      "execution_count": 48,
      "outputs": [
        {
          "output_type": "stream",
          "name": "stdout",
          "text": [
            "나의 학번12\n",
            "동료의 학번13\n",
            "후배님!\n"
          ]
        }
      ]
    },
    {
      "cell_type": "code",
      "source": [
        "orders = ['apple', 'orange', 'melon']\n",
        "\n",
        "fruit = input('무슨 과일이 먹고싶니? : ')\n",
        "\n",
        "if fruit in orders:\n",
        "    print('주문 가능 ㄱㄱ?')\n",
        "else:\n",
        "    print('주문 불가 ㄴㄴ')\n"
      ],
      "metadata": {
        "colab": {
          "base_uri": "https://localhost:8080/"
        },
        "id": "anO7v2EJXWP6",
        "outputId": "f00327de-54d0-4227-c8eb-be63f83cee95"
      },
      "execution_count": 2,
      "outputs": [
        {
          "output_type": "stream",
          "name": "stdout",
          "text": [
            "무슨 과일이 먹고싶니? : strawberry\n",
            "주문 불가 ㄴㄴ\n"
          ]
        }
      ]
    },
    {
      "cell_type": "code",
      "source": [
        "print(menu1)"
      ],
      "metadata": {
        "colab": {
          "base_uri": "https://localhost:8080/",
          "height": 206
        },
        "id": "Y1tZzOrbb79t",
        "outputId": "7db5a3ea-71d8-44ed-8678-0465e22080f9"
      },
      "execution_count": 3,
      "outputs": [
        {
          "output_type": "error",
          "ename": "NameError",
          "evalue": "ignored",
          "traceback": [
            "\u001b[0;31m---------------------------------------------------------------------------\u001b[0m",
            "\u001b[0;31mNameError\u001b[0m                                 Traceback (most recent call last)",
            "\u001b[0;32m<ipython-input-3-bb77d898cb3b>\u001b[0m in \u001b[0;36m<cell line: 1>\u001b[0;34m()\u001b[0m\n\u001b[0;32m----> 1\u001b[0;31m \u001b[0mprint\u001b[0m\u001b[0;34m(\u001b[0m\u001b[0mmenu1\u001b[0m\u001b[0;34m)\u001b[0m\u001b[0;34m\u001b[0m\u001b[0;34m\u001b[0m\u001b[0m\n\u001b[0m",
            "\u001b[0;31mNameError\u001b[0m: name 'menu1' is not defined"
          ]
        }
      ]
    },
    {
      "cell_type": "code",
      "source": [
        "menu = {'q' : 1, 'w' : 2, 'e' : 3}\n",
        "\n",
        "order = input('골라')\n",
        "\n",
        "if order in menu:\n",
        "    print('가능',menu[order],'원')\n",
        "else:\n",
        "    print('no')"
      ],
      "metadata": {
        "colab": {
          "base_uri": "https://localhost:8080/"
        },
        "id": "p7l8DHOWcYaf",
        "outputId": "0eeb74bc-a543-4787-bc1a-27f39f473743"
      },
      "execution_count": 5,
      "outputs": [
        {
          "output_type": "stream",
          "name": "stdout",
          "text": [
            "골라q\n",
            "가능 1 원\n"
          ]
        }
      ]
    },
    {
      "cell_type": "code",
      "source": [
        "while 10<90:\n",
        "    print('true')"
      ],
      "metadata": {
        "id": "tG66y395fZOq"
      },
      "execution_count": null,
      "outputs": []
    },
    {
      "cell_type": "code",
      "source": [
        "i = 5\n",
        "\n",
        "\n",
        "while i >= 0:\n",
        "    print(i)\n",
        "    i -= 1"
      ],
      "metadata": {
        "colab": {
          "base_uri": "https://localhost:8080/"
        },
        "id": "hkac2-LPgtKM",
        "outputId": "cd4a5cdd-acea-4923-d431-a9ce9b89c97a"
      },
      "execution_count": 10,
      "outputs": [
        {
          "output_type": "stream",
          "name": "stdout",
          "text": [
            "5\n",
            "4\n",
            "3\n",
            "2\n",
            "1\n",
            "0\n"
          ]
        }
      ]
    },
    {
      "cell_type": "code",
      "source": [
        "for a in range(4,31,2):\n",
        "    print(a)"
      ],
      "metadata": {
        "colab": {
          "base_uri": "https://localhost:8080/"
        },
        "id": "Fu7EEk9zhWWf",
        "outputId": "7c57ed2f-c196-4b0c-fd8e-7ea709f6b80c"
      },
      "execution_count": 21,
      "outputs": [
        {
          "output_type": "stream",
          "name": "stdout",
          "text": [
            "4\n",
            "6\n",
            "8\n",
            "10\n",
            "12\n",
            "14\n",
            "16\n",
            "18\n",
            "20\n",
            "22\n",
            "24\n",
            "26\n",
            "28\n",
            "30\n"
          ]
        }
      ]
    },
    {
      "cell_type": "code",
      "source": [
        "sum(range(1,101))"
      ],
      "metadata": {
        "colab": {
          "base_uri": "https://localhost:8080/"
        },
        "id": "1nBGGKZckHBG",
        "outputId": "7f118a5d-b5da-472a-eb10-0287d3aeb9f2"
      },
      "execution_count": 22,
      "outputs": [
        {
          "output_type": "execute_result",
          "data": {
            "text/plain": [
              "5050"
            ]
          },
          "metadata": {},
          "execution_count": 22
        }
      ]
    },
    {
      "cell_type": "code",
      "source": [
        "result = 1\n",
        "\n",
        "for x in range(1,10):\n",
        "    result = x * result\n",
        "\n",
        "print(result)"
      ],
      "metadata": {
        "colab": {
          "base_uri": "https://localhost:8080/"
        },
        "id": "g4Rxcl7CmQSa",
        "outputId": "bb2ea670-8ee0-4e1b-e60e-7d20ffb62caa"
      },
      "execution_count": 24,
      "outputs": [
        {
          "output_type": "stream",
          "name": "stdout",
          "text": [
            "362880\n"
          ]
        }
      ]
    },
    {
      "cell_type": "code",
      "source": [
        "print('*')"
      ],
      "metadata": {
        "colab": {
          "base_uri": "https://localhost:8080/"
        },
        "id": "IA5O42FunAsJ",
        "outputId": "f0bafb25-ba2e-4a99-fec1-5d52e5a2f3c3"
      },
      "execution_count": 1,
      "outputs": [
        {
          "output_type": "stream",
          "name": "stdout",
          "text": [
            "*\n"
          ]
        }
      ]
    },
    {
      "cell_type": "code",
      "source": [
        "for i in range(5):\n",
        "    a = '*' * 5\n",
        "    print(a)"
      ],
      "metadata": {
        "colab": {
          "base_uri": "https://localhost:8080/"
        },
        "id": "hn8Fxw6Hnsuf",
        "outputId": "5788eea3-2197-4959-ca08-422fb47fed22"
      },
      "execution_count": 20,
      "outputs": [
        {
          "output_type": "stream",
          "name": "stdout",
          "text": [
            "*****\n",
            "*****\n",
            "*****\n",
            "*****\n",
            "*****\n"
          ]
        }
      ]
    },
    {
      "cell_type": "code",
      "source": [
        "x = int(input('숫자를 입력하세요'))\n",
        "\n",
        "for i in range(x):\n",
        "    i += 1\n",
        "    print(i)"
      ],
      "metadata": {
        "colab": {
          "base_uri": "https://localhost:8080/"
        },
        "id": "d5aksiVhoBiw",
        "outputId": "98d6103b-2231-4c00-fbfa-969d7bf958c1"
      },
      "execution_count": 23,
      "outputs": [
        {
          "output_type": "stream",
          "name": "stdout",
          "text": [
            "숫자를 입력하세요19\n",
            "1\n",
            "2\n",
            "3\n",
            "4\n",
            "5\n",
            "6\n",
            "7\n",
            "8\n",
            "9\n",
            "10\n",
            "11\n",
            "12\n",
            "13\n",
            "14\n",
            "15\n",
            "16\n",
            "17\n",
            "18\n",
            "19\n"
          ]
        }
      ]
    },
    {
      "cell_type": "code",
      "source": [
        "x = int(input('숫자를 입력하세요'))\n",
        "\n",
        "for i in range(x):\n",
        "    i = x - i\n",
        "    print(i)"
      ],
      "metadata": {
        "colab": {
          "base_uri": "https://localhost:8080/"
        },
        "outputId": "0263c0f5-51e2-4337-e1ea-7f2f472008fa",
        "id": "mPFbJfJ99tLo"
      },
      "execution_count": 24,
      "outputs": [
        {
          "output_type": "stream",
          "name": "stdout",
          "text": [
            "숫자를 입력하세요5\n",
            "5\n",
            "4\n",
            "3\n",
            "2\n",
            "1\n"
          ]
        }
      ]
    },
    {
      "cell_type": "code",
      "source": [
        "x = int(input('숫자를 입력하세요'))\n",
        "\n",
        "for i in range(x):\n",
        "    i += 1\n",
        "    if i % 10 == 0:\n",
        "        print(i)\n",
        "    else:\n",
        "        print(i, end='')\n"
      ],
      "metadata": {
        "colab": {
          "base_uri": "https://localhost:8080/"
        },
        "outputId": "208298b1-a8b6-47db-f6c7-cc9d6dade3de",
        "id": "FR_lF3eL-L4F"
      },
      "execution_count": 26,
      "outputs": [
        {
          "output_type": "stream",
          "name": "stdout",
          "text": [
            "숫자를 입력하세요30\n",
            "12345678910\n",
            "11121314151617181920\n",
            "21222324252627282930\n"
          ]
        }
      ]
    },
    {
      "cell_type": "code",
      "source": [
        "import random"
      ],
      "metadata": {
        "id": "9qmooCyg82rI"
      },
      "execution_count": 28,
      "outputs": []
    },
    {
      "cell_type": "code",
      "source": [
        "user = int(input('로또를 몇개 사실? : '))\n",
        "\n",
        "for i in range(user):\n",
        "    randnum = random.sample(range(1,46),6)\n",
        "    randnum.sort()\n",
        "    print(randnum)\n"
      ],
      "metadata": {
        "colab": {
          "base_uri": "https://localhost:8080/"
        },
        "id": "Zgy0QkCr_mPR",
        "outputId": "fb2de2a2-22a3-4ac8-ab61-9c322225e033"
      },
      "execution_count": 52,
      "outputs": [
        {
          "output_type": "stream",
          "name": "stdout",
          "text": [
            "로또를 몇개 사실? : 3\n",
            "[11, 21, 28, 31, 32, 34]\n",
            "[3, 9, 17, 29, 32, 41]\n",
            "[6, 7, 10, 23, 39, 43]\n"
          ]
        }
      ]
    },
    {
      "cell_type": "code",
      "source": [
        "for i in range(5):\n",
        "    q = '*' * (i + 1)\n",
        "    print(q)"
      ],
      "metadata": {
        "colab": {
          "base_uri": "https://localhost:8080/"
        },
        "id": "1G4lXoV___zF",
        "outputId": "edaed114-b821-44f9-e3cb-d2bbcb673bb4"
      },
      "execution_count": 40,
      "outputs": [
        {
          "output_type": "stream",
          "name": "stdout",
          "text": [
            "*\n",
            "**\n",
            "***\n",
            "****\n",
            "*****\n"
          ]
        }
      ]
    },
    {
      "cell_type": "code",
      "source": [
        "name = {\"길동\" : 20, \"철수\" : 25, \"영희\" : 27}\n"
      ],
      "metadata": {
        "id": "1bmOD1dvC8jY"
      },
      "execution_count": 53,
      "outputs": []
    },
    {
      "cell_type": "code",
      "source": [
        "del name[\"길동\"]"
      ],
      "metadata": {
        "id": "cg9h4Je0HzAc"
      },
      "execution_count": 55,
      "outputs": []
    },
    {
      "cell_type": "code",
      "source": [
        "print(name)"
      ],
      "metadata": {
        "colab": {
          "base_uri": "https://localhost:8080/"
        },
        "id": "_XaZcT_JH1Cm",
        "outputId": "b712cd1b-a9a3-4a03-d69f-bc31e56525bc"
      },
      "execution_count": 56,
      "outputs": [
        {
          "output_type": "stream",
          "name": "stdout",
          "text": [
            "{'철수': 25, '영희': 27}\n"
          ]
        }
      ]
    },
    {
      "cell_type": "code",
      "source": [
        "for i in range(8) :\n",
        "    i += 1\n",
        "    print(i)"
      ],
      "metadata": {
        "colab": {
          "base_uri": "https://localhost:8080/"
        },
        "id": "RVvAW2PgH-N_",
        "outputId": "522299b7-f7e8-4b0b-9e69-31f55525b4de"
      },
      "execution_count": 58,
      "outputs": [
        {
          "output_type": "stream",
          "name": "stdout",
          "text": [
            "1\n",
            "2\n",
            "3\n",
            "4\n",
            "5\n",
            "6\n",
            "7\n",
            "8\n"
          ]
        }
      ]
    },
    {
      "cell_type": "code",
      "source": [],
      "metadata": {
        "id": "CTI-oMPWIyUT"
      },
      "execution_count": null,
      "outputs": []
    }
  ]
}