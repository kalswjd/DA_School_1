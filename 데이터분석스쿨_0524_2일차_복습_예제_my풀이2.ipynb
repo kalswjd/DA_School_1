{
  "nbformat": 4,
  "nbformat_minor": 0,
  "metadata": {
    "colab": {
      "provenance": [],
      "authorship_tag": "ABX9TyObjWK3nkLCgU1N2vEaFmII",
      "include_colab_link": true
    },
    "kernelspec": {
      "name": "python3",
      "display_name": "Python 3"
    },
    "language_info": {
      "name": "python"
    }
  },
  "cells": [
    {
      "cell_type": "markdown",
      "metadata": {
        "id": "view-in-github",
        "colab_type": "text"
      },
      "source": [
        "<a href=\"https://colab.research.google.com/github/kalswjd/DA_School_1/blob/main/%08%EB%8D%B0%EC%9D%B4%ED%84%B0%EB%B6%84%EC%84%9D%EC%8A%A4%EC%BF%A8_0524_2%E1%84%8B%E1%85%B5%E1%86%AF%E1%84%8E%E1%85%A1_%E1%84%87%E1%85%A9%E1%86%A8%E1%84%89%E1%85%B3%E1%86%B8_%E1%84%8B%E1%85%A8%E1%84%8C%E1%85%A6_my%ED%92%80%EC%9D%B42.ipynb\" target=\"_parent\"><img src=\"https://colab.research.google.com/assets/colab-badge.svg\" alt=\"Open In Colab\"/></a>"
      ]
    },
    {
      "cell_type": "code",
      "execution_count": 2,
      "metadata": {
        "id": "njMKmXIKgIOU"
      },
      "outputs": [],
      "source": [
        "import numpy as np"
      ]
    },
    {
      "cell_type": "code",
      "source": [
        "z=np.zeros(10)"
      ],
      "metadata": {
        "id": "Q_LVlBV1j-Pp"
      },
      "execution_count": 3,
      "outputs": []
    },
    {
      "cell_type": "code",
      "source": [
        "print(z)"
      ],
      "metadata": {
        "colab": {
          "base_uri": "https://localhost:8080/"
        },
        "id": "14N1gjEVkGRz",
        "outputId": "87630ee0-e9e8-4c11-ba7b-5f961c074624"
      },
      "execution_count": 4,
      "outputs": [
        {
          "output_type": "stream",
          "name": "stdout",
          "text": [
            "[0. 0. 0. 0. 0. 0. 0. 0. 0. 0.]\n"
          ]
        }
      ]
    },
    {
      "cell_type": "code",
      "source": [
        "a=np.array([range(10,50)])"
      ],
      "metadata": {
        "id": "YD218bzikU86"
      },
      "execution_count": 6,
      "outputs": []
    },
    {
      "cell_type": "code",
      "source": [
        "print(a)"
      ],
      "metadata": {
        "colab": {
          "base_uri": "https://localhost:8080/"
        },
        "id": "HEhzzETCkrCG",
        "outputId": "0bc99f70-d112-46cb-ad65-1dd54d7edf6e"
      },
      "execution_count": 7,
      "outputs": [
        {
          "output_type": "stream",
          "name": "stdout",
          "text": [
            "[[10 11 12 13 14 15 16 17 18 19 20 21 22 23 24 25 26 27 28 29 30 31 32 33\n",
            "  34 35 36 37 38 39 40 41 42 43 44 45 46 47 48 49]]\n"
          ]
        }
      ]
    },
    {
      "cell_type": "code",
      "source": [
        "b=np.arange(0,9).reshape(3,3)"
      ],
      "metadata": {
        "colab": {
          "base_uri": "https://localhost:8080/"
        },
        "id": "uDu6JMBPkttF",
        "outputId": "29cd51f5-8873-4b22-dd5e-1a5a4e20f657"
      },
      "execution_count": 8,
      "outputs": [
        {
          "output_type": "execute_result",
          "data": {
            "text/plain": [
              "array([[0, 1, 2],\n",
              "       [3, 4, 5],\n",
              "       [6, 7, 8]])"
            ]
          },
          "metadata": {},
          "execution_count": 8
        }
      ]
    },
    {
      "cell_type": "code",
      "source": [
        "c=np.ones(25).reshape(5,5)\n",
        "for i in range(1,4):\n",
        "    c[i][1:4]=0"
      ],
      "metadata": {
        "id": "zpnb6mKkk7XH"
      },
      "execution_count": 13,
      "outputs": []
    },
    {
      "cell_type": "code",
      "source": [
        "print(c)"
      ],
      "metadata": {
        "colab": {
          "base_uri": "https://localhost:8080/"
        },
        "id": "dW8URoLElRhe",
        "outputId": "04a6bfad-3e7c-4f4f-f6d5-3b8923ed3938"
      },
      "execution_count": 14,
      "outputs": [
        {
          "output_type": "stream",
          "name": "stdout",
          "text": [
            "[[1. 1. 1. 1. 1.]\n",
            " [1. 0. 0. 0. 1.]\n",
            " [1. 0. 0. 0. 1.]\n",
            " [1. 0. 0. 0. 1.]\n",
            " [1. 1. 1. 1. 1.]]\n"
          ]
        }
      ]
    },
    {
      "cell_type": "code",
      "source": [
        "import random"
      ],
      "metadata": {
        "id": "Y1F78LQIoUSs"
      },
      "execution_count": 15,
      "outputs": []
    },
    {
      "cell_type": "code",
      "source": [
        "np.random.random((3,3,3))"
      ],
      "metadata": {
        "colab": {
          "base_uri": "https://localhost:8080/"
        },
        "id": "L5u0ZF7Go_9b",
        "outputId": "f334db10-8943-40b8-e0d7-42f1fccf7ef6"
      },
      "execution_count": 18,
      "outputs": [
        {
          "output_type": "execute_result",
          "data": {
            "text/plain": [
              "array([[[0.62147948, 0.64200782, 0.9629163 ],\n",
              "        [0.04891602, 0.57607701, 0.24611   ],\n",
              "        [0.77807008, 0.38470745, 0.99798145]],\n",
              "\n",
              "       [[0.50467135, 0.111571  , 0.01092357],\n",
              "        [0.46100408, 0.69789395, 0.62534248],\n",
              "        [0.95247421, 0.20050615, 0.11982994]],\n",
              "\n",
              "       [[0.78217041, 0.9114277 , 0.23469602],\n",
              "        [0.36762653, 0.7267976 , 0.53986627],\n",
              "        [0.98101666, 0.86155947, 0.94683088]]])"
            ]
          },
          "metadata": {},
          "execution_count": 18
        }
      ]
    },
    {
      "cell_type": "code",
      "source": [
        "a=np.random.random((10,10))"
      ],
      "metadata": {
        "id": "pUN243r0peHq"
      },
      "execution_count": 20,
      "outputs": []
    },
    {
      "cell_type": "code",
      "source": [
        "a.min()"
      ],
      "metadata": {
        "colab": {
          "base_uri": "https://localhost:8080/"
        },
        "id": "phhamJFyp6xn",
        "outputId": "6fce2a90-99c5-4add-ca94-731a8ecd0aae"
      },
      "execution_count": 21,
      "outputs": [
        {
          "output_type": "execute_result",
          "data": {
            "text/plain": [
              "0.0039082940210780626"
            ]
          },
          "metadata": {},
          "execution_count": 21
        }
      ]
    },
    {
      "cell_type": "code",
      "source": [
        "a.max()"
      ],
      "metadata": {
        "colab": {
          "base_uri": "https://localhost:8080/"
        },
        "id": "UuRTvalNqBCw",
        "outputId": "0311549f-0a20-47c3-8dbe-717a1bad039b"
      },
      "execution_count": 23,
      "outputs": [
        {
          "output_type": "execute_result",
          "data": {
            "text/plain": [
              "0.9982335549023528"
            ]
          },
          "metadata": {},
          "execution_count": 23
        }
      ]
    },
    {
      "cell_type": "code",
      "source": [
        "b=np.random.random((30))"
      ],
      "metadata": {
        "id": "YmchclWUqCf0"
      },
      "execution_count": 24,
      "outputs": []
    },
    {
      "cell_type": "code",
      "source": [
        "b.mean()"
      ],
      "metadata": {
        "colab": {
          "base_uri": "https://localhost:8080/"
        },
        "id": "LWjLAyRsrOdu",
        "outputId": "d0c1ed05-6c5e-4235-9eed-a939fc2e92ae"
      },
      "execution_count": 27,
      "outputs": [
        {
          "output_type": "execute_result",
          "data": {
            "text/plain": [
              "0.5038287623159456"
            ]
          },
          "metadata": {},
          "execution_count": 27
        }
      ]
    },
    {
      "cell_type": "code",
      "source": [
        "a=np.ones((5,3))\n",
        "b=np.ones((3,2))\n",
        "print(a)\n",
        "print(b)\n",
        "print(np.dot(a,b))"
      ],
      "metadata": {
        "colab": {
          "base_uri": "https://localhost:8080/"
        },
        "id": "xaa5jilOrPOD",
        "outputId": "9bf7302f-79d7-489f-a7d7-bbae0fdd86da"
      },
      "execution_count": 31,
      "outputs": [
        {
          "output_type": "stream",
          "name": "stdout",
          "text": [
            "[[1. 1. 1.]\n",
            " [1. 1. 1.]\n",
            " [1. 1. 1.]\n",
            " [1. 1. 1.]\n",
            " [1. 1. 1.]]\n",
            "[[1. 1.]\n",
            " [1. 1.]\n",
            " [1. 1.]]\n",
            "[[3. 3.]\n",
            " [3. 3.]\n",
            " [3. 3.]\n",
            " [3. 3.]\n",
            " [3. 3.]]\n"
          ]
        }
      ]
    },
    {
      "cell_type": "code",
      "source": [
        "A = np.array([1, 2, 3])\n",
        "B = np.array([4, 5, 6])\n",
        "C = np.zeros(3)\n",
        "C =np.add(A,B)\n",
        "C"
      ],
      "metadata": {
        "colab": {
          "base_uri": "https://localhost:8080/"
        },
        "id": "5XHvHBeHsRkv",
        "outputId": "ede8af82-5f80-4d57-ce89-b408474704a3"
      },
      "execution_count": 36,
      "outputs": [
        {
          "output_type": "execute_result",
          "data": {
            "text/plain": [
              "array([5, 7, 9])"
            ]
          },
          "metadata": {},
          "execution_count": 36
        }
      ]
    },
    {
      "cell_type": "code",
      "source": [
        "C=np.negative(A)\n",
        "C"
      ],
      "metadata": {
        "colab": {
          "base_uri": "https://localhost:8080/"
        },
        "id": "0msJYJJ9tTG9",
        "outputId": "9fcc2f62-6009-4f35-b0d2-58de5963e970"
      },
      "execution_count": 39,
      "outputs": [
        {
          "output_type": "execute_result",
          "data": {
            "text/plain": [
              "array([-1, -2, -3])"
            ]
          },
          "metadata": {},
          "execution_count": 39
        }
      ]
    },
    {
      "cell_type": "code",
      "source": [
        "a=np.random.random(10)\n",
        "a.argmax()"
      ],
      "metadata": {
        "colab": {
          "base_uri": "https://localhost:8080/"
        },
        "id": "jsQF5ihet7Hn",
        "outputId": "e11be330-4172-457e-c743-ace6bfb92093"
      },
      "execution_count": 42,
      "outputs": [
        {
          "output_type": "execute_result",
          "data": {
            "text/plain": [
              "6"
            ]
          },
          "metadata": {},
          "execution_count": 42
        }
      ]
    },
    {
      "cell_type": "code",
      "source": [
        "a[6]=0"
      ],
      "metadata": {
        "id": "Wqt1lWoPuPY9"
      },
      "execution_count": 43,
      "outputs": []
    },
    {
      "cell_type": "code",
      "source": [
        "a"
      ],
      "metadata": {
        "colab": {
          "base_uri": "https://localhost:8080/"
        },
        "id": "_17ENoGxu5Wg",
        "outputId": "5004980d-56eb-42ec-ecca-79b4a03cb53a"
      },
      "execution_count": 44,
      "outputs": [
        {
          "output_type": "execute_result",
          "data": {
            "text/plain": [
              "array([0.10538795, 0.16556854, 0.0638866 , 0.14716864, 0.58585644,\n",
              "       0.77703983, 0.        , 0.20517714, 0.15396008, 0.69204106])"
            ]
          },
          "metadata": {},
          "execution_count": 44
        }
      ]
    },
    {
      "cell_type": "code",
      "source": [
        "arr = np.array([[1, 2, 3], [4, 5, 6]])\n",
        "print('arr에서 최댓값:', np.max(arr))\n",
        "print('arr에서 최댓값인 6이 위치한 인덱스:',np.argmax(arr))\n",
        "print('arr에서 각 행(axis=0)별로 최댓값을 반환:', np.max(arr, axis=0))\n",
        "print('arr에서 각 열(axis=1)별로 최댓값을 반환:', np.max(arr, axis=1))\n",
        "print('arr에서 각 행(axis=0)별로 최댓값의 인덱스를 반환:',np.argmax(arr, axis=0))\n",
        "print('arr에서 각 열(axis=1)별로 최댓값의 인덱스를 반환:',np.argmax(arr, axis=1))\n"
      ],
      "metadata": {
        "colab": {
          "base_uri": "https://localhost:8080/"
        },
        "id": "2gqP_WV2u6F1",
        "outputId": "4e30acb0-f6df-4eaf-e2ce-931c8cc3eca5"
      },
      "execution_count": 46,
      "outputs": [
        {
          "output_type": "stream",
          "name": "stdout",
          "text": [
            "arr에서 최댓값: 6\n",
            "arr에서 최댓값인 6이 위치한 인덱스: 5\n",
            "arr에서 각 행(axis=0)별로 최댓값을 반환: [4 5 6]\n",
            "arr에서 각 열(axis=1)별로 최댓값을 반환: [3 6]\n",
            "arr에서 각 행(axis=0)별로 최댓값의 인덱스를 반환: [1 1 1]\n",
            "arr에서 각 열(axis=1)별로 최댓값의 인덱스를 반환: [2 2]\n"
          ]
        }
      ]
    },
    {
      "cell_type": "code",
      "source": [
        "# .view() 메서드 예제\n",
        "arr1 = np.array([1, 2, 3, 4, 5])\n",
        "view_arr1 = arr1.view()\n",
        "\n",
        "print(view_arr1)\n",
        "# 출력: [1 2 3 4 5]\n",
        "\n",
        "# .astype() 메서드 예제\n",
        "arr2 = np.array([1.1, 2.2, 3.3, 4.4, 5.5])\n",
        "int_arr2 = arr2.astype(int)\n",
        "\n",
        "print(int_arr2)\n",
        "# 출력: [1 2 3 4 5]"
      ],
      "metadata": {
        "colab": {
          "base_uri": "https://localhost:8080/"
        },
        "id": "03j4jMNxwWSR",
        "outputId": "d532d00e-c015-4c83-e0b6-9c093cd62439"
      },
      "execution_count": 6,
      "outputs": [
        {
          "output_type": "stream",
          "name": "stdout",
          "text": [
            "[1 2 3 4 5]\n",
            "[1 2 3 4 5]\n"
          ]
        }
      ]
    },
    {
      "cell_type": "code",
      "source": [
        "b=np.random.randint(0,6,(3,10),dtype=int)"
      ],
      "metadata": {
        "id": "ELW5V0YuzYaJ"
      },
      "execution_count": 10,
      "outputs": []
    },
    {
      "cell_type": "code",
      "source": [
        "b"
      ],
      "metadata": {
        "colab": {
          "base_uri": "https://localhost:8080/"
        },
        "id": "m9PJLrGK09hZ",
        "outputId": "a9fc67ce-c141-4de7-a2e6-fede50dfa5c3"
      },
      "execution_count": 11,
      "outputs": [
        {
          "output_type": "execute_result",
          "data": {
            "text/plain": [
              "array([[0, 4, 0, 5, 5, 3, 1, 4, 4, 3],\n",
              "       [1, 3, 5, 5, 3, 1, 0, 2, 2, 3],\n",
              "       [0, 2, 4, 5, 3, 5, 2, 0, 3, 1]])"
            ]
          },
          "metadata": {},
          "execution_count": 11
        }
      ]
    },
    {
      "cell_type": "code",
      "source": [
        "b.any()"
      ],
      "metadata": {
        "colab": {
          "base_uri": "https://localhost:8080/"
        },
        "id": "GdQkypZP1ZLT",
        "outputId": "34abe930-eb25-4fa0-da0d-7b122d7464f2"
      },
      "execution_count": 14,
      "outputs": [
        {
          "output_type": "execute_result",
          "data": {
            "text/plain": [
              "True"
            ]
          },
          "metadata": {},
          "execution_count": 14
        }
      ]
    },
    {
      "cell_type": "code",
      "source": [
        "c=np.random.uniform(0,1,10)"
      ],
      "metadata": {
        "id": "tMbMJOY61e0A"
      },
      "execution_count": 15,
      "outputs": []
    },
    {
      "cell_type": "code",
      "source": [
        "c"
      ],
      "metadata": {
        "colab": {
          "base_uri": "https://localhost:8080/"
        },
        "id": "hVJ8a2Wa2IdG",
        "outputId": "77e1e2b0-9db3-42dc-f217-b208102b8631"
      },
      "execution_count": 16,
      "outputs": [
        {
          "output_type": "execute_result",
          "data": {
            "text/plain": [
              "array([0.55012276, 0.31942793, 0.76901081, 0.53718035, 0.22795409,\n",
              "       0.3487538 , 0.08376413, 0.11575418, 0.93947573, 0.39679336])"
            ]
          },
          "metadata": {},
          "execution_count": 16
        }
      ]
    },
    {
      "cell_type": "code",
      "source": [
        "num=0.5\n",
        "np.abs(c-num).argmin()"
      ],
      "metadata": {
        "colab": {
          "base_uri": "https://localhost:8080/"
        },
        "id": "HQVTQEIT2JKZ",
        "outputId": "53392818-315d-488e-f962-5f3818563080"
      },
      "execution_count": 18,
      "outputs": [
        {
          "output_type": "execute_result",
          "data": {
            "text/plain": [
              "3"
            ]
          },
          "metadata": {},
          "execution_count": 18
        }
      ]
    },
    {
      "cell_type": "code",
      "source": [
        "arr = np.array([[1, 2, 3], [4, 5, 6], [3, 4, 5]])\n",
        "flatten_arr = arr.flatten()\n",
        "flatten_arr"
      ],
      "metadata": {
        "colab": {
          "base_uri": "https://localhost:8080/"
        },
        "id": "4_O07k_u2okO",
        "outputId": "064b0be0-7ee7-4c8a-c908-da39c3ad9b02"
      },
      "execution_count": 27,
      "outputs": [
        {
          "output_type": "execute_result",
          "data": {
            "text/plain": [
              "array([1, 2, 3, 4, 5, 6, 3, 4, 5])"
            ]
          },
          "metadata": {},
          "execution_count": 27
        }
      ]
    },
    {
      "cell_type": "code",
      "source": [
        "flatten_arr.argmax()"
      ],
      "metadata": {
        "colab": {
          "base_uri": "https://localhost:8080/"
        },
        "id": "-bPjV92k3BM5",
        "outputId": "e1937f4b-ad35-464e-dda4-b5343c5c9ba2"
      },
      "execution_count": 24,
      "outputs": [
        {
          "output_type": "execute_result",
          "data": {
            "text/plain": [
              "5"
            ]
          },
          "metadata": {},
          "execution_count": 24
        }
      ]
    },
    {
      "cell_type": "code",
      "source": [
        "flatten_arr[5] = 10"
      ],
      "metadata": {
        "id": "PUuuapFI3dgE"
      },
      "execution_count": 25,
      "outputs": []
    },
    {
      "cell_type": "code",
      "source": [
        "flatten_arr"
      ],
      "metadata": {
        "colab": {
          "base_uri": "https://localhost:8080/"
        },
        "id": "xLWocVMf3stA",
        "outputId": "676a181e-0900-42f9-c224-357250652220"
      },
      "execution_count": 26,
      "outputs": [
        {
          "output_type": "execute_result",
          "data": {
            "text/plain": [
              "array([ 1,  2,  3,  4,  5, 10,  3,  4,  5])"
            ]
          },
          "metadata": {},
          "execution_count": 26
        }
      ]
    },
    {
      "cell_type": "code",
      "source": [
        "a=np.random.randint(0,10,(3,4,3,4))"
      ],
      "metadata": {
        "id": "GL7O6F1E3uOA"
      },
      "execution_count": 28,
      "outputs": []
    },
    {
      "cell_type": "code",
      "source": [
        "a"
      ],
      "metadata": {
        "colab": {
          "base_uri": "https://localhost:8080/"
        },
        "id": "dxriqi9s4Qyu",
        "outputId": "968b92e3-5d46-49e3-c52a-35c89df02632"
      },
      "execution_count": 29,
      "outputs": [
        {
          "output_type": "execute_result",
          "data": {
            "text/plain": [
              "array([[[[9, 6, 2, 2],\n",
              "         [5, 3, 6, 1],\n",
              "         [1, 7, 5, 1]],\n",
              "\n",
              "        [[5, 2, 2, 2],\n",
              "         [0, 1, 8, 3],\n",
              "         [5, 4, 0, 2]],\n",
              "\n",
              "        [[1, 1, 1, 7],\n",
              "         [9, 5, 8, 5],\n",
              "         [1, 5, 7, 0]],\n",
              "\n",
              "        [[4, 6, 7, 6],\n",
              "         [8, 4, 9, 6],\n",
              "         [7, 7, 3, 2]]],\n",
              "\n",
              "\n",
              "       [[[0, 5, 1, 2],\n",
              "         [2, 3, 5, 2],\n",
              "         [6, 5, 8, 6]],\n",
              "\n",
              "        [[5, 0, 8, 8],\n",
              "         [0, 3, 5, 4],\n",
              "         [8, 9, 7, 0]],\n",
              "\n",
              "        [[4, 0, 0, 5],\n",
              "         [5, 1, 7, 4],\n",
              "         [2, 7, 4, 0]],\n",
              "\n",
              "        [[6, 9, 2, 0],\n",
              "         [7, 1, 5, 8],\n",
              "         [2, 4, 5, 9]]],\n",
              "\n",
              "\n",
              "       [[[2, 7, 4, 9],\n",
              "         [8, 5, 0, 0],\n",
              "         [1, 4, 1, 2]],\n",
              "\n",
              "        [[0, 3, 0, 4],\n",
              "         [4, 7, 1, 2],\n",
              "         [3, 1, 1, 7]],\n",
              "\n",
              "        [[7, 2, 2, 5],\n",
              "         [5, 1, 0, 2],\n",
              "         [6, 7, 4, 1]],\n",
              "\n",
              "        [[4, 9, 3, 6],\n",
              "         [4, 0, 6, 0],\n",
              "         [7, 4, 5, 5]]]])"
            ]
          },
          "metadata": {},
          "execution_count": 29
        }
      ]
    },
    {
      "cell_type": "code",
      "source": [
        "a.sum(axis = (-2,-1))"
      ],
      "metadata": {
        "colab": {
          "base_uri": "https://localhost:8080/"
        },
        "id": "5is7Q1hI4RoV",
        "outputId": "64a68692-69f0-4132-dc36-c469435a3ad9"
      },
      "execution_count": 30,
      "outputs": [
        {
          "output_type": "execute_result",
          "data": {
            "text/plain": [
              "array([[48, 34, 50, 69],\n",
              "       [45, 57, 39, 58],\n",
              "       [43, 33, 42, 53]])"
            ]
          },
          "metadata": {},
          "execution_count": 30
        }
      ]
    },
    {
      "cell_type": "code",
      "source": [
        "a = np.arange(25).reshape(5,5)\n"
      ],
      "metadata": {
        "id": "PsHISlEg4l3n"
      },
      "execution_count": 37,
      "outputs": []
    },
    {
      "cell_type": "code",
      "source": [
        "a"
      ],
      "metadata": {
        "colab": {
          "base_uri": "https://localhost:8080/"
        },
        "id": "Xu-4dW5H5aM7",
        "outputId": "cb4cd46f-2c4a-4d3a-a76c-8563af3e3caf"
      },
      "execution_count": 38,
      "outputs": [
        {
          "output_type": "execute_result",
          "data": {
            "text/plain": [
              "array([[ 0,  1,  2,  3,  4],\n",
              "       [ 5,  6,  7,  8,  9],\n",
              "       [10, 11, 12, 13, 14],\n",
              "       [15, 16, 17, 18, 19],\n",
              "       [20, 21, 22, 23, 24]])"
            ]
          },
          "metadata": {},
          "execution_count": 38
        }
      ]
    },
    {
      "cell_type": "code",
      "source": [
        "a[[0,1]] = a[[1,0]]\n"
      ],
      "metadata": {
        "id": "wNo7z77n5bZD"
      },
      "execution_count": 39,
      "outputs": []
    },
    {
      "cell_type": "code",
      "source": [
        "a"
      ],
      "metadata": {
        "colab": {
          "base_uri": "https://localhost:8080/"
        },
        "id": "Gv1OPVLu5zc8",
        "outputId": "46f67f5e-82c8-4e28-e453-b71ebd114f6d"
      },
      "execution_count": 40,
      "outputs": [
        {
          "output_type": "execute_result",
          "data": {
            "text/plain": [
              "array([[ 5,  6,  7,  8,  9],\n",
              "       [ 0,  1,  2,  3,  4],\n",
              "       [10, 11, 12, 13, 14],\n",
              "       [15, 16, 17, 18, 19],\n",
              "       [20, 21, 22, 23, 24]])"
            ]
          },
          "metadata": {},
          "execution_count": 40
        }
      ]
    },
    {
      "cell_type": "code",
      "source": [
        "b=np.random.normal(0,1,100)"
      ],
      "metadata": {
        "id": "qksmq_kL50MA"
      },
      "execution_count": 41,
      "outputs": []
    },
    {
      "cell_type": "code",
      "source": [
        "b"
      ],
      "metadata": {
        "colab": {
          "base_uri": "https://localhost:8080/"
        },
        "id": "zWRN_osh65aK",
        "outputId": "99f7d7a1-5a30-4e30-f71e-51e1052c74d4"
      },
      "execution_count": 43,
      "outputs": [
        {
          "output_type": "execute_result",
          "data": {
            "text/plain": [
              "array([ 0.0805751 , -1.34987358,  1.05390327, -0.96459483, -0.44468684,\n",
              "        0.13865016,  0.25225711,  0.21486977, -1.52371714,  0.35724715,\n",
              "       -1.09415629,  0.303142  , -0.01892134,  0.04625123,  2.17810523,\n",
              "        0.61835712,  0.8805051 , -1.78873141,  2.05813113, -0.82656823,\n",
              "        0.42146277, -0.48366095,  0.15407062,  0.39805073, -0.45012649,\n",
              "        1.32564251,  0.0538087 , -0.27607304, -0.22097015, -0.62111622,\n",
              "        0.73314521, -0.09137723,  0.72156252,  0.14266539,  1.07456963,\n",
              "        0.48558139, -0.89916863, -0.9110179 ,  0.09652473,  0.82548514,\n",
              "       -0.04138401, -0.82002432,  0.36177808, -1.13742947, -1.14576743,\n",
              "        0.29010827,  1.1181422 ,  0.55354032, -0.29853566, -0.21427045,\n",
              "        0.95176158, -0.90297505, -0.69436652,  0.57240859,  1.15003984,\n",
              "       -0.9457822 ,  0.11524383, -0.36673778,  0.17268248, -0.20103057,\n",
              "       -0.44906138,  0.18533419, -1.05424461,  0.22465598, -0.64775392,\n",
              "       -1.02079816, -1.605648  , -0.19932302, -1.04594186,  0.55754066,\n",
              "        0.44309822,  1.65158548,  0.79615832,  0.21164609,  0.58125809,\n",
              "        0.71771779,  0.11676238, -0.11104617,  1.06328735, -2.98560445,\n",
              "        0.3173798 ,  0.19853828, -0.01334382, -1.36266152,  1.57527043,\n",
              "        0.44261238,  0.74380797, -0.57079087, -0.43129239,  0.34619814,\n",
              "        0.9565531 , -1.0223464 ,  0.23670254,  0.39049517, -2.5033494 ,\n",
              "       -0.08980446, -0.40233704,  1.93985568,  0.12512585, -1.06148008])"
            ]
          },
          "metadata": {},
          "execution_count": 43
        }
      ]
    },
    {
      "cell_type": "code",
      "source": [
        "np.random.shuffle(b)"
      ],
      "metadata": {
        "id": "fCGlmF4O68cP"
      },
      "execution_count": 44,
      "outputs": []
    },
    {
      "cell_type": "code",
      "source": [
        "b[np.argsort(b)[-5:]]"
      ],
      "metadata": {
        "colab": {
          "base_uri": "https://localhost:8080/"
        },
        "id": "cwvR6x707JfW",
        "outputId": "b1cf3003-3c5b-434f-d348-3828bc5f8cf9"
      },
      "execution_count": 45,
      "outputs": [
        {
          "output_type": "execute_result",
          "data": {
            "text/plain": [
              "array([1.57527043, 1.65158548, 1.93985568, 2.05813113, 2.17810523])"
            ]
          },
          "metadata": {},
          "execution_count": 45
        }
      ]
    },
    {
      "cell_type": "code",
      "source": [],
      "metadata": {
        "id": "OU9xQi_a72mc"
      },
      "execution_count": null,
      "outputs": []
    }
  ]
}