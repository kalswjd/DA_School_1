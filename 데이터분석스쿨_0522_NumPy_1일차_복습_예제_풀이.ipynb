{
  "nbformat": 4,
  "nbformat_minor": 0,
  "metadata": {
    "colab": {
      "provenance": [],
      "authorship_tag": "ABX9TyOC2DUhf6GTy5XgMJPefNzi",
      "include_colab_link": true
    },
    "kernelspec": {
      "name": "python3",
      "display_name": "Python 3"
    },
    "language_info": {
      "name": "python"
    }
  },
  "cells": [
    {
      "cell_type": "markdown",
      "metadata": {
        "id": "view-in-github",
        "colab_type": "text"
      },
      "source": [
        "<a href=\"https://colab.research.google.com/github/kalswjd/DA_School_1/blob/main/%EB%8D%B0%EC%9D%B4%ED%84%B0%EB%B6%84%EC%84%9D%EC%8A%A4%EC%BF%A8_0522_NumPy_1%EC%9D%BC%EC%B0%A8_%EB%B3%B5%EC%8A%B5_%EC%98%88%EC%A0%9C_%ED%92%80%EC%9D%B4.ipynb\" target=\"_parent\"><img src=\"https://colab.research.google.com/assets/colab-badge.svg\" alt=\"Open In Colab\"/></a>"
      ]
    },
    {
      "cell_type": "code",
      "execution_count": null,
      "metadata": {
        "id": "Tw4469INUj-I"
      },
      "outputs": [],
      "source": [
        "import numpy as np"
      ]
    },
    {
      "cell_type": "markdown",
      "source": [
        "#1.array()"
      ],
      "metadata": {
        "id": "A5gOsN2Thp1C"
      }
    },
    {
      "cell_type": "code",
      "source": [
        "a = np.array([1,2,3,4,5])\n",
        "print(a)"
      ],
      "metadata": {
        "id": "527Ce8sJUshA",
        "colab": {
          "base_uri": "https://localhost:8080/"
        },
        "outputId": "7df294c8-d213-46d1-feab-bf1b55809609"
      },
      "execution_count": null,
      "outputs": [
        {
          "output_type": "stream",
          "name": "stdout",
          "text": [
            "[1 2 3 4 5]\n"
          ]
        }
      ]
    },
    {
      "cell_type": "code",
      "source": [
        "b = np.array([i for i in range(1,10,2)])\n",
        "print(b)"
      ],
      "metadata": {
        "colab": {
          "base_uri": "https://localhost:8080/"
        },
        "id": "miQM42klgEhM",
        "outputId": "d03a688e-f98a-41a6-e614-14f15e62991d"
      },
      "execution_count": null,
      "outputs": [
        {
          "output_type": "stream",
          "name": "stdout",
          "text": [
            "[1 3 5 7 9]\n"
          ]
        }
      ]
    },
    {
      "cell_type": "code",
      "source": [
        "print(np.array(range(10)))"
      ],
      "metadata": {
        "colab": {
          "base_uri": "https://localhost:8080/"
        },
        "id": "PMFmzoj7gOHW",
        "outputId": "528f65b8-847b-4980-9542-dcd30895a09c"
      },
      "execution_count": null,
      "outputs": [
        {
          "output_type": "stream",
          "name": "stdout",
          "text": [
            "[0 1 2 3 4 5 6 7 8 9]\n"
          ]
        }
      ]
    },
    {
      "cell_type": "code",
      "source": [
        "print(np.array(range(1,11)))"
      ],
      "metadata": {
        "colab": {
          "base_uri": "https://localhost:8080/"
        },
        "id": "BatsM0FagXso",
        "outputId": "687d7d2e-748d-4958-a5bc-14b37af4d4d9"
      },
      "execution_count": null,
      "outputs": [
        {
          "output_type": "stream",
          "name": "stdout",
          "text": [
            "[ 1  2  3  4  5  6  7  8  9 10]\n"
          ]
        }
      ]
    },
    {
      "cell_type": "code",
      "source": [
        "print(np.array(range(2,11,2)))"
      ],
      "metadata": {
        "colab": {
          "base_uri": "https://localhost:8080/"
        },
        "id": "joL829TKgbeu",
        "outputId": "78c95e6c-c668-431d-ff3b-9f6b3d14fa36"
      },
      "execution_count": null,
      "outputs": [
        {
          "output_type": "stream",
          "name": "stdout",
          "text": [
            "[ 2  4  6  8 10]\n"
          ]
        }
      ]
    },
    {
      "cell_type": "code",
      "source": [
        "print(np.array(range(10,2,-1)))"
      ],
      "metadata": {
        "colab": {
          "base_uri": "https://localhost:8080/"
        },
        "id": "zul0C0qEgggA",
        "outputId": "040088b0-179f-4e41-f67b-15f780bf8ff7"
      },
      "execution_count": null,
      "outputs": [
        {
          "output_type": "stream",
          "name": "stdout",
          "text": [
            "[10  9  8  7  6  5  4  3]\n"
          ]
        }
      ]
    },
    {
      "cell_type": "code",
      "source": [
        "c = np.array([1,2,3,4,5],dtype='f')\n",
        "print(c)"
      ],
      "metadata": {
        "colab": {
          "base_uri": "https://localhost:8080/"
        },
        "id": "DtaF3SfEgi6E",
        "outputId": "026048f6-39ba-4bc2-a503-ac497caddae1"
      },
      "execution_count": null,
      "outputs": [
        {
          "output_type": "stream",
          "name": "stdout",
          "text": [
            "[1. 2. 3. 4. 5.]\n"
          ]
        }
      ]
    },
    {
      "cell_type": "code",
      "source": [
        "d = np.array([[1,2,3],[4,5,6]])\n",
        "print(d)"
      ],
      "metadata": {
        "colab": {
          "base_uri": "https://localhost:8080/"
        },
        "id": "rPMhZjlkg0lS",
        "outputId": "baad93ec-0d1d-40fd-9b98-8d6d82a747d5"
      },
      "execution_count": null,
      "outputs": [
        {
          "output_type": "stream",
          "name": "stdout",
          "text": [
            "[[1 2 3]\n",
            " [4 5 6]]\n"
          ]
        }
      ]
    },
    {
      "cell_type": "code",
      "source": [
        "e = np.array(range(1,13,2)).reshape(2,3)"
      ],
      "metadata": {
        "id": "M2_LgY2DhD3a"
      },
      "execution_count": null,
      "outputs": []
    },
    {
      "cell_type": "code",
      "source": [
        "print(e)"
      ],
      "metadata": {
        "colab": {
          "base_uri": "https://localhost:8080/"
        },
        "id": "7S0khRfYhXoj",
        "outputId": "501ea634-d30f-4bc5-9f71-e4b08c4d24a0"
      },
      "execution_count": null,
      "outputs": [
        {
          "output_type": "stream",
          "name": "stdout",
          "text": [
            "[[ 1  3  5]\n",
            " [ 7  9 11]]\n"
          ]
        }
      ]
    },
    {
      "cell_type": "code",
      "source": [
        "f = np.array([[[1, 2], [3, 4]], [[5, 6], [7, 8]]])\n",
        "print(f)"
      ],
      "metadata": {
        "colab": {
          "base_uri": "https://localhost:8080/"
        },
        "id": "mQt60ALhhY5D",
        "outputId": "c369373c-fb47-42cc-a66b-a96c6930589e"
      },
      "execution_count": null,
      "outputs": [
        {
          "output_type": "stream",
          "name": "stdout",
          "text": [
            "[[[1 2]\n",
            "  [3 4]]\n",
            "\n",
            " [[5 6]\n",
            "  [7 8]]]\n"
          ]
        }
      ]
    },
    {
      "cell_type": "markdown",
      "source": [
        "#2.arange()"
      ],
      "metadata": {
        "id": "VcCGz49XhwOj"
      }
    },
    {
      "cell_type": "code",
      "source": [
        "print(np.array(range(10)))\n",
        "print(np.array(range(1, 11)))\n",
        "print(np.array(range(2, 11, 2)))\n",
        "#print(np.array(range(2, 11, 0.5)))\n",
        "print(np.array(range(10, 2, -1)))\n",
        "#print(np.array(range(10, 2, -0.5)))"
      ],
      "metadata": {
        "colab": {
          "base_uri": "https://localhost:8080/"
        },
        "id": "-noVWTlUh0ok",
        "outputId": "dc41a26f-0737-47bc-dd4b-7401ef4af789"
      },
      "execution_count": null,
      "outputs": [
        {
          "output_type": "stream",
          "name": "stdout",
          "text": [
            "[0 1 2 3 4 5 6 7 8 9]\n",
            "[ 1  2  3  4  5  6  7  8  9 10]\n",
            "[ 2  4  6  8 10]\n",
            "[10  9  8  7  6  5  4  3]\n"
          ]
        }
      ]
    },
    {
      "cell_type": "code",
      "source": [
        "print(np.arange(10))\n",
        "print(np.arange(1, 11))\n",
        "print(np.arange(2, 11, 2))\n",
        "print(np.arange(2, 11, .5))\n",
        "print(np.arange(10, 2, -1))\n",
        "print(np.arange(10, 2, -.5))"
      ],
      "metadata": {
        "colab": {
          "base_uri": "https://localhost:8080/"
        },
        "id": "M0SCFLa-h8tB",
        "outputId": "47444c8b-91b3-411b-eaab-3c8ee5660d26"
      },
      "execution_count": null,
      "outputs": [
        {
          "output_type": "stream",
          "name": "stdout",
          "text": [
            "[0 1 2 3 4 5 6 7 8 9]\n",
            "[ 1  2  3  4  5  6  7  8  9 10]\n",
            "[ 2  4  6  8 10]\n",
            "[ 2.   2.5  3.   3.5  4.   4.5  5.   5.5  6.   6.5  7.   7.5  8.   8.5\n",
            "  9.   9.5 10.  10.5]\n",
            "[10  9  8  7  6  5  4  3]\n",
            "[10.   9.5  9.   8.5  8.   7.5  7.   6.5  6.   5.5  5.   4.5  4.   3.5\n",
            "  3.   2.5]\n"
          ]
        }
      ]
    },
    {
      "cell_type": "markdown",
      "source": [
        "#3.다양한 배열"
      ],
      "metadata": {
        "id": "ZEvphcSKiuKq"
      }
    },
    {
      "cell_type": "code",
      "source": [
        "g = e.ravel()"
      ],
      "metadata": {
        "id": "zUA4XMBFiEJa"
      },
      "execution_count": null,
      "outputs": []
    },
    {
      "cell_type": "code",
      "source": [
        "print(g)"
      ],
      "metadata": {
        "colab": {
          "base_uri": "https://localhost:8080/"
        },
        "id": "-PkiBsOKjJU1",
        "outputId": "18a36d77-4cb7-49bb-cb14-3dabfd37c115"
      },
      "execution_count": null,
      "outputs": [
        {
          "output_type": "stream",
          "name": "stdout",
          "text": [
            "[ 1  3  5  7  9 11]\n"
          ]
        }
      ]
    },
    {
      "cell_type": "code",
      "source": [
        "h = np.zeros((2,2))"
      ],
      "metadata": {
        "id": "ptEOw-zHjLC_"
      },
      "execution_count": null,
      "outputs": []
    },
    {
      "cell_type": "code",
      "source": [
        "print(h)"
      ],
      "metadata": {
        "colab": {
          "base_uri": "https://localhost:8080/"
        },
        "id": "Yt1X6jmtjZJU",
        "outputId": "0ee40410-2423-4383-8100-2ccccdecea0a"
      },
      "execution_count": null,
      "outputs": [
        {
          "output_type": "stream",
          "name": "stdout",
          "text": [
            "[[0. 0.]\n",
            " [0. 0.]]\n"
          ]
        }
      ]
    },
    {
      "cell_type": "code",
      "source": [
        "i = np.ones((2,2))"
      ],
      "metadata": {
        "id": "vV_UrbtZjc32"
      },
      "execution_count": null,
      "outputs": []
    },
    {
      "cell_type": "code",
      "source": [
        "print(i)"
      ],
      "metadata": {
        "colab": {
          "base_uri": "https://localhost:8080/"
        },
        "id": "CC2tf0WBjkhE",
        "outputId": "16a8e4af-b5bd-4ee5-fccd-ea13132e35f5"
      },
      "execution_count": null,
      "outputs": [
        {
          "output_type": "stream",
          "name": "stdout",
          "text": [
            "[[1. 1.]\n",
            " [1. 1.]]\n"
          ]
        }
      ]
    },
    {
      "cell_type": "code",
      "source": [
        "j = np.full((2,2),10)"
      ],
      "metadata": {
        "id": "colY011PjmT0"
      },
      "execution_count": null,
      "outputs": []
    },
    {
      "cell_type": "code",
      "source": [
        "print(j)"
      ],
      "metadata": {
        "colab": {
          "base_uri": "https://localhost:8080/"
        },
        "id": "NuJi_LP4jstF",
        "outputId": "7e92216f-e49f-4822-f771-73c6631b6df2"
      },
      "execution_count": null,
      "outputs": [
        {
          "output_type": "stream",
          "name": "stdout",
          "text": [
            "[[10 10]\n",
            " [10 10]]\n"
          ]
        }
      ]
    },
    {
      "cell_type": "code",
      "source": [
        "k = np.eye(4)"
      ],
      "metadata": {
        "id": "00xCOmRajtr8"
      },
      "execution_count": null,
      "outputs": []
    },
    {
      "cell_type": "code",
      "source": [
        "print(k)"
      ],
      "metadata": {
        "colab": {
          "base_uri": "https://localhost:8080/"
        },
        "id": "nGwY3CeCj4cX",
        "outputId": "cf3867df-94c9-4ed3-a405-dfc4ff151f8a"
      },
      "execution_count": null,
      "outputs": [
        {
          "output_type": "stream",
          "name": "stdout",
          "text": [
            "[[1. 0. 0. 0.]\n",
            " [0. 1. 0. 0.]\n",
            " [0. 0. 1. 0.]\n",
            " [0. 0. 0. 1.]]\n"
          ]
        }
      ]
    },
    {
      "cell_type": "markdown",
      "source": [
        "#4.문제풀이"
      ],
      "metadata": {
        "id": "0l6eNSJBj8k7"
      }
    },
    {
      "cell_type": "code",
      "source": [
        "#4.1\n",
        "arr1 = np.array([1, 2, 3])\n",
        "arr2 = np.array([4, 5, 6])\n",
        "arr3 = np.array([7, 8, 9, 10])\n",
        "\n",
        "concat = np.concatenate((arr1,arr2,arr3))"
      ],
      "metadata": {
        "id": "dEfCJAV1kBAI"
      },
      "execution_count": null,
      "outputs": []
    },
    {
      "cell_type": "code",
      "source": [
        "print(concat)"
      ],
      "metadata": {
        "colab": {
          "base_uri": "https://localhost:8080/"
        },
        "id": "m8eBm6OIkLsi",
        "outputId": "349c759b-4e81-4eff-b16b-77861cf6cef6"
      },
      "execution_count": null,
      "outputs": [
        {
          "output_type": "stream",
          "name": "stdout",
          "text": [
            "[ 1  2  3  4  5  6  7  8  9 10]\n"
          ]
        }
      ]
    },
    {
      "cell_type": "code",
      "source": [
        "#4.2\n",
        "arr = np.array([[1, 2, 3],\n",
        "                [4, 5, 6],\n",
        "                [7, 8, 9]])\n",
        "\n",
        "# mean() 함수 응용하기\n",
        "\n",
        "arr1 = np.mean([arr[0]])\n",
        "arr2 = np.mean([arr[1]])\n",
        "arr3 = np.mean([arr[2]])\n",
        "mean = ([arr1,arr2,arr3])"
      ],
      "metadata": {
        "id": "K3qMnvODkVJv"
      },
      "execution_count": null,
      "outputs": []
    },
    {
      "cell_type": "code",
      "source": [
        "print(mean)"
      ],
      "metadata": {
        "colab": {
          "base_uri": "https://localhost:8080/"
        },
        "id": "MDRDGuxGkhNc",
        "outputId": "5d692115-cffc-4a8e-a4e2-e1ead711bb47"
      },
      "execution_count": null,
      "outputs": [
        {
          "output_type": "stream",
          "name": "stdout",
          "text": [
            "[2.0, 5.0, 8.0]\n"
          ]
        }
      ]
    },
    {
      "cell_type": "code",
      "source": [
        "#4.3\n",
        "arr = np.array([[1, 2, 3],\n",
        "                [4, 5, 6],\n",
        "                [7, 8, 9]])\n",
        "arr1 = np.max([arr[0]])\n",
        "arr2 = np.max([arr[1]])\n",
        "arr3 = np.max([arr[2]])\n",
        "max = ([arr1,arr2,arr3])"
      ],
      "metadata": {
        "id": "_-8faaF6kiq6"
      },
      "execution_count": null,
      "outputs": []
    },
    {
      "cell_type": "code",
      "source": [
        "print(max)"
      ],
      "metadata": {
        "colab": {
          "base_uri": "https://localhost:8080/"
        },
        "id": "KxxzWT0ZnW0e",
        "outputId": "88aaf3a5-b979-4474-e399-0804bd02ab22"
      },
      "execution_count": null,
      "outputs": [
        {
          "output_type": "stream",
          "name": "stdout",
          "text": [
            "[3, 6, 9]\n"
          ]
        }
      ]
    },
    {
      "cell_type": "code",
      "source": [
        "#4.4  0에서 1사이의 값으로 크기 10개의 1차원 배열\n",
        "np.linspace(0,1,10)"
      ],
      "metadata": {
        "id": "uyAYhOgunahI",
        "colab": {
          "base_uri": "https://localhost:8080/"
        },
        "outputId": "ec3ab4a2-8b07-4dcf-f97f-5e47543a8173"
      },
      "execution_count": 45,
      "outputs": [
        {
          "output_type": "execute_result",
          "data": {
            "text/plain": [
              "array([0.        , 0.11111111, 0.22222222, 0.33333333, 0.44444444,\n",
              "       0.55555556, 0.66666667, 0.77777778, 0.88888889, 1.        ])"
            ]
          },
          "metadata": {},
          "execution_count": 45
        }
      ]
    },
    {
      "cell_type": "code",
      "source": [
        "#4.5\n",
        "arr = np.array([1, 2, 3, 4, 5, 6, 7, 8, 9, 10])\n",
        "\n",
        "def sum_of_evens(arr):\n",
        "    evens = arr[arr % 2 == 0]\n",
        "    return np.sum(evens)\n"
      ],
      "metadata": {
        "id": "9GvUFuUkn_Wg"
      },
      "execution_count": 46,
      "outputs": []
    },
    {
      "cell_type": "code",
      "source": [
        "sum_of_evens(arr)"
      ],
      "metadata": {
        "colab": {
          "base_uri": "https://localhost:8080/"
        },
        "id": "Mb6NGlnXpf2M",
        "outputId": "f0355b58-9e7f-4e57-819b-0e207473f7d4"
      },
      "execution_count": 47,
      "outputs": [
        {
          "output_type": "execute_result",
          "data": {
            "text/plain": [
              "30"
            ]
          },
          "metadata": {},
          "execution_count": 47
        }
      ]
    },
    {
      "cell_type": "code",
      "source": [
        "#4.6\n",
        "arr = np.arange(1, 13).reshape((3, 4))\n",
        "print(\"원본 배열:\")\n",
        "print(arr)"
      ],
      "metadata": {
        "colab": {
          "base_uri": "https://localhost:8080/"
        },
        "id": "pPPITfCkpi2L",
        "outputId": "d4ca2fb3-ee98-49f1-f26d-6c08880012d0"
      },
      "execution_count": 48,
      "outputs": [
        {
          "output_type": "stream",
          "name": "stdout",
          "text": [
            "원본 배열:\n",
            "[[ 1  2  3  4]\n",
            " [ 5  6  7  8]\n",
            " [ 9 10 11 12]]\n"
          ]
        }
      ]
    },
    {
      "cell_type": "code",
      "source": [
        "arr_split = np.hsplit(arr, 2)\n",
        "print(\"수평 분할 결과:\")\n",
        "print(arr_split)\n",
        "\n",
        "arr_1 = arr_split[0]\n",
        "arr_2 = arr_split[1]\n",
        "arr_stack = np.hstack((arr_1, arr_2))\n",
        "print(arr_stack)"
      ],
      "metadata": {
        "colab": {
          "base_uri": "https://localhost:8080/"
        },
        "id": "V9Bb0pmpp1wS",
        "outputId": "092aa7de-c1f7-4470-cca4-49a9a6e8fe57"
      },
      "execution_count": 51,
      "outputs": [
        {
          "output_type": "stream",
          "name": "stdout",
          "text": [
            "수평 분할 결과:\n",
            "[array([[ 1,  2],\n",
            "       [ 5,  6],\n",
            "       [ 9, 10]]), array([[ 3,  4],\n",
            "       [ 7,  8],\n",
            "       [11, 12]])]\n",
            "[[ 1  2  3  4]\n",
            " [ 5  6  7  8]\n",
            " [ 9 10 11 12]]\n"
          ]
        }
      ]
    },
    {
      "cell_type": "code",
      "source": [],
      "metadata": {
        "id": "39MaDV7sq1eP"
      },
      "execution_count": null,
      "outputs": []
    }
  ]
}