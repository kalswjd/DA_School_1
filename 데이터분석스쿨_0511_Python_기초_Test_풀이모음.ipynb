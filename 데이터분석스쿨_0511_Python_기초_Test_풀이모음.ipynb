{
  "nbformat": 4,
  "nbformat_minor": 0,
  "metadata": {
    "colab": {
      "provenance": [],
      "authorship_tag": "ABX9TyPYQeuYY44w8ReaEsumrSTi",
      "include_colab_link": true
    },
    "kernelspec": {
      "name": "python3",
      "display_name": "Python 3"
    },
    "language_info": {
      "name": "python"
    }
  },
  "cells": [
    {
      "cell_type": "markdown",
      "metadata": {
        "id": "view-in-github",
        "colab_type": "text"
      },
      "source": [
        "<a href=\"https://colab.research.google.com/github/kalswjd/DA_School_1/blob/main/%EB%8D%B0%EC%9D%B4%ED%84%B0%EB%B6%84%EC%84%9D%EC%8A%A4%EC%BF%A8_0511_Python_%EA%B8%B0%EC%B4%88_Test_%ED%92%80%EC%9D%B4%EB%AA%A8%EC%9D%8C.ipynb\" target=\"_parent\"><img src=\"https://colab.research.google.com/assets/colab-badge.svg\" alt=\"Open In Colab\"/></a>"
      ]
    },
    {
      "cell_type": "markdown",
      "source": [
        "#Python 기초 Test\n",
        "https://paullabworkspace.notion.site/Python-Test-92ae001a14bb4fff96cb58b8455ba749#aaaa4ec66da944ac83a8a269c9cca242"
      ],
      "metadata": {
        "id": "d1J2p2a86uvP"
      }
    },
    {
      "cell_type": "markdown",
      "source": [
        "## 1.시간 출력하기"
      ],
      "metadata": {
        "id": "okEebSqY7CU1"
      }
    },
    {
      "cell_type": "code",
      "execution_count": 1,
      "metadata": {
        "colab": {
          "base_uri": "https://localhost:8080/"
        },
        "id": "nFHqlVex6gVh",
        "outputId": "b85b9f0f-16eb-4220-cc70-e8fbe5e2d21e"
      },
      "outputs": [
        {
          "output_type": "stream",
          "name": "stdout",
          "text": [
            "time : 4.8160552978515625e-05\n"
          ]
        }
      ],
      "source": [
        "import time\n",
        "start_time = time.time()\n",
        "#프로그램 소스코드\n",
        "end_time = time.time()\n",
        "print('time :',end_time - start_time)"
      ]
    },
    {
      "cell_type": "markdown",
      "source": [
        "## 2.for/while/if"
      ],
      "metadata": {
        "id": "OUZWQQ8H71RE"
      }
    },
    {
      "cell_type": "code",
      "source": [
        "#1. 1 ~ 9 까지 더하는 프로그램을 만드시오.\n",
        "summary = 0\n",
        "for i in range(1,10):\n",
        "    summary += i\n",
        "print(summary)"
      ],
      "metadata": {
        "colab": {
          "base_uri": "https://localhost:8080/"
        },
        "id": "LJtLBDLV7uwJ",
        "outputId": "9029bb03-746c-455f-9c3f-5998ae08af37"
      },
      "execution_count": 2,
      "outputs": [
        {
          "output_type": "stream",
          "name": "stdout",
          "text": [
            "45\n"
          ]
        }
      ]
    },
    {
      "cell_type": "code",
      "source": [
        "#2. 1 ~ 9 까지 홀수의 합을 구하는 프로그램을 만드시오.\n"
      ],
      "metadata": {
        "id": "2Z38Zvx18fDf"
      },
      "execution_count": null,
      "outputs": []
    }
  ]
}